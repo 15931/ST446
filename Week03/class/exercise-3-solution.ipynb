{
 "cells": [
  {
   "cell_type": "markdown",
   "metadata": {},
   "source": [
    "# ST446 Distributed Computing for Big Data\n",
    "\n",
    "## Week 3 class: Word count using Pyspark\n",
    "\n",
    "### LT 2020"
   ]
  },
  {
   "cell_type": "code",
   "execution_count": 1,
   "metadata": {},
   "outputs": [],
   "source": [
    "# 1. Word count\n",
    "def get_author_from_line(line):\n",
    "    words = line.split(\"\\t\", 1)\n",
    "    return (words[0])\n",
    "\n",
    "text_file = sc.textFile('gs://bucket-simon/author-large.txt') # update the file location\n",
    "counts = text_file.map(lambda line: (get_author_from_line(line), 1)) \\\n",
    "             .sortByKey(ascending=True) \\\n",
    "             .reduceByKey(lambda a, b: a + b)\n",
    "\n",
    "# counts.saveAsTextFile(\"../../dblp/word-count-output\")"
   ]
  },
  {
   "cell_type": "code",
   "execution_count": 2,
   "metadata": {},
   "outputs": [
    {
     "name": "stdout",
     "output_type": "stream",
     "text": [
      "Wen Gao: 370\n",
      "Philip S. Yu: 370\n",
      "Thomas S. Huang: 368\n",
      "Edwin R. Hancock: 353\n",
      "Mahmut T. Kandemir: 346\n",
      "Mario Piattini: 320\n",
      "Wei Li: 319\n",
      "Elisa Bertino: 319\n",
      "Sudhakar M. Reddy: 314\n",
      "Alberto L. Sangiovanni-Vincentelli: 309\n",
      "Wei Wang: 295\n",
      "Jiawei Han: 289\n",
      "Makoto Takizawa: 273\n",
      "Irith Pomeranz: 272\n",
      "Wei Zhang: 270\n",
      "Lei Zhang: 269\n",
      "Ming Li: 268\n",
      "Li Zhang: 267\n",
      "Hai Jin: 262\n",
      "Hector Garcia-Molina: 258\n",
      "Moshe Y. Vardi: 257\n",
      "Hans-Peter Kriegel: 255\n",
      "Kaushik Roy: 251\n",
      "Hans-Peter Seidel: 251\n",
      "Francky Catthoor: 248\n",
      "Tharam S. Dillon: 245\n",
      "Moti Yung: 242\n",
      "Katsumi Tanaka: 235\n",
      "Qing Li: 235\n",
      "Yan Zhang: 233\n"
     ]
    }
   ],
   "source": [
    "# 2. Sort the output\n",
    "output = counts.takeOrdered(30, key = lambda x: -x[1]) # this function sorts by key(value)\n",
    "for word, count in output:\n",
    "    print (word + ': ' + str(count))"
   ]
  }
 ],
 "metadata": {
  "kernelspec": {
   "display_name": "Python 3",
   "language": "python",
   "name": "python3"
  },
  "language_info": {
   "codemirror_mode": {
    "name": "ipython",
    "version": 3
   },
   "file_extension": ".py",
   "mimetype": "text/x-python",
   "name": "python",
   "nbconvert_exporter": "python",
   "pygments_lexer": "ipython3",
   "version": "3.8.5"
  }
 },
 "nbformat": 4,
 "nbformat_minor": 2
}

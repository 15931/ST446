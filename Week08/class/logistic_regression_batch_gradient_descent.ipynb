{
 "cells": [
  {
   "cell_type": "markdown",
   "metadata": {},
   "source": [
    "# ST446 Distributed Computing for Big Data\n",
    "## Seminar class 7: Scalable machine learning I\n",
    "\n",
    "In this notebook we provide a simple implementation of batch gradient descent for logistic regression.  This implementation is not what you would use in practice, but it helps to understand the underlying concepts.\n",
    "\n",
    "We also demonstrate how the number of iterations affects the training error.\n",
    "\n",
    "We start by using the sample data set `sample_svm_data.txt`. \n",
    "\n",
    "Reference: https://github.com/apache/spark/blob/master/examples/src/main/python/logistic_regression.py"
   ]
  },
  {
   "cell_type": "markdown",
   "metadata": {},
   "source": [
    "### Strategy\n",
    "Recall that to train the logistic regression model, we will need the gradient of the losss function with respect to the weights $\\vec{w}$. The gradient will have entries \n",
    "$$\\frac{\\partial}{\\partial w_i} f(\\vec{w},\\text{data}),$$ \n",
    "where the loss function $f$ for given data is the negative log-likelihood $f(\\vec{w},\\text{data}) = -\\ell(\\vec{w})$. Our data consists of features $\\vec{x}_i$ and labels $y_i$ with $i = 1,\\dots, m$.\n",
    "\n",
    "For logistic regression, we know from the lecture that the log-likelihood is\n",
    "$$\n",
    "\\ell(\\vec{w}) = \\frac{1}{m}\\sum_{i=1}^m \\left[y_i \\vec{x}_i \\cdot \\vec{w} - \\log\\left(1+e^{\\vec{x}_i \\cdot \\vec{w}}\\right)\\right].\n",
    "$$\n",
    "Hence, our job is to implement the gradient (here written as a row vector)\n",
    "$$\n",
    "\\nabla \\ell(\\vec{w}) = \\frac{1}{m} \\sum_i \\left(y_i \\vec{x}_i - \\frac{e^{\\vec{x}_i \\cdot \\vec{w}}}{1+e^{\\vec{x}_i \\cdot \\vec{w}}} \\vec{x}_i\\right) \\\\ = \\sum_i \\frac{1}{m} \\vec{x}_i \\left( y_i - \\frac{1}{1+e^{-\\vec{x}_i \\cdot \\vec{w}}}\\right)\n",
    "$$\n",
    "such that we can perform steps towards the minimum of the loss function\n",
    "$$\n",
    "\\vec{w}_{t+1} = \\vec{w}_t -  \\eta_t\\nabla f(\\vec{w}_t,\\text{data}) \\\\\n",
    "= \\vec{w}_t + \\frac{\\eta_t}{m}  \\left[  \\sum_i \\vec{x}_i \\left( y_i - \\frac{1}{1+e^{-\\vec{x}_i \\cdot \\vec{w}}}\\right) \\right] \n",
    "$$\n",
    "As we can see below, we will store the data in numpy matrices, such that this gradient can be computed  entirely with numpy functions.\n",
    "\n",
    "Instead of computing this sum for all indices $i$ at once, we can split the training data into, say, 5 batches $B_j$ of size $n = m/5$. Also, we will convert everything to row vectors.\n",
    "This means, we will get\n",
    "$$\n",
    "\\vec{w}_{t+1}^\\top = \\vec{w}_t^\\top - \\frac{\\eta_t}{5}  \\sum_{j=1}^5\\left\\{ \\frac{1}{n} \\sum_{i\\in B_j} \\vec{x}^\\top_i \\left( y_i - \\frac{1}{1+e^{-\\vec{x}_i \\cdot \\vec{w}}}\\right) \\right\\} \\quad (\\star)\n",
    "$$\n",
    "Note that we really did nothing here!\n",
    "\n",
    "Now, the term in $\\{\\}$ can be computed by separate workers on separate partitions of an RDD.\n",
    "This is a map step.\n",
    "\n",
    "Then, we can perform the outer sum as reduce step, which requires workers to talk to the master.\n",
    "\n",
    "Next, we update the weight vector $\\vec{w}_{t} \\to \\vec{w}_{t+1} = \\vec{w}_{t} +\\eta_t (\\dots)$. Because the weight vector is small (here is has length 16), we can easily do this on the master node.\n",
    "\n",
    "Please sure you understand where the different parts of $(\\star)$ show up in the code below!"
   ]
  },
  {
   "cell_type": "code",
   "execution_count": 1,
   "metadata": {},
   "outputs": [],
   "source": [
    "# change to where Spark lives on your machine/compute engine (usually $SPARK_HOME)\n",
    "spark_home = \"file:///usr/lib/spark\""
   ]
  },
  {
   "cell_type": "markdown",
   "metadata": {},
   "source": [
    "### Implementation\n",
    "\n",
    "The key idea is that we will load the data into an RDD and use the RDD's partitioning as our batches.\n",
    "We then use `mapPartitions` to apply a partition-wise function to format the data as a numpy array in the right shape. This will allow us to call optimised (i.e. fast) numpy functions for each partition.\n",
    "\n",
    "![GD](./fig/distributedGD.png)"
   ]
  },
  {
   "cell_type": "code",
   "execution_count": 3,
   "metadata": {},
   "outputs": [],
   "source": [
    "# import necessary libraries\n",
    "import sys\n",
    "import numpy as np\n",
    "import os\n",
    "import matplotlib.pyplot as plt\n",
    "%matplotlib inline"
   ]
  },
  {
   "cell_type": "code",
   "execution_count": 4,
   "metadata": {},
   "outputs": [],
   "source": [
    "# input\n",
    "D = 16             # Number of dimensions (size of weight vector)\n",
    "iterations = 200   # Number of iterations\n",
    "\n",
    "# Read a batch of points from the input file into a NumPy matrix object. We operate on batches to\n",
    "# make further computations faster.\n",
    "# The data file contains lines of the form <label> <x1> <x2> ... <xD>. We load each block of these\n",
    "# into a NumPy array of size numLines * (D + 1) and pull out column 0 vs the others in gradient().\n",
    "def readPointBatch(iterator):\n",
    "    strs = list(iterator)\n",
    "    matrix = np.zeros((len(strs), D + 1))\n",
    "    for i, s in enumerate(strs):\n",
    "        matrix[i] = np.fromstring(s, dtype=np.float32, sep=' ')\n",
    "    return [matrix]\n",
    "\n",
    "# dataset to be used\n",
    "# here we will be using the partitions as batches.\n",
    "points = spark.read.text(spark_home+\"/data/mllib/sample_svm_data.txt\").rdd.repartition(5)\n",
    "\n",
    "# number of data points\n",
    "n = points.count() \n",
    "\n",
    "# see explanation in the next cell\n",
    "points = points.map(lambda r: r[0])\\\n",
    "    .mapPartitions(readPointBatch).cache() "
   ]
  },
  {
   "cell_type": "markdown",
   "metadata": {},
   "source": [
    "`mapPartition` operates on individual partitions of the RDD, that is, the `for` loop inside `readPointBatch` will iterate though the elements of each partition.\n",
    "Here, caching the data prevents future re-loading of the data upon each lazy evaluation. This is important, as we will later use it in each iteration of the gradient descent."
   ]
  },
  {
   "cell_type": "code",
   "execution_count": 5,
   "metadata": {},
   "outputs": [
    {
     "name": "stdout",
     "output_type": "stream",
     "text": [
      "Initial w: [ 0.80447849  0.58412445  0.88865674 -0.57983304 -0.13572482  0.1102371\n",
      "  0.97465562 -0.9534808  -0.69847927 -0.63210783  0.39723133 -0.34048155\n",
      " -0.40044425  0.27824074  0.18882086 -0.73738064]\n",
      "*** On iteration 50 ***\n",
      "Gradient descent:  [ 0.40984691  0.30165578  0.39996973 -0.38815515 -0.00945966  0.03082005\n",
      "  0.35824087 -0.29805962 -0.21545777 -0.21545777  0.0241376  -0.07573616\n",
      " -0.32667583  0.06440437 -0.03940016 -0.29728247]\n",
      "Current w:  [ 0.24396379  0.21258616  0.30056597 -0.08571358 -0.23439455 -0.06501694\n",
      "  0.38614501 -0.69331102 -0.12742544 -0.061054    0.4295895  -0.34451543\n",
      " -0.02610691  0.19775516  0.23076987 -0.4380877 ]\n",
      "Total error: 0.4409937888198758\n",
      "*** On iteration 100 ***\n",
      "Gradient descent:  [ 0.15704631  0.09376574  0.11783044 -0.15949301 -0.03229026 -0.02056571\n",
      "  0.08312746 -0.13214796 -0.02908986 -0.02908986  0.03388195 -0.06624602\n",
      " -0.09886752  0.11665199  0.09070388 -0.10750354]\n",
      "Current w:  [-0.0188042   0.02890333  0.0654804   0.17865693 -0.20304101 -0.05520608\n",
      "  0.19366239 -0.48248681 -0.03563994  0.0307315   0.39573501 -0.262904\n",
      "  0.17129997  0.10291042  0.20394604 -0.23485383]\n",
      "Total error: 0.40062111801242234\n",
      "*** On iteration 150 ***\n",
      "Gradient descent:  [ 0.0633365   0.02183904  0.02918551 -0.05346791 -0.01576963 -0.00848399\n",
      "  0.01022804 -0.05487935 -0.0058789  -0.0058789   0.02437373 -0.02842501\n",
      " -0.06158944  0.07476277  0.08852708 -0.07414759]\n",
      "Current w:  [-0.12017299 -0.02032683  0.00249225  0.27488059 -0.17958834 -0.04084202\n",
      "  0.15634028 -0.39577971 -0.02232769  0.04404375  0.36667054 -0.21793732\n",
      "  0.24682394  0.00841181  0.10982511 -0.14847733]\n",
      "Total error: 0.37888198757763975\n",
      "*** Final w: [-0.1629251  -0.03141367 -0.01244786  0.30711783 -0.16906283 -0.03590079\n",
      "  0.15612523 -0.35825692 -0.01849016  0.04788128  0.34654977 -0.19961561\n",
      "  0.29963299 -0.05302986  0.03376405 -0.08297327]***\n"
     ]
    },
    {
     "data": {
      "image/png": "[encoded data removed]",
      "text/plain": [
       "<Figure size 432x288 with 1 Axes>"
      ]
     },
     "metadata": {
      "needs_background": "light"
     },
     "output_type": "display_data"
    }
   ],
   "source": [
    "# Initialize w to a random values in [-1,1].\n",
    "w = 2 * np.random.ranf(size=D) - 1\n",
    "print(\"Initial w: \" + str(w))\n",
    "\n",
    "# Compute logistic regression gradient for a matrix of data points\n",
    "def gradient(matrix, w):\n",
    "    Y = matrix[:, 0]    # point labels (first column of input file)\n",
    "    X = matrix[:, 1:]   # point coordinates\n",
    "    \n",
    "    # For each point (x, y), compute gradient function \n",
    "    # (see the lecture note \"gradient descent for logistic regression\")\n",
    "    # and take the average of it\n",
    "    # note the minus sign is needed because minimizing the loss function is equal to \n",
    "    # minimizing the negative log likelihood\n",
    "    return -(X.T * (Y - 1.0/(1.0+np.exp(-X.dot(w))))).sum(1) / len(Y)\n",
    "\n",
    "def add(x, y):\n",
    "    x += y\n",
    "    return x\n",
    "\n",
    "# calculate classification error\n",
    "def pred_err(matrix, w):\n",
    "    Y = matrix[:, 0]\n",
    "    X = matrix[:, 1:]\n",
    "    # this is the number of miss-classified examples.\n",
    "    err = sum(Y!=(1.0/(1.0+np.exp(-X.dot(w)))>0.5))  \n",
    "    return (err)\n",
    "\n",
    "# train the model using gradient descent with step size eta\n",
    "eta = 0.1\n",
    "err = np.zeros(iterations)\n",
    "\n",
    "for i in range(iterations):\n",
    "    g = points.map(lambda m: gradient(m, w)) # compute batch gradient at point w\n",
    "    num_batch = g.getNumPartitions()\n",
    "    g = g.reduce(add)                        # compute sum of batch gradients \n",
    "    # use eta as the step size\n",
    "    w -= eta/num_batch * g                   # convert sum to average gradient and perform gradient descent step \n",
    "    err[i] = points.map(lambda m: pred_err(m, w)).reduce(add)/float(n)\n",
    "    \n",
    "    if (i + 1) % 50 == 0 and i+1 != iterations:\n",
    "        print(\"*** On iteration %i ***\" % (i + 1))\n",
    "        print(\"Gradient descent: \", str(g))\n",
    "        print(\"Current w: \", str(w))\n",
    "        print(\"Total error:\", err[i])\n",
    "\n",
    "print(\"*** Final w: \" + str(w) + \"***\")\n",
    "\n",
    "# plot the training error over time\n",
    "plt.plot(err)\n",
    "plt.xlabel(\"Iteration\")\n",
    "plt.ylabel(\"Trainning error\")\n",
    "plt.xticks(np.arange(0, iterations+1, 20));"
   ]
  },
  {
   "cell_type": "markdown",
   "metadata": {
    "collapsed": true
   },
   "source": [
    "### Further discussions and activities"
   ]
  },
  {
   "cell_type": "markdown",
   "metadata": {},
   "source": [
    "#### Termination criterion\n",
    "\n",
    "In the optimisation above, we fix the number of iterations of gradient descent in advance. However, choosing the right number of iterations is tricky: fewer iterations leads to underfitting and more iterations will take more time.\n",
    "Instead, people use termination criterion to stop the optimisation.\n",
    "We will specify a precision parameter $\\epsilon > 0$ and run $T(\\epsilon)$ rounds:\n",
    "\n",
    "$$\n",
    "T(\\epsilon) = \\min \\{t\\geq 1: ||\\vec{w}_{t} - \\vec{w}_{t-1}||_\\infty \\leq \\epsilon\\}\n",
    "$$\n",
    "\n",
    "Can you plot $T(\\epsilon)$ as a function of $\\epsilon$? \n",
    "\n",
    "(hint: log-log plot)\n"
   ]
  },
  {
   "cell_type": "markdown",
   "metadata": {},
   "source": [
    "#### Computation speedup from data parallelism\n",
    "\n",
    "Dividing the data into batches and run the computation on batches in parallel is called [data parallelism](https://en.wikipedia.org/wiki/Data_parallelism).\n",
    "Choosing the right number of batches can be also tricky: more batches lead to smaller matrix size in each batches and as a result we might lose the speedup from the highly optimised linear algebra library, e.g. `numpy`\n",
    "\n",
    "Can you plot the computation time as a function of the number of batches?"
   ]
  },
  {
   "cell_type": "markdown",
   "metadata": {},
   "source": [
    "#### Real applications: Criteo CTR prediction challenge\n",
    "\n",
    "In the lecture, we introduced the [Criteo Ads click dataset](https://labs.criteo.com/2013/12/download-terabyte-click-logs/). \n",
    "\n",
    "Can you train a logistic regression model to predict the CTR using the Day 0 data from Criteo?"
   ]
  },
  {
   "cell_type": "code",
   "execution_count": null,
   "metadata": {},
   "outputs": [],
   "source": []
  }
 ],
 "metadata": {
  "kernelspec": {
   "display_name": "Python 3",
   "language": "python",
   "name": "python3"
  },
  "language_info": {
   "codemirror_mode": {
    "name": "ipython",
    "version": 3
   },
   "file_extension": ".py",
   "mimetype": "text/x-python",
   "name": "python",
   "nbconvert_exporter": "python",
   "pygments_lexer": "ipython3",
   "version": "3.8.3"
  }
 },
 "nbformat": 4,
 "nbformat_minor": 2
}

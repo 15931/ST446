{
 "cells": [
  {
   "cell_type": "markdown",
   "metadata": {},
   "source": [
    "# ST446 Distributed Computing for Big Data\n",
    "\n",
    "## Week 05 class: Stack Exchange Data Analysis\n",
    "\n",
    "### LT 2021\n",
    "---\n",
    "\n",
    "<img align=center src="./figs/se-logo.png" width=600>\n",
    "\n",
    "Stack Exchange (https://stackexchange.com/) is a network of question-and-answer (Q&A) websites on topics in varied fields, each site covering a specific topic. All sites in the network are modelled after the initial site Stack Overflow (https://stackoverflow.com), a Q&A site for computer programming questions.\n",
    "\n",
    "An anonymized dump of all user-contributed content on the Stack Exchange network is available from https://archive.org/details/stackexchange. Each site is formatted as a separate archive consisting of XML files (zipped via 7-zip using bzip2 compression). Each site archive includes Posts, Users, Tags, Votes, Comments, PostHistory and PostLinks (among other data structures - see <a href=\"https://meta.stackexchange.com/questions/2677/database-schema-documentation-for-the-public-data-dump-and-sede\">here</a>). \n",
    "\n",
    "<img src="./figs/StackExchangeDataModel_2.png" width=800>\n",
    "\n",
    "In this notebook, we analyze user-contributions in Stack Exchange using Spark GraphFrames package and the associated API. We will:\n",
    "\n",
    "* import the data into Spark GraphFrames and perform some basic data exploration\n",
    "* build graphs and run some queries to understand graph concepts and properties\n",
    "* run PageRank analysis and motif queries\n",
    "* perform joint (bipartite and tripartite) graph analysis"
   ]
  },
  {
   "cell_type": "markdown",
   "metadata": {},
   "source": [
    "## Preliminaries\n",
    "\n",
    "### Cluster initialization\n",
    "\n",
    "This notebook uses two packages: [spark-xml](https://github.com/databricks/spark-xml) (for importing data from XML files) and [graphframes](https://graphframes.github.io/graphframes/docs/_site/index.html) (for working with Spark GraphFrames). \n",
    "\n",
    "When creating your Dataproc cluster, you should include them in your script as below. Notice that we are also asking for additional components (Anaconda and Jupyter) and enabling the component gateway for Web access.\n",
    "\n",
    "```\n",
    "gcloud beta dataproc clusters create kaifang-cluster --properties=^#^spark:spark.jars.packages=graphframes:graphframes:0.5.0-spark2.1-s_2.11,com.databricks:spark-xml_2.11:0.4.1 --subnet default --enable-component-gateway --region europe-west2 --zone europe-west2-c --master-machine-type n1-standard-4 --master-boot-disk-size 500 --num-workers 2 --worker-machine-type n1-standard-4 --worker-boot-disk-size 500 --image-version 1.3-debian10 --optional-components ANACONDA,JUPYTER --project st446-2021-lt --metadata 'PIP_PACKAGES=sklearn nltk pandas graphframes'\n",
    "```"
   ]
  },
  {
   "cell_type": "markdown",
   "metadata": {},
   "source": [
    "### Local execution\n",
    "\n",
    "You if intend to run this code locally on your computer, you can use these two packages in PySpark in one of the following ways:\n",
    "\n",
    "1) make sure Spark and PySpark are properly installed on your machine (see instructions for <a href=\"https://towardsdatascience.com/installing-apache-pyspark-on-windows-10-f5f0c506bea1\">Windows 10</a> and <a href=\"https://www.datacamp.com/community/tutorials/installation-of-pyspark\">all operating systems</a>).\n",
    "\n",
    "2) make sure you have configured all environment variables (as indicated at the instructions in the previous steps).\n",
    "\n",
    "3) add the GraphFrames package information to the Spark config file (<b>check which versions of spark-xml and graphframes were installed during step 1</b>): add `spark.jars.packages com.databricks:spark-xml_2.11:0.4.1,graphframes:graphframes:0.5.0-spark2.1-s_2.11` to $SPARK_HOME/conf/spark-defaults.conf and run `pyspark` in a command line interface.\n",
    "\n",
    "4) alternatively, you can add the package information as the option argument when running `pyspark` from a command line interface: run `pyspark --packages com.databricks:spark-xml_2.11:0.4.1,graphframes:graphframes:0.5.0-spark2.1-s_2.11`"
   ]
  },
  {
   "cell_type": "markdown",
   "metadata": {},
   "source": [
    "### Running the code"
   ]
  },
  {
   "cell_type": "code",
   "execution_count": 1,
   "metadata": {},
   "outputs": [],
   "source": [
    "# If you are running your notebook locally, run this command\n",
    "# Remember to certify which versions of spark-xml and graphframes you have installed into your system and change this command accordingly\n",
    "import os\n",
    "os.environ['PYSPARK_SUBMIT_ARGS'] = '--packages graphframes:graphframes:0.4.0-spark2.0-s_2.11,com.databricks:spark-xml_2.11:0.4.1 pyspark-shell'"
   ]
  },
  {
   "cell_type": "markdown",
   "metadata": {},
   "source": [
    "### Load libraries\n",
    "\n",
    "Run the following code to import the required libraries."
   ]
  },
  {
   "cell_type": "code",
   "execution_count": 2,
   "metadata": {},
   "outputs": [],
   "source": [
    "# Import necessary libraries\n",
    "from pyspark.sql import SQLContext\n",
    "import graphframes\n",
    "from graphframes import *\n",
    "\n",
    "import matplotlib.pyplot as plt\n",
    "%matplotlib inline\n",
    "\n",
    "from pyspark.sql.functions import col, lit, when\n",
    "from pyspark.sql import Row\n",
    "\n",
    "from datetime import datetime\n",
    "import re\n",
    "import numpy as np"
   ]
  },
  {
   "cell_type": "code",
   "execution_count": 3,
   "metadata": {},
   "outputs": [],
   "source": [
    "# Creating a Spark SQL context\n",
    "sqlContext = SQLContext(sc)"
   ]
  },
  {
   "cell_type": "code",
   "execution_count": 4,
   "metadata": {},
   "outputs": [],
   "source": [
    "# Change where to store if you want to\n",
    "sc.setCheckpointDir(\"gs://bucket-meb01/tmp/\") "
   ]
  },
  {
   "cell_type": "markdown",
   "metadata": {},
   "source": [
    "## Loading data from XML files"
   ]
  },
  {
   "cell_type": "markdown",
   "metadata": {},
   "source": [
    "1) You can open a SSH connection to your Dataproc cluster VM and download the required XML files from here:\n",
    "\n",
    "curl -L -o dropboxdata.zip https://www.dropbox.com/sh/89xbpcjl4oq0j4w/AAA4_cGYM5TqB3dkczIQ0qQJa/StackExchange?dl=0 && unzip dropboxdata.zip -d stackexchange\n",
    "\n",
    "2) Then, put the files into your bucket (remember to change the name to refer to your bucket)\n",
    "\n",
    "gsutil cp -r stackexchange gs://kkaifang-bucket\n",
    "\n",
    "This will create a folder `stackexchange` in your bucket with all the files.\n",
    "\n",
    "3) Go to your bucket and change the name `PostLinks` to `Postlinks` to be able to use the code below."
   ]
  },
  {
   "cell_type": "code",
   "execution_count": 5,
   "metadata": {},
   "outputs": [],
   "source": [
    "# make sure you have downloaded the data in a bucket and change _fpath_ to the location of the data\n",
    "# this command can be case sensitive, so make sure you use the correct folder name\n",
    "fpath = 'gs://bucket-meb01/stackexchange/'"
   ]
  },
  {
   "cell_type": "code",
   "execution_count": 6,
   "metadata": {},
   "outputs": [],
   "source": [
    "# function to create a RDD schema from a given XML (dataset) file\n",
    "def load_xml(table_name):\n",
    "    xml_name = table_name.capitalize()\n",
    "    table = sqlContext.read.format('com.databricks.spark.xml').options(rowTag=table_name).load(fpath+xml_name+'.xml')\n",
    "    rdd_table = table.rdd.flatMap(lambda x: x).flatMap(lambda x: x)\n",
    "    df = sqlContext.createDataFrame(rdd_table, table.schema.fields[0].dataType.elementType)\n",
    "    df.createOrReplaceTempView(table_name)\n",
    "    return df"
   ]
  },
  {
   "cell_type": "code",
   "execution_count": 7,
   "metadata": {},
   "outputs": [],
   "source": [
    "users = load_xml(\"users\")  # information about users, such as their reputation, name, access data, down votes, etc....\n",
    "posts = load_xml(\"posts\")  # contains the text (body) of posts, whether they are questions or answers, how they relate to users and answers\n",
    "postlinks = load_xml(\"postlinks\") # links\n",
    "comments = load_xml(\"comments\")\n",
    "tags = load_xml(\"tags\")"
   ]
  },
  {
   "cell_type": "markdown",
   "metadata": {},
   "source": [
    "# Understanding the data\n",
    "\n",
    "Have a look at the structure of posts, answers and comments: \n",
    "\n",
    "https://meta.stackexchange.com/\n",
    "\n",
    "https://stackoverflow.com/questions/58068469/graphframes-with-pyspark\n",
    "\n",
    "https://stackoverflow.com/questions/61185105/using-graphframes-in-google-colab\n",
    "\n",
    "Understanding `users` is pretty straightforward:"
   ]
  },
  {
   "cell_type": "code",
   "execution_count": 8,
   "metadata": {},
   "outputs": [
    {
     "name": "stdout",
     "output_type": "stream",
     "text": [
      "<class 'pyspark.sql.dataframe.DataFrame'>\n",
      "root\n",
      " |-- _AboutMe: string (nullable = true)\n",
      " |-- _AccountId: long (nullable = true)\n",
      " |-- _Age: long (nullable = true)\n",
      " |-- _CreationDate: string (nullable = true)\n",
      " |-- _DisplayName: string (nullable = true)\n",
      " |-- _DownVotes: long (nullable = true)\n",
      " |-- _Id: long (nullable = true)\n",
      " |-- _LastAccessDate: string (nullable = true)\n",
      " |-- _Location: string (nullable = true)\n",
      " |-- _ProfileImageUrl: string (nullable = true)\n",
      " |-- _Reputation: long (nullable = true)\n",
      " |-- _UpVotes: long (nullable = true)\n",
      " |-- _VALUE: string (nullable = true)\n",
      " |-- _Views: long (nullable = true)\n",
      " |-- _WebsiteUrl: string (nullable = true)\n",
      "\n"
     ]
    }
   ],
   "source": [
    "# schema of the dataframe\n",
    "print(type(users))\n",
    "users.printSchema()"
   ]
  },
  {
   "cell_type": "markdown",
   "metadata": {},
   "source": [
    "`Posts` are relatively complex. They can be of two types:\n",
    "- `Id`\n",
    "- `PostTypeId`\n",
    "      - 1: Question\n",
    "      - 2: Answer\n",
    "- `ParentID` (only present if `PostTypeId` is 2, i.e. only answers have parents)\n",
    "- `AcceptedAnswerId` (only present if `PostTypeId` is 1, i.e. only questions may have accepted answers)\n",
    "\n",
    "Posts have owners (typically the user who asked a question or wrote an answer) and editors (users who edit posts)."
   ]
  },
  {
   "cell_type": "code",
   "execution_count": 9,
   "metadata": {},
   "outputs": [
    {
     "name": "stdout",
     "output_type": "stream",
     "text": [
      "root\n",
      " |-- _AcceptedAnswerId: long (nullable = true)\n",
      " |-- _AnswerCount: long (nullable = true)\n",
      " |-- _Body: string (nullable = true)\n",
      " |-- _ClosedDate: string (nullable = true)\n",
      " |-- _CommentCount: long (nullable = true)\n",
      " |-- _CommunityOwnedDate: string (nullable = true)\n",
      " |-- _CreationDate: string (nullable = true)\n",
      " |-- _FavoriteCount: long (nullable = true)\n",
      " |-- _Id: long (nullable = true)\n",
      " |-- _LastActivityDate: string (nullable = true)\n",
      " |-- _LastEditDate: string (nullable = true)\n",
      " |-- _LastEditorDisplayName: string (nullable = true)\n",
      " |-- _LastEditorUserId: long (nullable = true)\n",
      " |-- _OwnerDisplayName: string (nullable = true)\n",
      " |-- _OwnerUserId: long (nullable = true)\n",
      " |-- _ParentId: long (nullable = true)\n",
      " |-- _PostTypeId: long (nullable = true)\n",
      " |-- _Score: long (nullable = true)\n",
      " |-- _Tags: string (nullable = true)\n",
      " |-- _Title: string (nullable = true)\n",
      " |-- _VALUE: string (nullable = true)\n",
      " |-- _ViewCount: long (nullable = true)\n",
      "\n"
     ]
    }
   ],
   "source": [
    "posts.printSchema()"
   ]
  },
  {
   "cell_type": "markdown",
   "metadata": {},
   "source": [
    "`Post links` connect two posts (answers or questions).  They can be of either of two types:\n",
    "- `LinkTypeId`\n",
    "       - 1: Linked (the question is related to another question)\n",
    "       - 3: Duplicate (somebody has decided that the question has been asked before)"
   ]
  },
  {
   "cell_type": "code",
   "execution_count": 10,
   "metadata": {},
   "outputs": [
    {
     "name": "stdout",
     "output_type": "stream",
     "text": [
      "root\n",
      " |-- _CreationDate: string (nullable = true)\n",
      " |-- _Id: long (nullable = true)\n",
      " |-- _LinkTypeId: long (nullable = true)\n",
      " |-- _PostId: long (nullable = true)\n",
      " |-- _RelatedPostId: long (nullable = true)\n",
      " |-- _VALUE: string (nullable = true)\n",
      "\n"
     ]
    }
   ],
   "source": [
    "postlinks.printSchema()"
   ]
  },
  {
   "cell_type": "markdown",
   "metadata": {},
   "source": [
    "`Tags` are referenced by posts. They have a name and some additional data, for example:\n",
    "\n",
    "`<row Id=\"23\" TagName=\"apache-hadoop\" Count=\"80\" ExcerptPostId=\"5840\" WikiPostId=\"5839\" />`"
   ]
  },
  {
   "cell_type": "code",
   "execution_count": 11,
   "metadata": {},
   "outputs": [
    {
     "name": "stdout",
     "output_type": "stream",
     "text": [
      "root\n",
      " |-- _Count: long (nullable = true)\n",
      " |-- _ExcerptPostId: long (nullable = true)\n",
      " |-- _Id: long (nullable = true)\n",
      " |-- _TagName: string (nullable = true)\n",
      " |-- _VALUE: string (nullable = true)\n",
      " |-- _WikiPostId: long (nullable = true)\n",
      "\n"
     ]
    }
   ],
   "source": [
    "tags.printSchema()"
   ]
  },
  {
   "cell_type": "markdown",
   "metadata": {},
   "source": [
    "`Comments` are made by a user and are connected to a post (users can comment on answers and questions)."
   ]
  },
  {
   "cell_type": "code",
   "execution_count": 12,
   "metadata": {},
   "outputs": [
    {
     "name": "stdout",
     "output_type": "stream",
     "text": [
      "root\n",
      " |-- _CreationDate: string (nullable = true)\n",
      " |-- _Id: long (nullable = true)\n",
      " |-- _PostId: long (nullable = true)\n",
      " |-- _Score: long (nullable = true)\n",
      " |-- _Text: string (nullable = true)\n",
      " |-- _UserDisplayName: string (nullable = true)\n",
      " |-- _UserId: long (nullable = true)\n",
      " |-- _VALUE: string (nullable = true)\n",
      "\n"
     ]
    }
   ],
   "source": [
    "comments.printSchema()"
   ]
  },
  {
   "cell_type": "code",
   "execution_count": 13,
   "metadata": {},
   "outputs": [
    {
     "data": {
      "text/plain": [
       "11390"
      ]
     },
     "execution_count": 13,
     "metadata": {},
     "output_type": "execute_result"
    }
   ],
   "source": [
    "# total number of posts\n",
    "posts.count()"
   ]
  },
  {
   "cell_type": "code",
   "execution_count": 14,
   "metadata": {},
   "outputs": [
    {
     "data": {
      "text/plain": [
       "[Row(_AcceptedAnswerId=None, _AnswerCount=1, _Body=u'<p>I\\'ve always been interested in machine learning, but I can\\'t figure out one thing about starting out with a simple \"Hello World\" example - how can I avoid hard-coding behavior?</p>\\n\\n<p>For example, if I wanted to \"teach\" a bot how to avoid randomly placed obstacles, I couldn\\'t just use relative motion, because the obstacles move around, but I don\\'t want to hard code, say, distance, because that ruins the whole point of machine learning.</p>\\n\\n<p>Obviously, randomly generating code would be impractical, so how could I do this?</p>\\n', _ClosedDate=u'2014-05-14T14:40:25.950', _CommentCount=1, _CommunityOwnedDate=None, _CreationDate=u'2014-05-13T23:58:30.457', _FavoriteCount=1, _Id=5, _LastActivityDate=u'2014-05-14T00:36:31.077', _LastEditDate=None, _LastEditorDisplayName=None, _LastEditorUserId=None, _OwnerDisplayName=None, _OwnerUserId=5, _ParentId=None, _PostTypeId=1, _Score=7, _Tags=u'<machine-learning>', _Title=u'How can I do simple machine learning without hard-coding behavior?', _VALUE=None, _ViewCount=338)]"
      ]
     },
     "execution_count": 14,
     "metadata": {},
     "output_type": "execute_result"
    }
   ],
   "source": [
    "# have a look at one of the posts\n",
    "posts.take(1)"
   ]
  },
  {
   "cell_type": "markdown",
   "metadata": {},
   "source": [
    "## Graph analysis \n",
    "\n",
    "## 1. Graph of post references\n",
    "\n",
    "In Stack Exchange, each post may reference other posts through links. For example, pointing the user who posted a question to one or more other posts that addressed her/his question. \n",
    "\n",
    "We are now going to study the graph defined by `post` references.  \n",
    "\n",
    "### a. Building the graph\n",
    "\n",
    "We are going to create a GraphFrame that consists of a _vertices_ dataframe containing information about vertices (posts) and an _edges_ dataframe containing information about edges (links). \n",
    "\n",
    "We are going to \n",
    "* set the vertice column to **id** in the vertices DataFrame\n",
    "* set the begin and end edge columns to **src** and **dst** for the edges DataFrame\n",
    "\n",
    "We are creating _postsGraph_ as a <i>directed graph</i>, as links point from a vertex **src** to another vertex **dst**."
   ]
  },
  {
   "cell_type": "code",
   "execution_count": 15,
   "metadata": {},
   "outputs": [],
   "source": [
    "postsVertices = posts.withColumnRenamed(\"_Id\",\"id\").withColumnRenamed(\"_PostTypeId\",\"PostTypeID\").select(\"id\",\"PostTypeID\").distinct()\n",
    "postsEdges = postlinks.withColumnRenamed(\"_PostId\",\"src\").withColumnRenamed(\"_RelatedPostId\",\"dst\").select(\"src\",\"dst\")\n",
    "postsGraph = GraphFrame(postsVertices,postsEdges)"
   ]
  },
  {
   "cell_type": "code",
   "execution_count": 16,
   "metadata": {},
   "outputs": [
    {
     "name": "stdout",
     "output_type": "stream",
     "text": [
      "+----+----------+\n",
      "|  id|PostTypeID|\n",
      "+----+----------+\n",
      "| 276|         2|\n",
      "| 826|         2|\n",
      "| 908|         2|\n",
      "|5064|         1|\n",
      "|5778|         2|\n",
      "+----+----------+\n",
      "only showing top 5 rows\n",
      "\n",
      "+---+---+\n",
      "|src|dst|\n",
      "+---+---+\n",
      "| 14|  1|\n",
      "| 75| 71|\n",
      "| 59| 41|\n",
      "|361| 61|\n",
      "| 61|361|\n",
      "+---+---+\n",
      "only showing top 5 rows\n",
      "\n"
     ]
    }
   ],
   "source": [
    "postsVertices.show(5)\n",
    "postsEdges.show(5)"
   ]
  },
  {
   "cell_type": "code",
   "execution_count": 17,
   "metadata": {},
   "outputs": [
    {
     "name": "stdout",
     "output_type": "stream",
     "text": [
      "GraphFrame(v:[id: bigint, PostTypeID: bigint], e:[src: bigint, dst: bigint])\n"
     ]
    }
   ],
   "source": [
    "print(postsGraph)"
   ]
  },
  {
   "cell_type": "markdown",
   "metadata": {},
   "source": [
    "### b. Queries \n",
    "\n",
    "### i. Simple queries"
   ]
  },
  {
   "cell_type": "markdown",
   "metadata": {},
   "source": [
    "#### Count the number of posts and links"
   ]
  },
  {
   "cell_type": "code",
   "execution_count": 18,
   "metadata": {},
   "outputs": [
    {
     "name": "stdout",
     "output_type": "stream",
     "text": [
      "('Posts: ', 11390)\n",
      "('References: ', 369)\n",
      "('Distinct references: ', 346)\n"
     ]
    }
   ],
   "source": [
    "print(\"Posts: \", postsGraph.vertices.count())\n",
    "print(\"References: \", postsGraph.edges.count())\n",
    "print(\"Distinct references: \", postsGraph.edges.distinct().count())"
   ]
  },
  {
   "cell_type": "markdown",
   "metadata": {},
   "source": [
    "There are not many links between posts in general!"
   ]
  },
  {
   "cell_type": "markdown",
   "metadata": {},
   "source": [
    "#### Count the number of posts related to a given topic (e.g. machine learning)"
   ]
  },
  {
   "cell_type": "code",
   "execution_count": 19,
   "metadata": {},
   "outputs": [
    {
     "name": "stdout",
     "output_type": "stream",
     "text": [
      "('Number of posts related to machine learning:', 97)\n"
     ]
    }
   ],
   "source": [
    "print(\"Number of posts related to machine learning:\", postsGraph.vertices.filter(\"_Tags = '<machine-learning>'\").count())"
   ]
  },
  {
   "cell_type": "markdown",
   "metadata": {},
   "source": [
    "#### Count the number of Questions and Answers"
   ]
  },
  {
   "cell_type": "code",
   "execution_count": 20,
   "metadata": {},
   "outputs": [
    {
     "name": "stdout",
     "output_type": "stream",
     "text": [
      "('Number of Questions:', 4950)\n",
      "('Number of Answers:', 6216)\n"
     ]
    }
   ],
   "source": [
    "print(\"Number of Questions:\", postsGraph.vertices.filter(\"_PostTypeId = 1\").count())\n",
    "print(\"Number of Answers:\", postsGraph.vertices.filter(\"_PostTypeId = 2\").count())"
   ]
  },
  {
   "cell_type": "markdown",
   "metadata": {},
   "source": [
    "#### Posts with the highest number of references to other posts"
   ]
  },
  {
   "cell_type": "code",
   "execution_count": 21,
   "metadata": {},
   "outputs": [
    {
     "name": "stdout",
     "output_type": "stream",
     "text": [
      "+----+-----+\n",
      "| src|count|\n",
      "+----+-----+\n",
      "|5826|    8|\n",
      "|8646|    5|\n",
      "|9580|    4|\n",
      "|2346|    4|\n",
      "|9677|    4|\n",
      "+----+-----+\n",
      "only showing top 5 rows\n",
      "\n"
     ]
    }
   ],
   "source": [
    "postsGraph.edges.groupBy(\"src\").count().sort(\"count\", ascending = False).show(5)"
   ]
  },
  {
   "cell_type": "markdown",
   "metadata": {},
   "source": [
    "Note that this corresponds to the _outdegree_ of nodes: the post with the highest number of links pointing to other posts only contains 8 links. "
   ]
  },
  {
   "cell_type": "markdown",
   "metadata": {},
   "source": [
    "#### How are answers and questions linked?\n",
    "\n",
    "We use some simple <a href=\"https://graphframes.github.io/graphframes/docs/_site/user-guide.html?Motif#motif-finding\">motif queries</a>. Harder ones will be explained later.\n",
    "\n",
    "How many answers point to questions?"
   ]
  },
  {
   "cell_type": "code",
   "execution_count": 22,
   "metadata": {},
   "outputs": [
    {
     "name": "stdout",
     "output_type": "stream",
     "text": [
      "('How many edges were found:', 317)\n"
     ]
    }
   ],
   "source": [
    "# The basic unit of a pattern is an edge. For example, \"(a)-[e]->(b)\" expresses an edge e from vertex a to vertex b. \n",
    "# Note that vertices are denoted by parentheses (a), while edges are denoted by square brackets [e].\n",
    "allLinksMotif = postsGraph.find(\"(a)-[e]->(b)\")\n",
    "\n",
    "print(\"How many edges were found:\", allLinksMotif.count())"
   ]
  },
  {
   "cell_type": "code",
   "execution_count": 23,
   "metadata": {},
   "outputs": [
    {
     "name": "stdout",
     "output_type": "stream",
     "text": [
      "('Answers pointing to other posts:', 0)\n"
     ]
    }
   ],
   "source": [
    "# We can now search for specific relationships inside this motif object\n",
    "print(\"Answers pointing to other posts:\", allLinksMotif.filter(\"a.PostTypeID = 2\").count())"
   ]
  },
  {
   "cell_type": "markdown",
   "metadata": {},
   "source": [
    "How many questions point to questions?"
   ]
  },
  {
   "cell_type": "code",
   "execution_count": 24,
   "metadata": {},
   "outputs": [
    {
     "data": {
      "text/plain": [
       "317"
      ]
     },
     "execution_count": 24,
     "metadata": {},
     "output_type": "execute_result"
    }
   ],
   "source": [
    "allLinksMotif.filter(\"a.PostTypeID = 1 and b.PostTypeID = 1\").count()"
   ]
  },
  {
   "cell_type": "markdown",
   "metadata": {},
   "source": [
    "How many questions point to answers?"
   ]
  },
  {
   "cell_type": "code",
   "execution_count": 25,
   "metadata": {},
   "outputs": [
    {
     "data": {
      "text/plain": [
       "0"
      ]
     },
     "execution_count": 25,
     "metadata": {},
     "output_type": "execute_result"
    }
   ],
   "source": [
    "allLinksMotif.filter(\"a.PostTypeID = 1 and b.PostTypeID = 2\").count()"
   ]
  },
  {
   "cell_type": "markdown",
   "metadata": {},
   "source": [
    "It turns out that in this data set links have always been assigned to questions. Even if links are part of an answer, they are assigned to the corresponding question.\n",
    "\n",
    "Where does the discrepancy between the number of edges found here and earlier come from? \n",
    "It seems like there are \"dangling edges\". This seems to be a problem with this dataset:"
   ]
  },
  {
   "cell_type": "code",
   "execution_count": 26,
   "metadata": {},
   "outputs": [
    {
     "data": {
      "text/plain": [
       "369"
      ]
     },
     "execution_count": 26,
     "metadata": {},
     "output_type": "execute_result"
    }
   ],
   "source": [
    "postsGraph.find(\"()-[e]->()\").count()"
   ]
  },
  {
   "cell_type": "code",
   "execution_count": 27,
   "metadata": {},
   "outputs": [
    {
     "data": {
      "text/plain": [
       "325"
      ]
     },
     "execution_count": 27,
     "metadata": {},
     "output_type": "execute_result"
    }
   ],
   "source": [
    "postsGraph.find(\"(a)-[e]->()\").count() # this seems to be the culprit!"
   ]
  },
  {
   "cell_type": "code",
   "execution_count": 28,
   "metadata": {},
   "outputs": [
    {
     "data": {
      "text/plain": [
       "369"
      ]
     },
     "execution_count": 28,
     "metadata": {},
     "output_type": "execute_result"
    }
   ],
   "source": [
    "postsGraph.find(\"()-[e]->(a)\").count()"
   ]
  },
  {
   "cell_type": "markdown",
   "metadata": {},
   "source": [
    "There only seem to be links between questions."
   ]
  },
  {
   "cell_type": "markdown",
   "metadata": {},
   "source": [
    "### ii. Vertex degrees\n",
    "\n",
    "Let us now analyze postsGraph to gain some understanding about the incoming and outcoming references of posts.\n",
    "\n",
    "* `inDegree`: number of references _to_ the post\n",
    "* `outDegree`: number of references _from_ the post \n",
    "* `degree`: total number of references either _to_ or _from_ the post\n",
    "\n",
    "#### Degrees:"
   ]
  },
  {
   "cell_type": "code",
   "execution_count": 29,
   "metadata": {},
   "outputs": [
    {
     "name": "stdout",
     "output_type": "stream",
     "text": [
      "+----+------+\n",
      "|  id|degree|\n",
      "+----+------+\n",
      "|5826|     8|\n",
      "| 739|     8|\n",
      "|  22|     7|\n",
      "|1107|     6|\n",
      "| 155|     6|\n",
      "+----+------+\n",
      "only showing top 5 rows\n",
      "\n"
     ]
    }
   ],
   "source": [
    "postsGraph.degrees.sort(\"Degree\", ascending=False).show(5)"
   ]
  },
  {
   "cell_type": "code",
   "execution_count": 30,
   "metadata": {},
   "outputs": [
    {
     "data": {
      "image/png": "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\n",
      "text/plain": [
       "<matplotlib.figure.Figure at 0x7faa7f2034d0>"
      ]
     },
     "metadata": {},
     "output_type": "display_data"
    }
   ],
   "source": [
    "plt.hist(postsGraph.degrees.select(\"degree\").rdd.flatMap(lambda x: x).collect(), bins=range(1,10));\n",
    "plt.ylabel('Number of posts')\n",
    "plt.xlabel('Degree');"
   ]
  },
  {
   "cell_type": "markdown",
   "metadata": {},
   "source": [
    "#### inDegrees"
   ]
  },
  {
   "cell_type": "code",
   "execution_count": 31,
   "metadata": {},
   "outputs": [
    {
     "data": {
      "text/plain": [
       "335"
      ]
     },
     "execution_count": 31,
     "metadata": {},
     "output_type": "execute_result"
    }
   ],
   "source": [
    "postsGraph.degrees.filter(\"Degree = 1\").count()"
   ]
  },
  {
   "cell_type": "code",
   "execution_count": 32,
   "metadata": {},
   "outputs": [
    {
     "data": {
      "text/plain": [
       "2"
      ]
     },
     "execution_count": 32,
     "metadata": {},
     "output_type": "execute_result"
    }
   ],
   "source": [
    "postsGraph.degrees.filter(\"Degree = 8\").count()"
   ]
  },
  {
   "cell_type": "code",
   "execution_count": 33,
   "metadata": {},
   "outputs": [
    {
     "name": "stdout",
     "output_type": "stream",
     "text": [
      "+----+--------+\n",
      "|  id|inDegree|\n",
      "+----+--------+\n",
      "| 739|       8|\n",
      "|  22|       7|\n",
      "| 155|       6|\n",
      "|1107|       5|\n",
      "| 758|       5|\n",
      "+----+--------+\n",
      "only showing top 5 rows\n",
      "\n"
     ]
    }
   ],
   "source": [
    "postsGraph.inDegrees.sort(\"inDegree\", ascending=False).show(5)"
   ]
  },
  {
   "cell_type": "code",
   "execution_count": 34,
   "metadata": {},
   "outputs": [
    {
     "name": "stdout",
     "output_type": "stream",
     "text": [
      "('Type of post:', [Row(_PostTypeID=1)])\n",
      "('Post content:', [Row(_Body=u'<p>I am an MSc student at the University of Edinburgh, specialized in machine learning and natural language processing. I had some practical courses focused on data mining, and others dealing with machine learning, bayesian statistics and graphical models. My background is a BSc in Computer Science.</p>\\n\\n<p>I did some software engineering and I learnt the basic concepts, such as design patterns, but I have never been involved in a large software development project. However, I had a data mining project in my MSc. My question is, if I want to go for a career as Data Scientist, should I apply for a graduate data scientist position first, or should I get a position as graduate software engineer first, maybe something related to data science, such as big data infrastructure or machine learning software development?</p>\\n\\n<p>My concern is that I might need good software engineering skills for data science, and I am not sure if these can be obtained by working as a graduate data scientist directly.</p>\\n\\n<p>Moreover, at the moment I like Data Mining, but what if I want to change my career to software engineering in the future? It might be difficult if I specialised so much in data science.</p>\\n\\n<p>I have not been employed yet, so my knowledge is still limited. Any clarification or advice are welcome, as I am about to finish my MSc and I want to start applying for graduate positions in early October.</p>\\n')])\n"
     ]
    }
   ],
   "source": [
    "# what is the post with the highest in-degree?\n",
    "print(\"Type of post:\", posts.select(\"_PostTypeID\").where(\"_Id == 739\").collect())\n",
    "print(\"Post content:\", posts.select(\"_Body\").where(\"_Id == 739\").collect())"
   ]
  },
  {
   "cell_type": "markdown",
   "metadata": {},
   "source": [
    "#### outDegrees"
   ]
  },
  {
   "cell_type": "code",
   "execution_count": 35,
   "metadata": {},
   "outputs": [
    {
     "name": "stdout",
     "output_type": "stream",
     "text": [
      "+----+---------+\n",
      "|  id|outDegree|\n",
      "+----+---------+\n",
      "|5826|        8|\n",
      "|8646|        5|\n",
      "|9580|        4|\n",
      "|2346|        4|\n",
      "|9677|        4|\n",
      "+----+---------+\n",
      "only showing top 5 rows\n",
      "\n"
     ]
    }
   ],
   "source": [
    "postsGraph.outDegrees.sort(\"outDegree\", ascending=False).show(5)"
   ]
  },
  {
   "cell_type": "markdown",
   "metadata": {},
   "source": [
    "Let us check the content of the post that has the highest outdegree:"
   ]
  },
  {
   "cell_type": "code",
   "execution_count": 36,
   "metadata": {
    "scrolled": false
   },
   "outputs": [
    {
     "name": "stdout",
     "output_type": "stream",
     "text": [
      "('Type of post:', [Row(_PostTypeID=1)])\n",
      "('Post content:', [Row(_Body=u'<p>I am looking to change careers and would appreciate some advice. </p>\\n\\n<p>I have an undergraduate degree in English Literature and a JD. Needless to say, these were not the best decisions and I would like to change my career. I have always enjoyed math and science, and after months of research and self study, I have decided that I would like to pursue statistics. </p>\\n\\n<p>My question is basically this : would it be better to get another Bach. Degree in statistics or should I take calculus 1-3, linear algebra, probably and statistics and some computer science courses at a community college then try to get into a grad program instead? </p>\\n\\n<p>I am afraid that without the bachelors degree I will not have the required knowledge for a masters even after taking the courses at my local c.c. However, another bachelors degree may be a worthless waste of time. </p>\\n\\n<p>Please share your thoughts. Also, sorry if this is not the right place for this question. </p>\\n')])\n"
     ]
    }
   ],
   "source": [
    "print(\"Type of post:\", posts.select(\"_PostTypeID\").where(\"_Id == 5826\").collect())\n",
    "print(\"Post content:\", posts.select(\"_Body\").where(\"_Id == 5826\").collect())"
   ]
  },
  {
   "cell_type": "markdown",
   "metadata": {},
   "source": [
    "You may find out more information about this post here https://datascience.stackexchange.com/questions/5826/master-degree-in-data-science."
   ]
  },
  {
   "cell_type": "code",
   "execution_count": 37,
   "metadata": {},
   "outputs": [
    {
     "name": "stdout",
     "output_type": "stream",
     "text": [
      "0\n",
      "0\n"
     ]
    }
   ],
   "source": [
    "# answers have no out- or in-degree\n",
    "print(postsGraph.find(\"(a)-[e]->()\").filter(\"a.PostTypeID = 2\").count())\n",
    "print(postsGraph.find(\"()-[e]->(a)\").filter(\"a.PostTypeID = 2\").count())"
   ]
  },
  {
   "cell_type": "markdown",
   "metadata": {},
   "source": [
    "### iii. Ranking posts using PageRank scores\n",
    "\n",
    "We estimate approximate PageRank scores of posts by running the iterative <a href=\"https://graphframes.github.io/graphframes/docs/_site/user-guide.html#pagerank\">PageRank</a> algorithm for a specified number of iterations.\n",
    "\n",
    "- resetProbability = damping factor (as defined in (https://arxiv.org/abs/1208.3071)): the probability with which a \n",
    "random walker starts at a uniformly chosen new point in the graph. This allows it to deal with disconnected components.\n",
    "- maxIter = runs for a fixed number of iterations (used by `apache.spark.graphx.graph`). The alternative is to use\n",
    "the parameter `tol` which runs the algorithm until convergence (used by `apache.spark.graphx.Pregel`)."
   ]
  },
  {
   "cell_type": "code",
   "execution_count": 38,
   "metadata": {},
   "outputs": [
    {
     "name": "stdout",
     "output_type": "stream",
     "text": [
      "+-----+----------+------------------+\n",
      "|   id|PostTypeID|          pagerank|\n",
      "+-----+----------+------------------+\n",
      "|  361|         1|10.763095393978398|\n",
      "|   61|         1| 7.678784071610369|\n",
      "| 2651|         1|7.5179330181755875|\n",
      "|  739|         1| 7.113671904823985|\n",
      "| 9598|         1| 6.470834900206587|\n",
      "| 9612|         1| 6.470834900206587|\n",
      "|13574|         1| 6.470834900206587|\n",
      "|13484|         1| 6.470834900206587|\n",
      "|  954|         1| 6.470834900206587|\n",
      "|  955|         1| 6.470834900206587|\n",
      "+-----+----------+------------------+\n",
      "\n"
     ]
    }
   ],
   "source": [
    "# Determining ranking scores of posts using PageRank\n",
    "ranks = postsGraph.pageRank(resetProbability=0.15, maxIter=5)\n",
    "ranks.vertices.orderBy(ranks.vertices.pagerank.desc()).limit(10).show()"
   ]
  },
  {
   "cell_type": "code",
   "execution_count": 39,
   "metadata": {},
   "outputs": [
    {
     "data": {
      "image/png": "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\n",
      "text/plain": [
       "<matplotlib.figure.Figure at 0x7faa7c1df450>"
      ]
     },
     "metadata": {},
     "output_type": "display_data"
    }
   ],
   "source": [
    "plt.hist(ranks.vertices.orderBy(\"pagerank\").select(\"pagerank\").rdd.flatMap(lambda x: x).collect(), bins=(0,2,4,6,8,10,12));\n",
    "plt.ylabel('Number of posts (log scale)')\n",
    "plt.xlabel('PageRank score');\n",
    "plt.yscale('log')"
   ]
  },
  {
   "cell_type": "code",
   "execution_count": 40,
   "metadata": {},
   "outputs": [
    {
     "data": {
      "text/plain": [
       "<matplotlib.axes._subplots.AxesSubplot at 0x7faa7c069c90>"
      ]
     },
     "execution_count": 40,
     "metadata": {},
     "output_type": "execute_result"
    },
    {
     "data": {
      "image/png": "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\n",
      "text/plain": [
       "<matplotlib.figure.Figure at 0x7faa7c1df790>"
      ]
     },
     "metadata": {},
     "output_type": "display_data"
    }
   ],
   "source": [
    "rankDF = ranks.vertices.orderBy(ranks.vertices.pagerank.desc()).select(\"pagerank\")\n",
    "rankDF = rankDF.toPandas().replace(0,np.nan) # get rid of zeros for loglog plot\n",
    "rankDF.plot(loglog=True, marker='.')"
   ]
  },
  {
   "cell_type": "markdown",
   "metadata": {},
   "source": [
    "### iv. Motif finding queries\n",
    "\n",
    "<a href=\"https://en.wikipedia.org/wiki/Network_motif\">Motif queries</a> allow us to query subgraphs (e.g. a path) of the input graph by specifying conditions on the graph structure and properties of vertices and edges. \n",
    "\n",
    "Here is an example of a motif query that asks for **all possible paths** of length = 2 whose non-terminal vertex (not a source or a destination) is node 8646:"
   ]
  },
  {
   "cell_type": "code",
   "execution_count": 67,
   "metadata": {},
   "outputs": [],
   "source": [
    "link_of_ref = postsGraph.find(\"(a)-[ab]->(b); (b)-[bc]->(c)\").filter(\"b.id = 8646\")"
   ]
  },
  {
   "cell_type": "code",
   "execution_count": null,
   "metadata": {},
   "outputs": [
    {
     "name": "stdout",
     "output_type": "stream",
     "text": [
      "+---------+------------+---------+------------+---------+\n",
      "|        a|          ab|        b|          bc|        c|\n",
      "+---------+------------+---------+------------+---------+\n",
      "|[8820, 1]|[8820, 8646]|[8646, 1]| [8646, 736]| [736, 1]|\n",
      "|[8820, 1]|[8820, 8646]|[8646, 1]|[8646, 6939]|[6939, 1]|\n",
      "|[8820, 1]|[8820, 8646]|[8646, 1]| [8646, 454]| [454, 1]|\n",
      "|[8820, 1]|[8820, 8646]|[8646, 1]|[8646, 1107]|[1107, 1]|\n",
      "|[8820, 1]|[8820, 8646]|[8646, 1]| [8646, 810]| [810, 1]|\n",
      "+---------+------------+---------+------------+---------+\n",
      "\n"
     ]
    }
   ],
   "source": [
    "link_of_ref.show()"
   ]
  },
  {
   "cell_type": "markdown",
   "metadata": {},
   "source": [
    "We have found all possible paths of length 2 with _b_ in the middle."
   ]
  },
  {
   "cell_type": "markdown",
   "metadata": {},
   "source": [
    "### v. Connected components\n",
    "\n",
    "Finding connected components of a graph is a basic graph processing problem. \n",
    "\n",
    "Here is how we can find connected components of postsGraph and visualize their size distribution."
   ]
  },
  {
   "cell_type": "code",
   "execution_count": null,
   "metadata": {},
   "outputs": [],
   "source": [
    "postsComponents = postsGraph.connectedComponents() # only consider connected components\n",
    "\n",
    "# calculate the number of nodes in each \"cluster\" and show the result in a histogram\n",
    "plt.hist(postsComponents.select(\"id\", \"component\").groupBy(\"component\").count().select(\"count\").where(\"count != 1\")\n",
    "         .rdd.flatMap(lambda x: x).collect(), bins=range(0,40,5)); \n",
    "plt.ylabel('Frequency count')\n",
    "plt.xlabel('Connected component size')\n",
    "plt.yscale('log')"
   ]
  },
  {
   "cell_type": "markdown",
   "metadata": {},
   "source": [
    "## 2. Graph of user co-contributions (homework)\n",
    "\n",
    "We now consider the graph where vertices correspond to users and edges indicate their co-contributions to posts. \n",
    "\n",
    "In particular, we define the graph such that there is an edge between two vertices if the corresponding users both contributed to at least one common post (either by submitting the post or a comment to this post).\n",
    "\n",
    "For running this query and building the graph, we need to join three different datasets, as denoted in the SQL command. **Make sure you understand how this join operation is performed as this a frequent operation when querying datasets.**"
   ]
  },
  {
   "cell_type": "code",
   "execution_count": null,
   "metadata": {},
   "outputs": [],
   "source": [
    "usersVertices = users.withColumnRenamed(\"_Id\",\"id\").select(\"id\").distinct()\n",
    "usersEdges = sqlContext.sql(\"select u._Id as dst, c._UserId as src from (users u join posts p on u._Id = p._OwnerUserId) join comments c on p._Id = c._PostId\")\n",
    "usersGraph = GraphFrame(usersVertices,usersEdges)"
   ]
  },
  {
   "cell_type": "markdown",
   "metadata": {},
   "source": [
    "Do the same type of basic analysis for usersGraph, as we did in Section 1 for postsGraph:"
   ]
  },
  {
   "cell_type": "code",
   "execution_count": null,
   "metadata": {},
   "outputs": [],
   "source": [
    "## your code here\n",
    "usersVertices.show(5)\n",
    "usersEdges.show(5)"
   ]
  },
  {
   "cell_type": "code",
   "execution_count": null,
   "metadata": {},
   "outputs": [],
   "source": [
    "## Replicate this cell as needed to implement all basic analysis (as did in Section 1)\n",
    "## your code here"
   ]
  },
  {
   "cell_type": "markdown",
   "metadata": {},
   "source": [
    "## 3. Case study: Bipartite graph: users-posts\n",
    "\n",
    "We now examine user contributions across different posts by considering the bipartite graph that describes user contributions across different posts. \n",
    "\n",
    "Recall that a <a href=\"https://en.wikipedia.org/wiki/Bipartite_graph\">bipartite graph</a> is a graph where the set of vertices are partitioned in two disjoint sets (referred as left and right) such that each edge of the graph connects two vertices in different sets. \n",
    "\n",
    "## a. Create the graph\n",
    "\n",
    "We create the bipartite graph with the left vertices representing `users` and the right vertices representing `posts`. \n",
    "\n",
    "An edge from vertex $u$ to vertex $p$ exists if, and only if, (a) user $u$ is the owner of post $p$ or (b) user $u$ commented on post $p$."
   ]
  },
  {
   "cell_type": "code",
   "execution_count": null,
   "metadata": {},
   "outputs": [],
   "source": [
    "# \"U\" is the prefix for user id and \"P\" is the prefix for post id to make the vertex ids unique \n",
    "# (i.e. to avoid an user id with the same value of a post id)\n",
    "usersVerticesWithType = usersVertices.rdd.map(lambda r: Row(id=\"U\"+str(r.id), vtype=\"user\")).toDF()\n",
    "postsVerticesWithType = postsVertices.rdd.map(lambda r: Row(id=\"P\"+str(r.id), vtype=\"post\")).toDF()\n",
    "\n",
    "# check the criteria for establishing edges (as commented above)\n",
    "commentsEdges = comments.select(\"_UserId\",\"_PostId\").rdd.map(lambda r: Row(src=\"U\"+str(r._UserId),dst=\"P\"+str(r._PostId))).toDF()\n",
    "postsEdges = posts.select(\"_OwnerUserId\",\"_Id\").rdd.map(lambda r: Row(src=\"U\"+str(r._OwnerUserId),dst=\"P\"+str(r._Id))).toDF()\n",
    "\n",
    "# build the graph\n",
    "bipartiteVertices = usersVerticesWithType.unionAll(postsVerticesWithType)\n",
    "bipartiteEdges = commentsEdges.unionAll(postsEdges)\n",
    "bipartiteGraph = GraphFrame(bipartiteVertices,bipartiteEdges)"
   ]
  },
  {
   "cell_type": "code",
   "execution_count": null,
   "metadata": {},
   "outputs": [],
   "source": [
    "bipartiteGraph.vertices.filter(\"vtype='user'\").show(5)\n",
    "bipartiteGraph.vertices.filter(\"vtype='post'\").show(5)"
   ]
  },
  {
   "cell_type": "markdown",
   "metadata": {},
   "source": [
    "## b. Queries\n",
    "\n",
    "### i. Top 5 most contributing users\n",
    "\n",
    "We can identify a set of top 5 users who made the largest number of contributions by identifying a set of five users with largest _outdegrees_."
   ]
  },
  {
   "cell_type": "code",
   "execution_count": null,
   "metadata": {},
   "outputs": [],
   "source": [
    "# usersOutDegrees = bipartiteGraph.outDegrees.filter(\"SUBSTRING(id, 1, 1) = 'U'\")\n",
    "usersOutDegrees = bipartiteGraph.outDegrees # only users have out degrees!\n",
    "usersOutDegrees.sort(\"outDegree\", ascending=False).show(5)"
   ]
  },
  {
   "cell_type": "markdown",
   "metadata": {},
   "source": [
    "Let us check the user who has made the largest number of contributions."
   ]
  },
  {
   "cell_type": "code",
   "execution_count": null,
   "metadata": {},
   "outputs": [],
   "source": [
    "users.where(\"_Id = 381\").select(\"_DisplayName\").show()\n",
    "users.where(\"_Id == 381\").collect()"
   ]
  },
  {
   "cell_type": "markdown",
   "metadata": {},
   "source": [
    "### ii. Distribution of the number of contributions per user\n",
    "\n",
    "We plot the complementary CDF (cumulative distribution fucntion) of the number of contributions per user in the log-log scale. The shape of this distibution suggests a power-law tail which is often found in nature."
   ]
  },
  {
   "cell_type": "code",
   "execution_count": null,
   "metadata": {},
   "outputs": [],
   "source": [
    "user_contribution = usersOutDegrees.select(\"outDegree\").rdd.flatMap(lambda x: x).collect()\n",
    "plt.hist(user_contribution, bins=len(user_contribution), density=1, histtype='step', cumulative=-1)\n",
    "\n",
    "plt.xlabel('Number of contributions per user')\n",
    "plt.ylabel('Complementary CDF')\n",
    "plt.xlim([min(user_contribution),max(user_contribution)])\n",
    "plt.yscale('log')\n",
    "plt.xscale('log')\n",
    "plt.show()"
   ]
  },
  {
   "cell_type": "markdown",
   "metadata": {},
   "source": [
    "### iii. The top 5 most answered posts\n",
    "\n",
    "We can identify a set of top 5 most answered posts by selecting a set of five nodes with the largest indegree. "
   ]
  },
  {
   "cell_type": "code",
   "execution_count": null,
   "metadata": {},
   "outputs": [],
   "source": [
    "bipartiteGraph.inDegrees.sort(\"inDegree\", ascending=False).limit(5).show()"
   ]
  },
  {
   "cell_type": "markdown",
   "metadata": {},
   "source": [
    "Let us now check the post that received the largest number of answers."
   ]
  },
  {
   "cell_type": "code",
   "execution_count": null,
   "metadata": {
    "scrolled": true
   },
   "outputs": [],
   "source": [
    "posts.select(\"_Body\").where(\"_Id == 12186\").collect()"
   ]
  },
  {
   "cell_type": "markdown",
   "metadata": {},
   "source": [
    "### iv. Average number of contributions per user "
   ]
  },
  {
   "cell_type": "code",
   "execution_count": null,
   "metadata": {},
   "outputs": [],
   "source": [
    "avg_contribution = bipartiteGraph.edges.count()/bipartiteGraph.edges.distinct().count()\n",
    "print(\"The average contribution per user that has contributed at least once is %.2f.\" % avg_contribution)"
   ]
  },
  {
   "cell_type": "markdown",
   "metadata": {},
   "source": [
    "## 4. Case study: Tripartite graph: users-posts-tags\n",
    "\n",
    "We now consider the tripartite graph that has three disjoint sets of vertices of the following respective types: `users`, `posts`, and `tags`. Tags are keywords associated with posts. \n",
    "\n",
    "## a. Creating the graph"
   ]
  },
  {
   "cell_type": "markdown",
   "metadata": {},
   "source": [
    "The edges of the graph are defined as follows:\n",
    " \n",
    "* Edge from $u$ to $p$: if user $u$ is the owner of post $p$ or $u$ has commented on post $p$\n",
    "* Edge from $p$ to $t$: if post $p$ has tag $t$\n",
    "\n",
    "We use <a href=\"https://docs.python.org/3/library/re.html\">regular expressions</a> to extract tags from the string _Tags_."
   ]
  },
  {
   "cell_type": "code",
   "execution_count": null,
   "metadata": {},
   "outputs": [],
   "source": [
    "tagsVerticesWithType = tags.select(\"_TagName\").distinct().rdd.map(lambda r: Row(id=str(r._TagName), vtype=\"tag\")).toDF()\n",
    "tags_regex = re.compile(r\"<\\w*>\")\n",
    "tagsEdges = posts.select(\"_Id\",\"_Tags\").dropna().rdd.flatMap(lambda r: [Row(src=\"P\"+str(r._Id),dst=tag.replace('>','').replace('<','')) for tag in tags_regex.findall(r._Tags)]).toDF()\n",
    "\n",
    "# buid the graph\n",
    "tripartiteVertices = bipartiteVertices.unionAll(tagsVerticesWithType)\n",
    "tripartiteEdges = bipartiteEdges.unionAll(tagsEdges)\n",
    "tripartiteGraph = GraphFrame(tripartiteVertices,tripartiteEdges)"
   ]
  },
  {
   "cell_type": "code",
   "execution_count": null,
   "metadata": {},
   "outputs": [],
   "source": [
    "tripartiteGraph.vertices.filter(\"vtype='tag'\").show(5)\n",
    "tripartiteGraph.vertices.filter(\"vtype='user'\").show(5)\n",
    "tripartiteGraph.vertices.filter(\"vtype='post'\").show(5)\n",
    "tripartiteGraph.edges.show(5)"
   ]
  },
  {
   "cell_type": "markdown",
   "metadata": {},
   "source": [
    "## b. Queries\n",
    "\n",
    "### i. Top 10 most popular topics with respect to the number of posts\n",
    "\n",
    "We can compute this by counting the number of incident edges to each tag (referred here as `topic`)."
   ]
  },
  {
   "cell_type": "code",
   "execution_count": null,
   "metadata": {},
   "outputs": [],
   "source": [
    "topTen = tripartiteGraph.inDegrees.sort(\"inDegree\",ascending=False).limit(10).collect()\n",
    "\n",
    "fig, ax = plt.subplots()\n",
    "ax.barh(range(len(topTen)),[t.inDegree for t in topTen], alpha=0.7)\n",
    "ax.set_yticks(range(len(topTen)))\n",
    "ax.set_yticklabels([t.id for t in topTen])\n",
    "ax.invert_yaxis()\n",
    "plt.ylabel('Topics')\n",
    "plt.xlabel('Number of posts')"
   ]
  },
  {
   "cell_type": "markdown",
   "metadata": {},
   "source": [
    "### ii. Top 10 most popular topics with respect to the number of user contributions\n",
    "\n",
    "We now want to compute the popularity of topics with respect to the number of user contributions made to them. \n",
    "\n",
    "We can do this by evaluating motif queries that count the number of distinct paths from user vertices to each given tag vertex. "
   ]
  },
  {
   "cell_type": "code",
   "execution_count": null,
   "metadata": {},
   "outputs": [],
   "source": [
    "# let's look at the graph's structure using one example post:\n",
    "tripartiteGraph.edges.filter(\"src='P7'\").show()\n",
    "tripartiteGraph.edges.filter(\"dst='P7'\").show()"
   ]
  },
  {
   "cell_type": "code",
   "execution_count": null,
   "metadata": {},
   "outputs": [],
   "source": [
    "tripartiteGraph.edges.filter(\"dst='education'\").show(5)"
   ]
  },
  {
   "cell_type": "code",
   "execution_count": null,
   "metadata": {},
   "outputs": [],
   "source": [
    "# this is an exampe of what kind of structures we want to count:\n",
    "tripartiteGraph.find(\"(c)-[]->(a);(a)-[]->(b)\").filter(\"b.id='education'\").show(5)"
   ]
  },
  {
   "cell_type": "code",
   "execution_count": null,
   "metadata": {},
   "outputs": [],
   "source": [
    "all_edges = tripartiteGraph.find(\"(users)-[]->(posts); (posts)-[]->(tags)\")\n",
    "\n",
    "tagsActivity = all_edges.select(\"tags\").groupBy('tags').count()\n",
    "tagsActivity.printSchema()\n",
    "\n",
    "topTen = tagsActivity.sort(\"count\",ascending=False).withColumnRenamed(\"count\",\"c\").limit(10).collect()\n",
    "\n",
    "fig, ax = plt.subplots()\n",
    "ax.barh(range(len(topTen)),[t.c for t in topTen], alpha=0.7)\n",
    "ax.set_yticks(range(len(topTen)))\n",
    "ax.set_yticklabels([t.tags.id for t in topTen])\n",
    "ax.invert_yaxis()\n",
    "plt.xlabel(\"Number of contributions\")\n",
    "plt.ylabel(\"Topics\")"
   ]
  },
  {
   "cell_type": "markdown",
   "metadata": {},
   "source": [
    "This seems quite similar the previous observations on popularity of topics, even though we are looking at quite a different measure."
   ]
  },
  {
   "cell_type": "markdown",
   "metadata": {},
   "source": [
    "### iii. Find a user who contributed the most to one specific topic"
   ]
  },
  {
   "cell_type": "code",
   "execution_count": null,
   "metadata": {
    "scrolled": true
   },
   "outputs": [],
   "source": [
    "usersTags = all_edges.select(\"users\",\"tags\").groupBy(\"users\",\"tags\").count()\n",
    "usersTags.sort(\"count\",ascending=False).limit(10).show()"
   ]
  },
  {
   "cell_type": "markdown",
   "metadata": {},
   "source": [
    "### iv. Find users with the largest number of accepted answers to a topic\n",
    "\n",
    "The users who achieved the largest number of accepted answers for a topic may be regarded as experts on this topic. Here is one way to identify such users:"
   ]
  },
  {
   "cell_type": "code",
   "execution_count": null,
   "metadata": {},
   "outputs": [],
   "source": [
    "edges_df = all_edges.rdd.map(lambda r:Row(users=int(r.users.id[1:]),posts=int(r.posts.id[1:]),tags=r.tags)).toDF()\n",
    "accepted_answers = edges_df.join(posts.withColumnRenamed(\"_Id\",\"posts\"),\"posts\").join(comments.withColumnRenamed(\"_Id\",\"_AcceptedAnswerId\"),\"_AcceptedAnswerId\")\n",
    "accepted_answers_count = accepted_answers.where(\"users = _UserId\").groupBy(\"users\",\"tags\").count().sort(\"count\",ascending=False)\n",
    "\n",
    "accepted_answers_count.limit(10).show()"
   ]
  },
  {
   "cell_type": "markdown",
   "metadata": {},
   "source": [
    "### v. The number of users that have written accepted answers for different topics\n",
    "\n",
    "The number of distinct topics for which a user has at least one answer selected as the best answer could be indicative of the user's diversity of skills. We compute the number of users who have answers selected as best answers for a given number of distinct topics as follows."
   ]
  },
  {
   "cell_type": "code",
   "execution_count": null,
   "metadata": {},
   "outputs": [],
   "source": [
    "nbTopicsAnswered = accepted_answers_count.groupBy(\"users\").count().withColumnRenamed(\"count\",\"nb\").groupBy(\"nb\").count().withColumnRenamed(\"count\",\"c\").sort(\"nb\").collect()\n",
    "\n",
    "plt.stem([t.nb for t in nbTopicsAnswered], [t.c for t in nbTopicsAnswered])\n",
    "plt.xlim([0, 5])\n",
    "plt.ylim([0, 10])\n",
    "plt.xlabel('Number of topics')\n",
    "plt.ylabel('Number of users')"
   ]
  },
  {
   "cell_type": "markdown",
   "metadata": {},
   "source": [
    "## 5. Temporal graph properties\n",
    "\n",
    "Here we examine activity of user contributions over time. \n",
    "\n",
    "### a. Number of comments submitted per month"
   ]
  },
  {
   "cell_type": "code",
   "execution_count": null,
   "metadata": {},
   "outputs": [],
   "source": [
    "dt = comments.select(\"_CreationDate\").rdd.map(lambda r: datetime.strptime(r._CreationDate, '%Y-%m-%dT%H:%M:%S.%f')).collect()\n",
    "\n",
    "months = [''.join([str(r.year),'-',str(r.month)])  for r in dt] # this is a bit hacky\n",
    "fig, ax = plt.subplots(figsize=(12,3))\n",
    "\n",
    "a, b, c = ax.hist(months,bins=35,histtype='stepfilled', edgecolor='none', alpha=0.7)\n",
    "\n",
    "ax.set_ylabel('# comments')\n",
    "ax.set_xlabel('month');\n",
    "plt.xticks(rotation=90);"
   ]
  },
  {
   "cell_type": "markdown",
   "metadata": {},
   "source": [
    "We observe a general trend of increasing number of contributions over time."
   ]
  },
  {
   "cell_type": "markdown",
   "metadata": {},
   "source": [
    "### b. Number of posts created in different days of a week"
   ]
  },
  {
   "cell_type": "code",
   "execution_count": null,
   "metadata": {},
   "outputs": [],
   "source": [
    "fig, ax = plt.subplots(figsize=(12,3))\n",
    "\n",
    "ax.hist([x.weekday() for x in dt],bins=[0, 1, 2, 3, 4, 5, 6, 7], edgecolor='w', alpha=0.7)\n",
    "ax.set_xticks([0.5, 1.5, 2.5, 3.5, 4.5, 5.5, 6.5])\n",
    "ax.set_xlim([0,7])\n",
    "ax.set_xticklabels(['Mon', 'Tue', 'Wed', 'Thu', 'Fri', 'Sat', 'Sun'])\n",
    "ax.set_ylabel('# comments')"
   ]
  },
  {
   "cell_type": "code",
   "execution_count": null,
   "metadata": {},
   "outputs": [],
   "source": []
  }
 ],
 "metadata": {
  "anaconda-cloud": {},
  "kernelspec": {
   "display_name": "PySpark",
   "language": "python",
   "name": "pyspark"
  },
  "language_info": {
   "codemirror_mode": {
    "name": "ipython",
    "version": 2
   },
   "file_extension": ".py",
   "mimetype": "text/x-python",
   "name": "python",
   "nbconvert_exporter": "python",
   "pygments_lexer": "ipython2",
   "version": "2.7.14"
  }
 },
 "nbformat": 4,
 "nbformat_minor": 2
}

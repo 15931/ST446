{
 "cells": [
  {
   "cell_type": "markdown",
   "metadata": {},
   "source": [
    "# ST446 Distributed Computing for Big Data\n",
    "\n",
    "## Week 05 class: Stack Exchange Data Analysis\n",
    "\n",
    "### LT 2020\n",
    "---\n",
    "\n",
    "![stack exchange](https://cdn.sstatic.net/Sites/stackoverflow/company/img/logos/se/se-logo.svg?v=d29f0785ebb7)\n",
    "\n",
    "Stack Exchange (https://stackexchange.com/) is a network of question-and-answer (Q&A) websites on topics in varied fields, each site covering a specific topic: https://stackoverflow.com. \n",
    "All sites in the network are modelled after the initial site Stack Overflow, a Q&A site for computer programming questions.\n",
    "\n",
    "An anonymized dump of all user-contributed content on the Stack Exchange network is available from https://archive.org/details/stackexchange. Each site is formatted as a separate archive consisting of XML files (zipped via 7-zip using bzip2 compression). Each site archive includes Posts, Users, Tags, Votes, Comments, PostHistory and PostLinks. \n",
    "\n",
    "In this notebook, we analyze user-contributions in Stack Exchange using Spark graphframes package and the associated API. \n",
    "We will first import the data into Spark GraphFrames and then analyze and visualize various graph properties using GraphFrames API."
   ]
  },
  {
   "cell_type": "markdown",
   "metadata": {},
   "source": [
    "## Preliminaries\n",
    "\n",
    "This notebook uses two packages: [spark-xml](https://github.com/databricks/spark-xml) (for importing data from xml files) and [graphframes](https://graphframes.github.io/) (for working with Spark GraphFrames). \n",
    "\n",
    "We strongly recommend to include the packages in the dataproc cluster initialisation (when you set up the cluster) like so:\n",
    "\n",
    " ```\n",
    " gcloud dataproc clusters create jialin-cluster --project st446-lent \\\n",
    "  --properties=^#^spark:spark.jars.packages=graphframes:graphframes:0.5.0-spark2.1-s_2.11,com.databricks:spark-xml_2.11:0.4.1 \\\n",
    "  --subnet default --zone europe-west2-a --master-machine-type n1-standard-4 --master-boot-disk-size 500 --num-workers 2 --worker-machine-type n1-standard-4 --worker-boot-disk-size 500 --image-version 1.3-deb9 \\\n",
    "  --initialization-actions 'gs://dataproc-initialization-actions/jupyter/jupyter.sh','gs://dataproc-initialization-actions/python/pip-install.sh','gs://dataproc-initialization-actions/zookeeper/zookeeper.sh','gs://dataproc-initialization-actions/kafka/kafka.sh' \\\n",
    "  --metadata 'PIP_PACKAGES=sklearn nltk pandas graphframes'\n",
    "```\n",
    "\n",
    "Then, choose option 1).\n",
    "\n",
    "You can use these two packages in PySpark in one of the following ways:\n",
    "\n",
    "1) Run the code block here:"
   ]
  },
  {
   "cell_type": "code",
   "execution_count": 1,
   "metadata": {},
   "outputs": [],
   "source": [
    "import os\n",
    "os.environ['PYSPARK_SUBMIT_ARGS'] = '--packages graphframes:graphframes:0.4.0-spark2.0-s_2.11,com.databricks:spark-xml_2.11:0.4.1 pyspark-shell'"
   ]
  },
  {
   "cell_type": "markdown",
   "metadata": {},
   "source": [
    "If you use your own machine, these options might be useful.\n",
    "\n",
    "2) Add the GraphFrames package information to the Spark config file: add \n",
    "```\n",
    "spark.jars.packages com.databricks:spark-xml_2.11:0.4.1,graphframes:graphframes:0.3.0-spark2.0-s_2.11\n",
    "``` \n",
    "to \n",
    "```\n",
    "$SPARK_HOME/conf/spark-defaults.conf \n",
    "```\n",
    "and then run the `pyspark` in a command line interface.\n",
    "    \n",
    "3) Add the package information as the option argument when running PySpark from a command line interface: run \n",
    "```\n",
    "pyspark --packages com.databricks:spark-xml_2.11:0.4.1,graphframes:graphframes:0.3.0-spark2.0-s_2.11\n",
    "```"
   ]
  },
  {
   "cell_type": "markdown",
   "metadata": {},
   "source": [
    "### Load libraries\n",
    "\n",
    "Run the following code to import the required libraries."
   ]
  },
  {
   "cell_type": "code",
   "execution_count": 2,
   "metadata": {},
   "outputs": [],
   "source": [
    "from pyspark.sql import SQLContext\n",
    "sqlContext = SQLContext(sc)\n",
    "\n",
    "import graphframes\n",
    "from graphframes import *\n",
    "import matplotlib.pyplot as plt\n",
    "%matplotlib inline\n",
    "\n",
    "from pyspark.sql.functions import col, lit, when\n",
    "from pyspark.sql import Row\n",
    "\n",
    "from datetime import datetime\n",
    "\n",
    "import re\n",
    "import numpy as np\n",
    "\n",
    "sc.setCheckpointDir(\"gs://jialin-bucket/tmp/\") # change where to store if you want to"
   ]
  },
  {
   "cell_type": "markdown",
   "metadata": {},
   "source": [
    "## Loading data from XML files"
   ]
  },
  {
   "cell_type": "markdown",
   "metadata": {},
   "source": [
    "Please download the required xml files from here (and put them into your bucket): https://www.dropbox.com/sh/89xbpcjl4oq0j4w/AAA4_cGYM5TqB3dkczIQ0qQJa/StackExchange?dl=0\n",
    "\n",
    "Please change the name `PostLinks` to `Postlinks` to be able to use the code below. I put them into `gs://jialin-bucket/stackexchange/`."
   ]
  },
  {
   "cell_type": "code",
   "execution_count": 5,
   "metadata": {},
   "outputs": [],
   "source": [
    "# make sure you have downloaded the data in a bucket and change _fpath_ to the location of the data\n",
    "fpath = 'gs://jialin-bucket/stackexchange/'\n",
    "\n",
    "def load_xml(table_name):\n",
    "    xml_name = table_name.capitalize()\n",
    "    table = sqlContext.read.format('com.databricks.spark.xml').options(rowTag=table_name).load(fpath+xml_name+'.xml')\n",
    "    rdd_table = table.rdd.flatMap(lambda x: x).flatMap(lambda x: x)\n",
    "    df = sqlContext.createDataFrame(rdd_table, table.schema.fields[0].dataType.elementType)\n",
    "    df.createOrReplaceTempView(table_name)\n",
    "    return df"
   ]
  },
  {
   "cell_type": "code",
   "execution_count": 6,
   "metadata": {},
   "outputs": [],
   "source": [
    "users = load_xml(\"users\")  # information about users, such as their reputation, name, access data, down votes, etc....\n",
    "posts = load_xml(\"posts\")  # contains the text (body) of posts, whether they are questions or answers, how they relate to users and answers\n",
    "postlinks = load_xml(\"postlinks\") # links\n",
    "comments = load_xml(\"comments\")\n",
    "tags = load_xml(\"tags\")"
   ]
  },
  {
   "cell_type": "markdown",
   "metadata": {},
   "source": [
    "# Understanding the data\n",
    "Have a look at the structure of posts, ansers and comments: \n",
    "https://worldbuilding.stackexchange.com/questions/138559/how-to-prevent-superluminal-traveling-idiots-from-wrecking-half-of-the-universe\n",
    "\n",
    "Understanding users is pretty straightforward:"
   ]
  },
  {
   "cell_type": "code",
   "execution_count": 7,
   "metadata": {},
   "outputs": [
    {
     "name": "stdout",
     "output_type": "stream",
     "text": [
      "<class 'pyspark.sql.dataframe.DataFrame'>\n",
      "root\n",
      " |-- _AboutMe: string (nullable = true)\n",
      " |-- _AccountId: long (nullable = true)\n",
      " |-- _Age: long (nullable = true)\n",
      " |-- _CreationDate: string (nullable = true)\n",
      " |-- _DisplayName: string (nullable = true)\n",
      " |-- _DownVotes: long (nullable = true)\n",
      " |-- _Id: long (nullable = true)\n",
      " |-- _LastAccessDate: string (nullable = true)\n",
      " |-- _Location: string (nullable = true)\n",
      " |-- _ProfileImageUrl: string (nullable = true)\n",
      " |-- _Reputation: long (nullable = true)\n",
      " |-- _UpVotes: long (nullable = true)\n",
      " |-- _VALUE: string (nullable = true)\n",
      " |-- _Views: long (nullable = true)\n",
      " |-- _WebsiteUrl: string (nullable = true)\n",
      "\n"
     ]
    }
   ],
   "source": [
    "# schema of the dataframe\n",
    "print(type(users))\n",
    "users.printSchema()"
   ]
  },
  {
   "cell_type": "markdown",
   "metadata": {},
   "source": [
    "Posts are relatively complex, they can be of two types:\n",
    "- `Id`\n",
    "- `PostTypeId`\n",
    "      - 1: Question\n",
    "      - 2: Answer\n",
    "- `ParentID` (only present if `PostTypeId` is 2, i.e. only answers have parents)\n",
    "- `AcceptedAnswerId` (only present if `PostTypeId` is 1, i.e. only questions may have accepted answers)\n",
    "\n",
    "Posts have owners (typically the user who asked a question or wrote an answer) and editors (users who edit posts)."
   ]
  },
  {
   "cell_type": "code",
   "execution_count": 8,
   "metadata": {},
   "outputs": [
    {
     "name": "stdout",
     "output_type": "stream",
     "text": [
      "root\n",
      " |-- _AcceptedAnswerId: long (nullable = true)\n",
      " |-- _AnswerCount: long (nullable = true)\n",
      " |-- _Body: string (nullable = true)\n",
      " |-- _ClosedDate: string (nullable = true)\n",
      " |-- _CommentCount: long (nullable = true)\n",
      " |-- _CommunityOwnedDate: string (nullable = true)\n",
      " |-- _CreationDate: string (nullable = true)\n",
      " |-- _FavoriteCount: long (nullable = true)\n",
      " |-- _Id: long (nullable = true)\n",
      " |-- _LastActivityDate: string (nullable = true)\n",
      " |-- _LastEditDate: string (nullable = true)\n",
      " |-- _LastEditorDisplayName: string (nullable = true)\n",
      " |-- _LastEditorUserId: long (nullable = true)\n",
      " |-- _OwnerDisplayName: string (nullable = true)\n",
      " |-- _OwnerUserId: long (nullable = true)\n",
      " |-- _ParentId: long (nullable = true)\n",
      " |-- _PostTypeId: long (nullable = true)\n",
      " |-- _Score: long (nullable = true)\n",
      " |-- _Tags: string (nullable = true)\n",
      " |-- _Title: string (nullable = true)\n",
      " |-- _VALUE: string (nullable = true)\n",
      " |-- _ViewCount: long (nullable = true)\n",
      "\n"
     ]
    }
   ],
   "source": [
    "posts.printSchema()"
   ]
  },
  {
   "cell_type": "markdown",
   "metadata": {},
   "source": [
    "Post links connect two posts (answers or questions).  They can be of either of two types:\n",
    "- `PostLinkTypeId`\n",
    "       - 1: Linked (the question is related to another question)\n",
    "       - 3: Duplicate (somebody has decided that the question has been asked before)"
   ]
  },
  {
   "cell_type": "code",
   "execution_count": 9,
   "metadata": {},
   "outputs": [
    {
     "name": "stdout",
     "output_type": "stream",
     "text": [
      "root\n",
      " |-- _CreationDate: string (nullable = true)\n",
      " |-- _Id: long (nullable = true)\n",
      " |-- _LinkTypeId: long (nullable = true)\n",
      " |-- _PostId: long (nullable = true)\n",
      " |-- _RelatedPostId: long (nullable = true)\n",
      " |-- _VALUE: string (nullable = true)\n",
      "\n"
     ]
    }
   ],
   "source": [
    "postlinks.printSchema()"
   ]
  },
  {
   "cell_type": "markdown",
   "metadata": {},
   "source": [
    "Tags are referenced by posts. They have a name and some additional data, for example:\n",
    "\n",
    "`<row Id=\"23\" TagName=\"apache-hadoop\" Count=\"80\" ExcerptPostId=\"5840\" WikiPostId=\"5839\" />`"
   ]
  },
  {
   "cell_type": "code",
   "execution_count": 10,
   "metadata": {},
   "outputs": [
    {
     "name": "stdout",
     "output_type": "stream",
     "text": [
      "root\n",
      " |-- _Count: long (nullable = true)\n",
      " |-- _ExcerptPostId: long (nullable = true)\n",
      " |-- _Id: long (nullable = true)\n",
      " |-- _TagName: string (nullable = true)\n",
      " |-- _VALUE: string (nullable = true)\n",
      " |-- _WikiPostId: long (nullable = true)\n",
      "\n"
     ]
    }
   ],
   "source": [
    "tags.printSchema()"
   ]
  },
  {
   "cell_type": "markdown",
   "metadata": {},
   "source": [
    "Comments are made by a user and are connected to a post (users can comment on answers and questions)."
   ]
  },
  {
   "cell_type": "code",
   "execution_count": 11,
   "metadata": {},
   "outputs": [
    {
     "name": "stdout",
     "output_type": "stream",
     "text": [
      "root\n",
      " |-- _CreationDate: string (nullable = true)\n",
      " |-- _Id: long (nullable = true)\n",
      " |-- _PostId: long (nullable = true)\n",
      " |-- _Score: long (nullable = true)\n",
      " |-- _Text: string (nullable = true)\n",
      " |-- _UserDisplayName: string (nullable = true)\n",
      " |-- _UserId: long (nullable = true)\n",
      " |-- _VALUE: string (nullable = true)\n",
      "\n"
     ]
    }
   ],
   "source": [
    "comments.printSchema()"
   ]
  },
  {
   "cell_type": "code",
   "execution_count": 12,
   "metadata": {},
   "outputs": [
    {
     "data": {
      "text/plain": [
       "11390"
      ]
     },
     "execution_count": 12,
     "metadata": {},
     "output_type": "execute_result"
    }
   ],
   "source": [
    "# total number of posts\n",
    "posts.count()"
   ]
  },
  {
   "cell_type": "code",
   "execution_count": 13,
   "metadata": {},
   "outputs": [
    {
     "data": {
      "text/plain": [
       "[Row(_AcceptedAnswerId=None, _AnswerCount=1, _Body='<p>I\\'ve always been interested in machine learning, but I can\\'t figure out one thing about starting out with a simple \"Hello World\" example - how can I avoid hard-coding behavior?</p>\\n\\n<p>For example, if I wanted to \"teach\" a bot how to avoid randomly placed obstacles, I couldn\\'t just use relative motion, because the obstacles move around, but I don\\'t want to hard code, say, distance, because that ruins the whole point of machine learning.</p>\\n\\n<p>Obviously, randomly generating code would be impractical, so how could I do this?</p>\\n', _ClosedDate='2014-05-14T14:40:25.950', _CommentCount=1, _CommunityOwnedDate=None, _CreationDate='2014-05-13T23:58:30.457', _FavoriteCount=1, _Id=5, _LastActivityDate='2014-05-14T00:36:31.077', _LastEditDate=None, _LastEditorDisplayName=None, _LastEditorUserId=None, _OwnerDisplayName=None, _OwnerUserId=5, _ParentId=None, _PostTypeId=1, _Score=7, _Tags='<machine-learning>', _Title='How can I do simple machine learning without hard-coding behavior?', _VALUE=None, _ViewCount=338)]"
      ]
     },
     "execution_count": 13,
     "metadata": {},
     "output_type": "execute_result"
    }
   ],
   "source": [
    "# have a look at one of the posts\n",
    "posts.take(1)"
   ]
  },
  {
   "cell_type": "markdown",
   "metadata": {},
   "source": [
    "## Graph analysis \n",
    "\n",
    "## 1. Graph of post references\n",
    "\n",
    "In Stack Exchange, each post may reference other posts through links. For example, pointing the user who posted a question to one or more other posts that addressed his or her question. We are now going to study the graph defined by post references.  \n",
    "\n",
    "### a. Building the graph\n",
    "\n",
    "We are going to create a GraphFrame that consists of a _vertices_ dataframe containing information about vertices (posts) and an _edges_ dataframe containing information about edges (links). \n",
    "\n",
    "We are going to \n",
    "* set the vertice column to  **id** in the vertices DataFrame\n",
    "* set the begin and end edge columns to **src** and **dst** for the edges DataFrame\n",
    "\n",
    "We are creating a _directed graph_, as links point from a vertex **src** to another vertex **dst**."
   ]
  },
  {
   "cell_type": "code",
   "execution_count": 14,
   "metadata": {},
   "outputs": [],
   "source": [
    "postsVertices = posts.withColumnRenamed(\"_Id\",\"id\").withColumnRenamed(\"_PostTypeId\",\"PostTypeID\").select(\"id\",\"PostTypeID\").distinct()\n",
    "postsEdges = postlinks.withColumnRenamed(\"_PostId\",\"src\").withColumnRenamed(\"_RelatedPostId\",\"dst\").select(\"src\",\"dst\")\n",
    "postsGraph = GraphFrame(postsVertices,postsEdges)"
   ]
  },
  {
   "cell_type": "code",
   "execution_count": 15,
   "metadata": {},
   "outputs": [
    {
     "name": "stdout",
     "output_type": "stream",
     "text": [
      "+----+----------+\n",
      "|  id|PostTypeID|\n",
      "+----+----------+\n",
      "| 276|         2|\n",
      "| 826|         2|\n",
      "| 908|         2|\n",
      "|5064|         1|\n",
      "|5778|         2|\n",
      "+----+----------+\n",
      "only showing top 5 rows\n",
      "\n",
      "+---+---+\n",
      "|src|dst|\n",
      "+---+---+\n",
      "| 14|  1|\n",
      "| 75| 71|\n",
      "| 59| 41|\n",
      "|361| 61|\n",
      "| 61|361|\n",
      "+---+---+\n",
      "only showing top 5 rows\n",
      "\n"
     ]
    }
   ],
   "source": [
    "postsVertices.show(5)\n",
    "postsEdges.show(5)"
   ]
  },
  {
   "cell_type": "code",
   "execution_count": 16,
   "metadata": {},
   "outputs": [
    {
     "name": "stdout",
     "output_type": "stream",
     "text": [
      "GraphFrame(v:[id: bigint, PostTypeID: bigint], e:[src: bigint, dst: bigint])\n"
     ]
    }
   ],
   "source": [
    "print(postsGraph)"
   ]
  },
  {
   "cell_type": "markdown",
   "metadata": {},
   "source": [
    "### b. Queries \n",
    "\n",
    "### i. Simple queries"
   ]
  },
  {
   "cell_type": "markdown",
   "metadata": {},
   "source": [
    "#### Count the number of posts and links"
   ]
  },
  {
   "cell_type": "code",
   "execution_count": 17,
   "metadata": {},
   "outputs": [
    {
     "name": "stdout",
     "output_type": "stream",
     "text": [
      "Posts:  11390\n",
      "References:  369\n",
      "Distinct references:  346\n"
     ]
    }
   ],
   "source": [
    "print(\"Posts: \", postsGraph.vertices.count())\n",
    "print(\"References: \", postsGraph.edges.count())\n",
    "print(\"Distinct references: \", postsGraph.edges.distinct().count())"
   ]
  },
  {
   "cell_type": "markdown",
   "metadata": {},
   "source": [
    "There are not many links between posts in general!"
   ]
  },
  {
   "cell_type": "markdown",
   "metadata": {},
   "source": [
    "#### Count the number of posts related to machine learning topic"
   ]
  },
  {
   "cell_type": "code",
   "execution_count": 18,
   "metadata": {},
   "outputs": [
    {
     "name": "stdout",
     "output_type": "stream",
     "text": [
      "Number of posts related to machine learning: 97\n"
     ]
    }
   ],
   "source": [
    "print(\"Number of posts related to machine learning:\", postsGraph.vertices.filter(\"_Tags = '<machine-learning>'\").count())"
   ]
  },
  {
   "cell_type": "markdown",
   "metadata": {},
   "source": [
    "#### Count the number of Questions and Answers"
   ]
  },
  {
   "cell_type": "code",
   "execution_count": 19,
   "metadata": {},
   "outputs": [
    {
     "name": "stdout",
     "output_type": "stream",
     "text": [
      "Number of Questions: 4950\n",
      "Number of Answers: 6216\n"
     ]
    }
   ],
   "source": [
    "print(\"Number of Questions:\", postsGraph.vertices.filter(\"_PostTypeId = 1\").count())\n",
    "print(\"Number of Answers:\", postsGraph.vertices.filter(\"_PostTypeId = 2\").count())"
   ]
  },
  {
   "cell_type": "markdown",
   "metadata": {},
   "source": [
    "#### Posts with the highest number of references to other posts"
   ]
  },
  {
   "cell_type": "code",
   "execution_count": 20,
   "metadata": {},
   "outputs": [
    {
     "name": "stdout",
     "output_type": "stream",
     "text": [
      "+----+-----+\n",
      "| src|count|\n",
      "+----+-----+\n",
      "|5826|    8|\n",
      "|8646|    5|\n",
      "|9580|    4|\n",
      "|2346|    4|\n",
      "|9677|    4|\n",
      "+----+-----+\n",
      "only showing top 5 rows\n",
      "\n"
     ]
    }
   ],
   "source": [
    "postsGraph.edges.groupBy(\"src\").count().sort(\"count\", ascending = False).show(5)"
   ]
  },
  {
   "cell_type": "markdown",
   "metadata": {},
   "source": [
    "Note that this corresponds to the outdegree of nodes. The post with the highest number of links pointing to posts only contains 8 links. "
   ]
  },
  {
   "cell_type": "markdown",
   "metadata": {},
   "source": [
    "#### How are answers and questions linked?\n",
    "\n",
    "We use some simple motif queries. Harder ones will be explained later.\n",
    "\n",
    "How many answers point to questions?"
   ]
  },
  {
   "cell_type": "code",
   "execution_count": 21,
   "metadata": {},
   "outputs": [
    {
     "name": "stdout",
     "output_type": "stream",
     "text": [
      "edges found: 317\n",
      "Answers pointing to other posts: 0\n"
     ]
    }
   ],
   "source": [
    "allLinksMotif = postsGraph.find(\"(a)-[e]->(b)\")\n",
    "print(\"edges found:\", allLinksMotif.count())\n",
    "print(\"Answers pointing to other posts:\", allLinksMotif.filter(\"a.PostTypeID = 2\").count())"
   ]
  },
  {
   "cell_type": "markdown",
   "metadata": {},
   "source": [
    "How many questions point to questions?"
   ]
  },
  {
   "cell_type": "code",
   "execution_count": 22,
   "metadata": {},
   "outputs": [
    {
     "data": {
      "text/plain": [
       "317"
      ]
     },
     "execution_count": 22,
     "metadata": {},
     "output_type": "execute_result"
    }
   ],
   "source": [
    "allLinksMotif.filter(\"a.PostTypeID = 1 and b.PostTypeID = 1\").count()"
   ]
  },
  {
   "cell_type": "markdown",
   "metadata": {},
   "source": [
    "How many questions point to answers?"
   ]
  },
  {
   "cell_type": "code",
   "execution_count": 23,
   "metadata": {},
   "outputs": [
    {
     "data": {
      "text/plain": [
       "0"
      ]
     },
     "execution_count": 23,
     "metadata": {},
     "output_type": "execute_result"
    }
   ],
   "source": [
    "allLinksMotif.filter(\"a.PostTypeID = 1 and b.PostTypeID = 2\").count()"
   ]
  },
  {
   "cell_type": "markdown",
   "metadata": {},
   "source": [
    "It turns out that in this data set links have always been assigned to question. Even if links are part of an answer, they are assigned to the corresponding question\n",
    "\n",
    "Where does the discrepancy between the number of edges found here and earlier come from? - It seems like there are \"dangling edges\". This seems to be a problem with the data a set:"
   ]
  },
  {
   "cell_type": "code",
   "execution_count": 24,
   "metadata": {},
   "outputs": [
    {
     "data": {
      "text/plain": [
       "369"
      ]
     },
     "execution_count": 24,
     "metadata": {},
     "output_type": "execute_result"
    }
   ],
   "source": [
    "postsGraph.find(\"()-[e]->()\").count()"
   ]
  },
  {
   "cell_type": "code",
   "execution_count": 25,
   "metadata": {},
   "outputs": [
    {
     "data": {
      "text/plain": [
       "325"
      ]
     },
     "execution_count": 25,
     "metadata": {},
     "output_type": "execute_result"
    }
   ],
   "source": [
    "postsGraph.find(\"(a)-[e]->()\").count() # this seems to be the culprit!"
   ]
  },
  {
   "cell_type": "code",
   "execution_count": 26,
   "metadata": {},
   "outputs": [
    {
     "data": {
      "text/plain": [
       "369"
      ]
     },
     "execution_count": 26,
     "metadata": {},
     "output_type": "execute_result"
    }
   ],
   "source": [
    "postsGraph.find(\"()-[e]->(a)\").count()"
   ]
  },
  {
   "cell_type": "markdown",
   "metadata": {},
   "source": [
    "There only seem to be links between questions."
   ]
  },
  {
   "cell_type": "markdown",
   "metadata": {},
   "source": [
    "### ii. Vertex degrees\n",
    "\n",
    "Let us now analyze postsGraph to gain some understanding about the incoming and outcoming references of posts.\n",
    "\n",
    "* `inDegree`: number of references _to_ the post\n",
    "* `outDegree`: number of references _from_ the post \n",
    "* `degree`: total number of references either _to_ or _from_ the post\n",
    "\n",
    "#### Degrees:"
   ]
  },
  {
   "cell_type": "code",
   "execution_count": 27,
   "metadata": {},
   "outputs": [
    {
     "name": "stdout",
     "output_type": "stream",
     "text": [
      "+----+------+\n",
      "|  id|degree|\n",
      "+----+------+\n",
      "|5826|     8|\n",
      "| 739|     8|\n",
      "|  22|     7|\n",
      "|1107|     6|\n",
      "| 155|     6|\n",
      "+----+------+\n",
      "only showing top 5 rows\n",
      "\n"
     ]
    }
   ],
   "source": [
    "postsGraph.degrees.sort(\"Degree\", ascending=False).show(5)"
   ]
  },
  {
   "cell_type": "code",
   "execution_count": 28,
   "metadata": {},
   "outputs": [
    {
     "data": {
      "image/png": "[encoded data removed]",
      "text/plain": [
       "<Figure size 432x288 with 1 Axes>"
      ]
     },
     "metadata": {
      "needs_background": "light"
     },
     "output_type": "display_data"
    }
   ],
   "source": [
    "plt.hist(postsGraph.degrees.select(\"degree\").rdd.flatMap(lambda x: x).collect(), bins=range(1,10));\n",
    "plt.ylabel('Number of posts')\n",
    "plt.xlabel('Degree');"
   ]
  },
  {
   "cell_type": "markdown",
   "metadata": {},
   "source": [
    "#### inDegrees"
   ]
  },
  {
   "cell_type": "code",
   "execution_count": 29,
   "metadata": {},
   "outputs": [
    {
     "data": {
      "text/plain": [
       "335"
      ]
     },
     "execution_count": 29,
     "metadata": {},
     "output_type": "execute_result"
    }
   ],
   "source": [
    "postsGraph.degrees.filter(\"Degree = 1\").count()"
   ]
  },
  {
   "cell_type": "code",
   "execution_count": 30,
   "metadata": {},
   "outputs": [
    {
     "name": "stdout",
     "output_type": "stream",
     "text": [
      "+----+--------+\n",
      "|  id|inDegree|\n",
      "+----+--------+\n",
      "| 739|       8|\n",
      "|  22|       7|\n",
      "| 155|       6|\n",
      "|1107|       5|\n",
      "| 758|       5|\n",
      "+----+--------+\n",
      "only showing top 5 rows\n",
      "\n"
     ]
    }
   ],
   "source": [
    "postsGraph.inDegrees.sort(\"inDegree\", ascending=False).show(5)"
   ]
  },
  {
   "cell_type": "code",
   "execution_count": 31,
   "metadata": {},
   "outputs": [
    {
     "name": "stdout",
     "output_type": "stream",
     "text": [
      "[Row(_PostTypeID=1)]\n",
      "[Row(_Body='<p>I am an MSc student at the University of Edinburgh, specialized in machine learning and natural language processing. I had some practical courses focused on data mining, and others dealing with machine learning, bayesian statistics and graphical models. My background is a BSc in Computer Science.</p>\\n\\n<p>I did some software engineering and I learnt the basic concepts, such as design patterns, but I have never been involved in a large software development project. However, I had a data mining project in my MSc. My question is, if I want to go for a career as Data Scientist, should I apply for a graduate data scientist position first, or should I get a position as graduate software engineer first, maybe something related to data science, such as big data infrastructure or machine learning software development?</p>\\n\\n<p>My concern is that I might need good software engineering skills for data science, and I am not sure if these can be obtained by working as a graduate data scientist directly.</p>\\n\\n<p>Moreover, at the moment I like Data Mining, but what if I want to change my career to software engineering in the future? It might be difficult if I specialised so much in data science.</p>\\n\\n<p>I have not been employed yet, so my knowledge is still limited. Any clarification or advice are welcome, as I am about to finish my MSc and I want to start applying for graduate positions in early October.</p>\\n')]\n"
     ]
    }
   ],
   "source": [
    "# what is the post with the high in-degree?\n",
    "print(posts.select(\"_PostTypeID\").where(\"_Id == 739\").collect())\n",
    "print(posts.select(\"_Body\").where(\"_Id == 739\").collect())"
   ]
  },
  {
   "cell_type": "markdown",
   "metadata": {},
   "source": [
    "#### outDegrees"
   ]
  },
  {
   "cell_type": "code",
   "execution_count": 32,
   "metadata": {},
   "outputs": [
    {
     "name": "stdout",
     "output_type": "stream",
     "text": [
      "+----+---------+\n",
      "|  id|outDegree|\n",
      "+----+---------+\n",
      "|5826|        8|\n",
      "|8646|        5|\n",
      "|9580|        4|\n",
      "|2346|        4|\n",
      "|9677|        4|\n",
      "+----+---------+\n",
      "only showing top 5 rows\n",
      "\n"
     ]
    }
   ],
   "source": [
    "postsGraph.outDegrees.sort(\"outDegree\", ascending=False).show(5)"
   ]
  },
  {
   "cell_type": "markdown",
   "metadata": {},
   "source": [
    "Let us check the content of the post that has the largest outdegree:"
   ]
  },
  {
   "cell_type": "code",
   "execution_count": 33,
   "metadata": {
    "scrolled": false
   },
   "outputs": [
    {
     "name": "stdout",
     "output_type": "stream",
     "text": [
      "[Row(_PostTypeID=1)]\n",
      "[Row(_Body='<p>I am looking to change careers and would appreciate some advice. </p>\\n\\n<p>I have an undergraduate degree in English Literature and a JD. Needless to say, these were not the best decisions and I would like to change my career. I have always enjoyed math and science, and after months of research and self study, I have decided that I would like to pursue statistics. </p>\\n\\n<p>My question is basically this : would it be better to get another Bach. Degree in statistics or should I take calculus 1-3, linear algebra, probably and statistics and some computer science courses at a community college then try to get into a grad program instead? </p>\\n\\n<p>I am afraid that without the bachelors degree I will not have the required knowledge for a masters even after taking the courses at my local c.c. However, another bachelors degree may be a worthless waste of time. </p>\\n\\n<p>Please share your thoughts. Also, sorry if this is not the right place for this question. </p>\\n')]\n"
     ]
    }
   ],
   "source": [
    "print(posts.select(\"_PostTypeID\").where(\"_Id == 5826\").collect())\n",
    "print(posts.select(\"_Body\").where(\"_Id == 5826\").collect())"
   ]
  },
  {
   "cell_type": "markdown",
   "metadata": {},
   "source": [
    "You may find out more information about this post here https://datascience.stackexchange.com/questions/5826/master-degree-in-data-science."
   ]
  },
  {
   "cell_type": "code",
   "execution_count": 34,
   "metadata": {},
   "outputs": [
    {
     "name": "stdout",
     "output_type": "stream",
     "text": [
      "0\n",
      "0\n"
     ]
    }
   ],
   "source": [
    "# answers have no out- or in-degree\n",
    "print(postsGraph.find(\"(a)-[e]->()\").filter(\"a.PostTypeID = 2\").count())\n",
    "print(postsGraph.find(\"()-[e]->(a)\").filter(\"a.PostTypeID = 2\").count())"
   ]
  },
  {
   "cell_type": "markdown",
   "metadata": {},
   "source": [
    "### iii. Ranking posts using PageRank scores\n",
    "\n",
    "We estimate approximate PageRank scores of posts by running the iterative PageRank algorithm for a specified number of iterations.\n",
    "\n",
    "The `resetProbability` in this particular algorithm is the probability with which a random walker starts at a uniformly chosen new point in the graph (https://arxiv.org/abs/1208.3071). This allows it to deal with disconnected components."
   ]
  },
  {
   "cell_type": "code",
   "execution_count": 35,
   "metadata": {},
   "outputs": [
    {
     "name": "stdout",
     "output_type": "stream",
     "text": [
      "+-----+----------+------------------+\n",
      "|   id|PostTypeID|          pagerank|\n",
      "+-----+----------+------------------+\n",
      "|  361|         1|10.763095393978398|\n",
      "|   61|         1| 7.678784071610369|\n",
      "| 2651|         1|7.5179330181755875|\n",
      "|  739|         1| 7.113671904823985|\n",
      "|17298|         1| 6.470834900206587|\n",
      "|13484|         1| 6.470834900206587|\n",
      "|13574|         1| 6.470834900206587|\n",
      "|  955|         1| 6.470834900206587|\n",
      "|  954|         1| 6.470834900206587|\n",
      "| 9612|         1| 6.470834900206587|\n",
      "+-----+----------+------------------+\n",
      "\n"
     ]
    }
   ],
   "source": [
    "# Determining ranking scores of posts using PageRank\n",
    "# note that this is not the normalised version of page-rank.\n",
    "ranks = postsGraph.pageRank(resetProbability=0.15, maxIter=5)\n",
    "ranks.vertices.orderBy(ranks.vertices.pagerank.desc()).limit(10).show()"
   ]
  },
  {
   "cell_type": "code",
   "execution_count": 36,
   "metadata": {},
   "outputs": [
    {
     "data": {
      "image/png": "[encoded data removed]",
      "text/plain": [
       "<Figure size 432x288 with 1 Axes>"
      ]
     },
     "metadata": {
      "needs_background": "light"
     },
     "output_type": "display_data"
    }
   ],
   "source": [
    "plt.hist(ranks.vertices.orderBy(\"pagerank\").select(\"pagerank\").rdd.flatMap(lambda x: x).collect(), bins=(0,2,4,6,8,10,12));\n",
    "plt.ylabel('Number of posts (log scale)')\n",
    "plt.xlabel('PageRank score');\n",
    "plt.yscale('log')"
   ]
  },
  {
   "cell_type": "code",
   "execution_count": 37,
   "metadata": {},
   "outputs": [
    {
     "data": {
      "text/plain": [
       "<matplotlib.axes._subplots.AxesSubplot at 0x7fbace3a3710>"
      ]
     },
     "execution_count": 37,
     "metadata": {},
     "output_type": "execute_result"
    },
    {
     "data": {
      "image/png": "[encoded data removed]",
      "text/plain": [
       "<Figure size 432x288 with 1 Axes>"
      ]
     },
     "metadata": {
      "needs_background": "light"
     },
     "output_type": "display_data"
    }
   ],
   "source": [
    "rankDF = ranks.vertices.orderBy(ranks.vertices.pagerank.desc()).select(\"pagerank\")\n",
    "rankDF = rankDF.toPandas().replace(0,np.nan) # get rid of zeros for loglog plot\n",
    "rankDF.plot(loglog=True, marker='.')"
   ]
  },
  {
   "cell_type": "markdown",
   "metadata": {},
   "source": [
    "### iv. Motif finding queries\n",
    "\n",
    "Motif queries allow us to query subgraphs (e.g. a path) of the input graph by specifying conditions on the graph structure and properties of vertices and edges. \n",
    "\n",
    "Here is an example of a motif query that asks for **all possible paths** of length two whose non-terminal vertex (not a source or a destination) is node 8646:"
   ]
  },
  {
   "cell_type": "code",
   "execution_count": 38,
   "metadata": {},
   "outputs": [],
   "source": [
    "link_of_ref = postsGraph.find(\"(a)-[ab]->(b); (b)-[bc]->(c)\").filter(\"b.id = 8646\")"
   ]
  },
  {
   "cell_type": "code",
   "execution_count": 39,
   "metadata": {},
   "outputs": [
    {
     "name": "stdout",
     "output_type": "stream",
     "text": [
      "+---------+------------+---------+------------+---------+\n",
      "|        a|          ab|        b|          bc|        c|\n",
      "+---------+------------+---------+------------+---------+\n",
      "|[8820, 1]|[8820, 8646]|[8646, 1]| [8646, 736]| [736, 1]|\n",
      "|[8820, 1]|[8820, 8646]|[8646, 1]|[8646, 6939]|[6939, 1]|\n",
      "|[8820, 1]|[8820, 8646]|[8646, 1]| [8646, 454]| [454, 1]|\n",
      "|[8820, 1]|[8820, 8646]|[8646, 1]|[8646, 1107]|[1107, 1]|\n",
      "|[8820, 1]|[8820, 8646]|[8646, 1]| [8646, 810]| [810, 1]|\n",
      "+---------+------------+---------+------------+---------+\n",
      "\n"
     ]
    }
   ],
   "source": [
    "link_of_ref.show()"
   ]
  },
  {
   "cell_type": "markdown",
   "metadata": {},
   "source": [
    "We have found all possible paths of length 2 with b in the middle."
   ]
  },
  {
   "cell_type": "markdown",
   "metadata": {},
   "source": [
    "### v. Connected components\n",
    "\n",
    "Finding connected components of a graph is a basic graph processing problem. Here is how we can find connected components of postsGraph and visualize their size distribusion."
   ]
  },
  {
   "cell_type": "code",
   "execution_count": 65,
   "metadata": {},
   "outputs": [
    {
     "data": {
      "image/png": "[encoded data removed]",
      "text/plain": [
       "<Figure size 432x288 with 1 Axes>"
      ]
     },
     "metadata": {
      "needs_background": "light"
     },
     "output_type": "display_data"
    }
   ],
   "source": [
    "postsComponents = postsGraph.connectedComponents() # only consider connected components\n",
    "\n",
    "# calculate the number of nodes in each \"cluster\" and show the result in a histogram\n",
    "plt.hist(postsComponents.select(\"id\", \"component\").groupBy(\"component\").count().select(\"count\").where(\"count != 1\")\n",
    "         .rdd.flatMap(lambda x: x).collect(), bins=range(0,40,5)); \n",
    "plt.ylabel('Frequency count')\n",
    "plt.xlabel('Connected component size')\n",
    "plt.yscale('log')\n",
    "\n",
    "# put plot of values, as before, not histogram"
   ]
  },
  {
   "cell_type": "markdown",
   "metadata": {},
   "source": [
    "## 2. Graph of user co-contributions\n",
    "\n",
    "We now consider the graph where vertices correspond to users and edges indicate their co-contributions to posts. In particular, we define the graph such that there is an edge between two vertices, if the corresponding users both contributed to at least one common post (either by submitting the post or a comment to this post)."
   ]
  },
  {
   "cell_type": "code",
   "execution_count": 43,
   "metadata": {},
   "outputs": [],
   "source": [
    "usersVertices = users.withColumnRenamed(\"_Id\",\"id\").select(\"id\").distinct()\n",
    "usersEdges = sqlContext.sql(\"select u._Id as dst, c._UserId as src from (users u join posts p on u._Id = p._OwnerUserId) join comments c on p._Id = c._PostId\")\n",
    "\n",
    "usersGraph = GraphFrame(usersVertices,usersEdges)"
   ]
  },
  {
   "cell_type": "markdown",
   "metadata": {},
   "source": [
    "Do the same type of basic analysis for usersGraph, as we did earlier for postsGraph:"
   ]
  },
  {
   "cell_type": "code",
   "execution_count": 44,
   "metadata": {},
   "outputs": [],
   "source": [
    "## your code"
   ]
  },
  {
   "cell_type": "markdown",
   "metadata": {},
   "source": [
    "## 3. Bipartite graph: users-posts\n",
    "\n",
    "We now examine user contributions across different posts by considering the bipartite graph that describes user contributions across different posts. \n",
    "\n",
    "Recall that a bipartite graph is a graph where the set of vertices are partitioned in two disjoint sets (referred as left and right) such that each edge of the graph connects two vertices in different set. \n",
    "\n",
    "## a. Create the graph\n",
    "\n",
    "We create the bipartite graph with the left vertices representing users and the right vertices representing posts. \n",
    "\n",
    "An edge from vertex $u$ to vertex $p$ exists if, and only if, (a) user $u$ is the owner of post $p$ or (b) user $u$ commented on post $p$."
   ]
  },
  {
   "cell_type": "code",
   "execution_count": 45,
   "metadata": {},
   "outputs": [],
   "source": [
    "# \"U\" is the prefix for user id and \"P\" is the prefix for post id to make the vertex ids unique\n",
    "\n",
    "usersVerticesWithType = usersVertices.rdd.map(lambda r: Row(id=\"U\"+str(r.id), vtype=\"user\")).toDF()\n",
    "postsVerticesWithType = postsVertices.rdd.map(lambda r: Row(id=\"P\"+str(r.id), vtype=\"post\")).toDF()\n",
    "\n",
    "commentsEdges = comments.select(\"_UserId\",\"_PostId\").rdd.map(lambda r: Row(src=\"U\"+str(r._UserId),dst=\"P\"+str(r._PostId))).toDF()\n",
    "postsEdges = posts.select(\"_OwnerUserId\",\"_Id\").rdd.map(lambda r: Row(src=\"U\"+str(r._OwnerUserId),dst=\"P\"+str(r._Id))).toDF()\n",
    "\n",
    "bipartiteVertices = usersVerticesWithType.unionAll(postsVerticesWithType)\n",
    "bipartiteEdges = commentsEdges.unionAll(postsEdges)\n",
    "\n",
    "bipartiteGraph = GraphFrame(bipartiteVertices,bipartiteEdges)"
   ]
  },
  {
   "cell_type": "code",
   "execution_count": 46,
   "metadata": {},
   "outputs": [
    {
     "name": "stdout",
     "output_type": "stream",
     "text": [
      "+-----+-----+\n",
      "|   id|vtype|\n",
      "+-----+-----+\n",
      "|  U26| user|\n",
      "|  U29| user|\n",
      "| U474| user|\n",
      "| U964| user|\n",
      "|U2509| user|\n",
      "+-----+-----+\n",
      "only showing top 5 rows\n",
      "\n",
      "+-----+-----+\n",
      "|   id|vtype|\n",
      "+-----+-----+\n",
      "| P276| post|\n",
      "| P826| post|\n",
      "| P908| post|\n",
      "|P5064| post|\n",
      "|P5778| post|\n",
      "+-----+-----+\n",
      "only showing top 5 rows\n",
      "\n"
     ]
    }
   ],
   "source": [
    "bipartiteGraph.vertices.filter(\"vtype='user'\").show(5)\n",
    "bipartiteGraph.vertices.filter(\"vtype='post'\").show(5)"
   ]
  },
  {
   "cell_type": "markdown",
   "metadata": {},
   "source": [
    "## b. Queries\n",
    "\n",
    "### i. Top 5 most contributing users\n",
    "\n",
    "We can identify a set of top 5 users who made the largest number of contributions by identifying a set of five users with largest outdegrees."
   ]
  },
  {
   "cell_type": "code",
   "execution_count": 47,
   "metadata": {},
   "outputs": [
    {
     "name": "stdout",
     "output_type": "stream",
     "text": [
      "+------+---------+\n",
      "|    id|outDegree|\n",
      "+------+---------+\n",
      "|  U381|      703|\n",
      "|  U836|      575|\n",
      "|U11097|      460|\n",
      "|   U21|      355|\n",
      "|  U471|      351|\n",
      "+------+---------+\n",
      "only showing top 5 rows\n",
      "\n"
     ]
    }
   ],
   "source": [
    "# usersOutDegrees = bipartiteGraph.outDegrees.filter(\"SUBSTRING(id, 1, 1) = 'U'\")\n",
    "usersOutDegrees = bipartiteGraph.outDegrees #only users have out dedrees!\n",
    "usersOutDegrees.sort(\"outDegree\", ascending=False).show(5)"
   ]
  },
  {
   "cell_type": "markdown",
   "metadata": {},
   "source": [
    "Let us check the user who has made the largest number of contributions."
   ]
  },
  {
   "cell_type": "code",
   "execution_count": 48,
   "metadata": {},
   "outputs": [
    {
     "name": "stdout",
     "output_type": "stream",
     "text": [
      "+------------+\n",
      "|_DisplayName|\n",
      "+------------+\n",
      "|        Emre|\n",
      "+------------+\n",
      "\n"
     ]
    },
    {
     "data": {
      "text/plain": [
       "[Row(_AboutMe=\"<p>I don't usually have the time or inclination to write long answers, so I try to point people in the right direction with a comment. I am a professional data scientist, and I write production code.</p>\\n\", _AccountId=441850, _Age=None, _CreationDate='2014-06-08T06:51:59.140', _DisplayName='Emre', _DownVotes=18, _Id=381, _LastAccessDate='2017-03-13T20:13:31.720', _Location='Silicon Valley', _ProfileImageUrl='https://www.gravatar.com/avatar/4b0380e2f3955f88f8fda269dfcfcf97?s=128&d=identicon&r=PG', _Reputation=5709, _UpVotes=555, _VALUE=None, _Views=212, _WebsiteUrl='')]"
      ]
     },
     "execution_count": 48,
     "metadata": {},
     "output_type": "execute_result"
    }
   ],
   "source": [
    "users.where(\"_Id = 381\").select(\"_DisplayName\").show()\n",
    "users.where(\"_Id == 381\").collect()"
   ]
  },
  {
   "cell_type": "markdown",
   "metadata": {},
   "source": [
    "### ii. Distribution of the number of contributions per user\n",
    "\n",
    "We plot the complementary CDF of the number of contributions per user in the log-log scale. The shape of this distibution suggests a power-law tail which is often found in nature."
   ]
  },
  {
   "cell_type": "code",
   "execution_count": 49,
   "metadata": {},
   "outputs": [
    {
     "data": {
      "image/png": "[encoded data removed]",
      "text/plain": [
       "<Figure size 432x288 with 1 Axes>"
      ]
     },
     "metadata": {
      "needs_background": "light"
     },
     "output_type": "display_data"
    }
   ],
   "source": [
    "user_contribution = usersOutDegrees.select(\"outDegree\").rdd.flatMap(lambda x: x).collect()\n",
    "plt.hist(user_contribution, bins=len(user_contribution), density=1, histtype='step', cumulative=-1)\n",
    "\n",
    "plt.xlabel('Number of contributions per user')\n",
    "plt.ylabel('Complementary CDF')\n",
    "plt.xlim([min(user_contribution),max(user_contribution)])\n",
    "plt.yscale('log')\n",
    "plt.xscale('log')\n",
    "plt.show()"
   ]
  },
  {
   "cell_type": "markdown",
   "metadata": {},
   "source": [
    "### iii. The top 5 most answered posts\n",
    "\n",
    "We can identify a set of top 5 most answered posts by selecting a set of five nodes with the largest indegree. "
   ]
  },
  {
   "cell_type": "code",
   "execution_count": 50,
   "metadata": {},
   "outputs": [
    {
     "name": "stdout",
     "output_type": "stream",
     "text": [
      "+------+--------+\n",
      "|    id|inDegree|\n",
      "+------+--------+\n",
      "|P12186|      20|\n",
      "| P5178|      19|\n",
      "|P13430|      18|\n",
      "|  P411|      18|\n",
      "|P13514|      16|\n",
      "+------+--------+\n",
      "\n"
     ]
    }
   ],
   "source": [
    "bipartiteGraph.inDegrees.sort(\"inDegree\", ascending=False).limit(5).show()"
   ]
  },
  {
   "cell_type": "markdown",
   "metadata": {},
   "source": [
    "Let us now check the post that received the largest number of answers."
   ]
  },
  {
   "cell_type": "code",
   "execution_count": 51,
   "metadata": {
    "scrolled": true
   },
   "outputs": [
    {
     "data": {
      "text/plain": [
       "[Row(_Body='<p>I have a large set of points (order of 10k points) formed by particle tracks (movement in the xy plane in time filmed by a camera, so 3d - 256x256px and ca 3k frames in my example set) and noise. These particles travel on approximately straight lines roughly (but only roughly) in the same direction, and so for the analysis of their trajectories I am trying to fit lines through the points. I tried to use Sequential RANSAC, but can\\'t find a criterion to reliably single out false positives, as well as T- and J-Linkage, which were too slow and also not reliable enough.</p>\\n\\n<p>Here is an image of a part of the dataset with good and bad fits I got with sequential Ransac: <a href=\"https://i.stack.imgur.com/8ua2o.png\" rel=\"nofollow noreferrer\"><img src=\"https://i.stack.imgur.com/8ua2o.png\" alt=\"enter image description here\"></a>\\nI\\'m using the centroids of the particle blobs here, blob sizes vary between 1 and about 20 pixels.</p>\\n\\n<p>I found that subsamples using for example only every 10th frame worked quite well too, so the data size to be processed can be reduced this way.</p>\\n\\n<p>I read a blog post about all the things neural networks can accomplish, and would like to ask you if this would be a feasible application for one before I start reading (I come from a non-maths background, so I would have to do quite a bit of reading)?</p>\\n\\n<p>Or could you suggest a different method?</p>\\n\\n<p>Thanks!</p>\\n\\n<p>Addendum: Here is code for a Matlab function to generate a sample point cloud containing 30 parallel noisy lines, which I can\\'t distinguish yet:</p>\\n\\n<pre><code>function coords = generateSampleData()\\ncoords = [];\\nfor i = 1:30\\n    randOffset = i*2;\\n    coords = vertcat(coords, makeLine([100+randOffset 100 100], [200+randOffset 200 200], 150, 0.2));\\nend\\n\\nfigure\\nscatter3(coords(:,1),coords(:,2),coords(:,3),\\'.\\')\\n\\nfunction linepts = makeLine(startpt, endpt, numpts, noiseOffset)\\n    dirvec = endpt - startpt;\\n    linepts = bsxfun( @plus, startpt, rand(numpts,1)*dirvec); % random points on line\\n    linepts = linepts + noiseOffset*randn(numpts,3); % add random offsets to points\\nend\\n\\nend\\n</code></pre>\\n')]"
      ]
     },
     "execution_count": 51,
     "metadata": {},
     "output_type": "execute_result"
    }
   ],
   "source": [
    "posts.select(\"_Body\").where(\"_Id == 12186\").collect()"
   ]
  },
  {
   "cell_type": "markdown",
   "metadata": {},
   "source": [
    "### iv. Average number of contributions per user "
   ]
  },
  {
   "cell_type": "code",
   "execution_count": 52,
   "metadata": {},
   "outputs": [
    {
     "name": "stdout",
     "output_type": "stream",
     "text": [
      "The average contribution per user that has contributed at least once is 1.34.\n"
     ]
    }
   ],
   "source": [
    "avg_contribution = bipartiteGraph.edges.count()/bipartiteGraph.edges.distinct().count()\n",
    "print(\"The average contribution per user that has contributed at least once is %.2f.\" % avg_contribution)"
   ]
  },
  {
   "cell_type": "markdown",
   "metadata": {},
   "source": [
    "## 4. Tripartite graph: users-posts-tags\n",
    "\n",
    "We now consider the tripartite graph that has three disjoint sets of vertices of the following respective types: users, posts, and tags. Tags are keywords associated with posts. \n",
    "\n",
    "## a. Creating the graph"
   ]
  },
  {
   "cell_type": "markdown",
   "metadata": {},
   "source": [
    "The edges of the graph are defined as follows:\n",
    " \n",
    "* Edge from $u$ to $p$: if user $u$ is the owner of post $p$ or $u$ has commented on post $p$\n",
    "* Edge from $p$ to $t$: if post $p$ has tag $t$\n",
    "\n",
    "We use regular expressions to extract tags from the string _Tags_."
   ]
  },
  {
   "cell_type": "code",
   "execution_count": 53,
   "metadata": {},
   "outputs": [],
   "source": [
    "tagsVerticesWithType = tags.select(\"_TagName\").distinct().rdd.map(lambda r: Row(id=str(r._TagName), vtype=\"tag\")).toDF()\n",
    "tags_regex = re.compile(r\"<\\w*>\")\n",
    "tagsEdges = posts.select(\"_Id\",\"_Tags\").dropna().rdd.flatMap(lambda r: [Row(src=\"P\"+str(r._Id),dst=tag.replace('>','').replace('<','')) for tag in tags_regex.findall(r._Tags)]).toDF()\n",
    "\n",
    "tripartiteVertices = bipartiteVertices.unionAll(tagsVerticesWithType)\n",
    "tripartiteEdges = bipartiteEdges.unionAll(tagsEdges)\n",
    "\n",
    "tripartiteGraph = GraphFrame(tripartiteVertices,tripartiteEdges)"
   ]
  },
  {
   "cell_type": "code",
   "execution_count": 54,
   "metadata": {},
   "outputs": [
    {
     "name": "stdout",
     "output_type": "stream",
     "text": [
      "+------------------+-----+\n",
      "|                id|vtype|\n",
      "+------------------+-----+\n",
      "|            graphs|  tag|\n",
      "|feature-extraction|  tag|\n",
      "| ensemble-modeling|  tag|\n",
      "|            theano|  tag|\n",
      "|        evaluation|  tag|\n",
      "+------------------+-----+\n",
      "only showing top 5 rows\n",
      "\n",
      "+-----+-----+\n",
      "|   id|vtype|\n",
      "+-----+-----+\n",
      "|  U26| user|\n",
      "|  U29| user|\n",
      "| U474| user|\n",
      "| U964| user|\n",
      "|U2509| user|\n",
      "+-----+-----+\n",
      "only showing top 5 rows\n",
      "\n",
      "+-----+-----+\n",
      "|   id|vtype|\n",
      "+-----+-----+\n",
      "| P276| post|\n",
      "| P826| post|\n",
      "| P908| post|\n",
      "|P5064| post|\n",
      "|P5778| post|\n",
      "+-----+-----+\n",
      "only showing top 5 rows\n",
      "\n",
      "+---+---+\n",
      "|dst|src|\n",
      "+---+---+\n",
      "| P5|U34|\n",
      "| P7|U51|\n",
      "| P7|U66|\n",
      "|P15|U51|\n",
      "|P10|U24|\n",
      "+---+---+\n",
      "only showing top 5 rows\n",
      "\n"
     ]
    }
   ],
   "source": [
    "tripartiteGraph.vertices.filter(\"vtype='tag'\").show(5)\n",
    "tripartiteGraph.vertices.filter(\"vtype='user'\").show(5)\n",
    "tripartiteGraph.vertices.filter(\"vtype='post'\").show(5)\n",
    "tripartiteGraph.edges.show(5)"
   ]
  },
  {
   "cell_type": "markdown",
   "metadata": {},
   "source": [
    "## b. Queries\n",
    "\n",
    "### i. Top 10 most popular topics with respect to the number of posts\n",
    "\n",
    "We can compute this by counting the number of incident edges to each tag (referred to here as topic)."
   ]
  },
  {
   "cell_type": "code",
   "execution_count": 55,
   "metadata": {},
   "outputs": [
    {
     "data": {
      "text/plain": [
       "Text(0.5, 0, 'number of posts')"
      ]
     },
     "execution_count": 55,
     "metadata": {},
     "output_type": "execute_result"
    },
    {
     "data": {
      "image/png": "[encoded data removed]",
      "text/plain": [
       "<Figure size 432x288 with 1 Axes>"
      ]
     },
     "metadata": {
      "needs_background": "light"
     },
     "output_type": "display_data"
    }
   ],
   "source": [
    "topTen = tripartiteGraph.inDegrees.sort(\"inDegree\",ascending=False).limit(10).collect()\n",
    "\n",
    "fig, ax = plt.subplots()\n",
    "ax.barh(range(len(topTen)),[t.inDegree for t in topTen], alpha=0.7)\n",
    "ax.set_yticks(range(len(topTen)))\n",
    "ax.set_yticklabels([t.id for t in topTen])\n",
    "ax.invert_yaxis()\n",
    "plt.ylabel('topics')\n",
    "plt.xlabel('number of posts')"
   ]
  },
  {
   "cell_type": "markdown",
   "metadata": {},
   "source": [
    "### ii. Top 10 most popular topics with respect to the number of user contributions\n",
    "\n",
    "We now want to compute the popularity of topics with respect to the number of user contributions made to them. We can do this by evaluating motif queries that count the number of distinct paths from user vertices to each given tag vertex. "
   ]
  },
  {
   "cell_type": "code",
   "execution_count": 56,
   "metadata": {},
   "outputs": [
    {
     "name": "stdout",
     "output_type": "stream",
     "text": [
      "+---------+---+\n",
      "|      dst|src|\n",
      "+---------+---+\n",
      "|education| P7|\n",
      "+---------+---+\n",
      "\n",
      "+---+----+\n",
      "|dst| src|\n",
      "+---+----+\n",
      "| P7| U51|\n",
      "| P7| U66|\n",
      "| P7| U36|\n",
      "| P7|U158|\n",
      "| P7| U36|\n",
      "+---+----+\n",
      "\n"
     ]
    }
   ],
   "source": [
    "# let's look at the graph's structure using one example post:\n",
    "tripartiteGraph.edges.filter(\"src='P7'\").show()\n",
    "tripartiteGraph.edges.filter(\"dst='P7'\").show()"
   ]
  },
  {
   "cell_type": "code",
   "execution_count": 57,
   "metadata": {},
   "outputs": [
    {
     "name": "stdout",
     "output_type": "stream",
     "text": [
      "+---------+----+\n",
      "|      dst| src|\n",
      "+---------+----+\n",
      "|education|  P7|\n",
      "|education|P159|\n",
      "|education|P289|\n",
      "|education|P334|\n",
      "|education|P370|\n",
      "+---------+----+\n",
      "only showing top 5 rows\n",
      "\n"
     ]
    }
   ],
   "source": [
    "tripartiteGraph.edges.filter(\"dst='education'\").show(5)"
   ]
  },
  {
   "cell_type": "code",
   "execution_count": 58,
   "metadata": {},
   "outputs": [
    {
     "name": "stdout",
     "output_type": "stream",
     "text": [
      "+--------------+--------------+----------------+\n",
      "|             c|             a|               b|\n",
      "+--------------+--------------+----------------+\n",
      "|  [U839, user]|  [P370, post]|[education, tag]|\n",
      "|  [U615, user]|  [P289, post]|[education, tag]|\n",
      "|  [U560, user]|  [P289, post]|[education, tag]|\n",
      "|[U26090, user]|[P15094, post]|[education, tag]|\n",
      "|[U21573, user]|[P12850, post]|[education, tag]|\n",
      "+--------------+--------------+----------------+\n",
      "only showing top 5 rows\n",
      "\n"
     ]
    }
   ],
   "source": [
    "# this is an exampe of what kind of structures we want to count:\n",
    "tripartiteGraph.find(\"(c)-[]->(a);(a)-[]->(b)\").filter(\"b.id='education'\").show(5)"
   ]
  },
  {
   "cell_type": "code",
   "execution_count": 59,
   "metadata": {},
   "outputs": [
    {
     "name": "stdout",
     "output_type": "stream",
     "text": [
      "root\n",
      " |-- tags: struct (nullable = false)\n",
      " |    |-- id: string (nullable = true)\n",
      " |    |-- vtype: string (nullable = true)\n",
      " |-- count: long (nullable = false)\n",
      "\n"
     ]
    },
    {
     "data": {
      "text/plain": [
       "Text(0, 0.5, 'Topics')"
      ]
     },
     "execution_count": 59,
     "metadata": {},
     "output_type": "execute_result"
    },
    {
     "data": {
      "image/png": "[encoded data removed]",
      "text/plain": [
       "<Figure size 432x288 with 1 Axes>"
      ]
     },
     "metadata": {
      "needs_background": "light"
     },
     "output_type": "display_data"
    }
   ],
   "source": [
    "all_edges = tripartiteGraph.find(\"(users)-[]->(posts); (posts)-[]->(tags)\")\n",
    "\n",
    "tagsActivity = all_edges.select(\"tags\").groupBy('tags').count()\n",
    "tagsActivity.printSchema()\n",
    "topTen = tagsActivity.sort(\"count\",ascending=False).withColumnRenamed(\"count\",\"c\").limit(10).collect()\n",
    "\n",
    "fig, ax = plt.subplots()\n",
    "ax.barh(range(len(topTen)),[t.c for t in topTen], alpha=0.7)\n",
    "ax.set_yticks(range(len(topTen)))\n",
    "ax.set_yticklabels([t.tags.id for t in topTen])\n",
    "ax.invert_yaxis()\n",
    "plt.xlabel(\"Number of contributions\")\n",
    "plt.ylabel(\"Topics\")"
   ]
  },
  {
   "cell_type": "markdown",
   "metadata": {},
   "source": [
    "This seems quite similar the previous observations on popularity of topics, even though we are looking at quite a different measure."
   ]
  },
  {
   "cell_type": "markdown",
   "metadata": {},
   "source": [
    "### iii. Find a user who contributed the most to one specific topic"
   ]
  },
  {
   "cell_type": "code",
   "execution_count": 60,
   "metadata": {
    "scrolled": true
   },
   "outputs": [
    {
     "name": "stdout",
     "output_type": "stream",
     "text": [
      "+-------------+--------------------+-----+\n",
      "|        users|                tags|count|\n",
      "+-------------+--------------------+-----+\n",
      "| [U381, user]|       [python, tag]|   73|\n",
      "| [U471, user]|            [r, tag]|   61|\n",
      "| [U924, user]|   [clustering, tag]|   61|\n",
      "| [U381, user]|   [clustering, tag]|   38|\n",
      "| [U836, user]|[classification, ...|   35|\n",
      "| [U381, user]|[classification, ...|   35|\n",
      "| [U381, user]|      [dataset, tag]|   33|\n",
      "|  [U21, user]|            [r, tag]|   33|\n",
      "|[U9793, user]|            [r, tag]|   30|\n",
      "| [U836, user]|       [python, tag]|   29|\n",
      "+-------------+--------------------+-----+\n",
      "\n"
     ]
    }
   ],
   "source": [
    "usersTags = all_edges.select(\"users\",\"tags\").groupBy(\"users\",\"tags\").count()\n",
    "usersTags.sort(\"count\",ascending=False).limit(10).show()"
   ]
  },
  {
   "cell_type": "markdown",
   "metadata": {},
   "source": [
    "### iv. Find users with the largest number of accepted answers to a topic\n",
    "\n",
    "The users who achieved the largest number of accepted answers for a topic may be regarded as experts on this topic. Here is one way to identify such users:"
   ]
  },
  {
   "cell_type": "code",
   "execution_count": 61,
   "metadata": {},
   "outputs": [
    {
     "name": "stdout",
     "output_type": "stream",
     "text": [
      "+-----+--------------------+-----+\n",
      "|users|                tags|count|\n",
      "+-----+--------------------+-----+\n",
      "|16740|[classification, ...|    3|\n",
      "|15361|       [python, tag]|    2|\n",
      "| 6478|       [python, tag]|    2|\n",
      "| 9420|          [svm, tag]|    2|\n",
      "| 2452|       [python, tag]|    2|\n",
      "| 6478|         [nltk, tag]|    2|\n",
      "|17815|      [ranking, tag]|    2|\n",
      "|15361|          [nlp, tag]|    2|\n",
      "| 6478|       [gensim, tag]|    2|\n",
      "| 6478|       [scikit, tag]|    2|\n",
      "+-----+--------------------+-----+\n",
      "\n"
     ]
    }
   ],
   "source": [
    "edges_df = all_edges.rdd.map(lambda r:Row(users=int(r.users.id[1:]),posts=int(r.posts.id[1:]),tags=r.tags)).toDF()\n",
    "accepted_answers = edges_df.join(posts.withColumnRenamed(\"_Id\",\"posts\"),\"posts\").join(comments.withColumnRenamed(\"_Id\",\"_AcceptedAnswerId\"),\"_AcceptedAnswerId\")\n",
    "accepted_answers_count = accepted_answers.where(\"users = _UserId\").groupBy(\"users\",\"tags\").count().sort(\"count\",ascending=False)\n",
    "\n",
    "accepted_answers_count.limit(10).show()\n",
    "#for r in a.take(20):\n",
    "#    print(posts.where(\"_Id = '\" + r['posts']['id'][1:] + \"'\").select(\"_AcceptedAnswerId\").withColumnRenamed(\"_AcceptedAnswerId\",\"_Id\").join(comments,\"_Id\").count())"
   ]
  },
  {
   "cell_type": "markdown",
   "metadata": {},
   "source": [
    "### v. The number of users that have written accepted answers for different topics\n",
    "\n",
    "The number of distinct topics for which a user has at least one answer selected as the best answer could be indicative of the user's diversity of skills. We compute the number of users who have answers selected as best answers for a given number of distinct topics as follows."
   ]
  },
  {
   "cell_type": "code",
   "execution_count": 62,
   "metadata": {},
   "outputs": [
    {
     "name": "stderr",
     "output_type": "stream",
     "text": [
      "/opt/conda/lib/python3.7/site-packages/ipykernel/__main__.py:3: UserWarning: In Matplotlib 3.3 individual lines on a stem plot will be added as a LineCollection instead of individual lines. This significantly improves the performance of a stem plot. To remove this warning and switch to the new behaviour, set the \"use_line_collection\" keyword argument to True.\n",
      "  app.launch_new_instance()\n"
     ]
    },
    {
     "data": {
      "text/plain": [
       "Text(0, 0.5, 'Number of users')"
      ]
     },
     "execution_count": 62,
     "metadata": {},
     "output_type": "execute_result"
    },
    {
     "data": {
      "image/png": "[encoded data removed]",
      "text/plain": [
       "<Figure size 432x288 with 1 Axes>"
      ]
     },
     "metadata": {
      "needs_background": "light"
     },
     "output_type": "display_data"
    }
   ],
   "source": [
    "nbTopicsAnswered = accepted_answers_count.groupBy(\"users\").count().withColumnRenamed(\"count\",\"nb\").groupBy(\"nb\").count().withColumnRenamed(\"count\",\"c\").sort(\"nb\").collect()\n",
    "\n",
    "plt.stem([t.nb for t in nbTopicsAnswered], [t.c for t in nbTopicsAnswered])\n",
    "plt.xlim([0, 5])\n",
    "plt.ylim([0, 10])\n",
    "plt.xlabel('Number of topics')\n",
    "plt.ylabel('Number of users')"
   ]
  },
  {
   "cell_type": "markdown",
   "metadata": {},
   "source": [
    "## 5. Temporal graph properties\n",
    "\n",
    "Here we examine activity of user contributions over time. \n",
    "\n",
    "### a. Number of comments submitted per month"
   ]
  },
  {
   "cell_type": "code",
   "execution_count": 63,
   "metadata": {},
   "outputs": [
    {
     "data": {
      "image/png": "[encoded data removed]",
      "text/plain": [
       "<Figure size 864x216 with 1 Axes>"
      ]
     },
     "metadata": {
      "needs_background": "light"
     },
     "output_type": "display_data"
    }
   ],
   "source": [
    "dt = comments.select(\"_CreationDate\").rdd.map(lambda r: datetime.strptime(r._CreationDate, '%Y-%m-%dT%H:%M:%S.%f')).collect()\n",
    "\n",
    "months = [''.join([str(r.year),'-',str(r.month)])  for r in dt] # this is a bit hacky\n",
    "fig, ax = plt.subplots(figsize=(12,3))\n",
    "\n",
    "a, b, c = ax.hist(months,bins=35,histtype='stepfilled', edgecolor='none', alpha=0.7)\n",
    "\n",
    "ax.set_ylabel('# comments')\n",
    "ax.set_xlabel('month');\n",
    "plt.xticks(rotation=90);"
   ]
  },
  {
   "cell_type": "markdown",
   "metadata": {},
   "source": [
    "We observe a general trend of increasing number of contributions over time."
   ]
  },
  {
   "cell_type": "markdown",
   "metadata": {},
   "source": [
    "### b. Number of posts created in different days of a week"
   ]
  },
  {
   "cell_type": "code",
   "execution_count": 64,
   "metadata": {},
   "outputs": [
    {
     "data": {
      "text/plain": [
       "Text(0, 0.5, '# comments')"
      ]
     },
     "execution_count": 64,
     "metadata": {},
     "output_type": "execute_result"
    },
    {
     "data": {
      "image/png": "[encoded data removed]",
      "text/plain": [
       "<Figure size 864x216 with 1 Axes>"
      ]
     },
     "metadata": {
      "needs_background": "light"
     },
     "output_type": "display_data"
    }
   ],
   "source": [
    "fig, ax = plt.subplots(figsize=(12,3))\n",
    "\n",
    "ax.hist([x.weekday() for x in dt],bins=[0, 1, 2, 3, 4, 5, 6, 7], edgecolor='w', alpha=0.7)\n",
    "ax.set_xticks([0.5, 1.5, 2.5, 3.5, 4.5, 5.5, 6.5])\n",
    "ax.set_xlim([0,7])\n",
    "ax.set_xticklabels(['Mon', 'Tue', 'Wed', 'Thu', 'Fri', 'Sat', 'Sun'])\n",
    "ax.set_ylabel('# comments')"
   ]
  }
 ],
 "metadata": {
  "anaconda-cloud": {},
  "kernelspec": {
   "display_name": "PySpark",
   "language": "python",
   "name": "pyspark"
  },
  "language_info": {
   "codemirror_mode": {
    "name": "ipython",
    "version": 3
   },
   "file_extension": ".py",
   "mimetype": "text/x-python",
   "name": "python",
   "nbconvert_exporter": "python",
   "pygments_lexer": "ipython3",
   "version": "3.7.3"
  }
 },
 "nbformat": 4,
 "nbformat_minor": 2
}
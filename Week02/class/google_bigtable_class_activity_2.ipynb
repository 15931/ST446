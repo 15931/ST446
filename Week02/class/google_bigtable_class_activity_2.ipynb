{
 "cells": [
  {
   "cell_type": "markdown",
   "execution_count": null,
   "metadata": {},
   "outputs": [],
   "source": [
    "# ST446 Distributed Computing for Big Data\n",
    "\n",
    "## Week 2 class: Google Bigtable 2\n",
    "\n",
    "### LT 2020"
   ]
  },
  {
   "cell_type": "markdown",
   "execution_count": null,
   "metadata": {},
   "outputs": [],
   "source": [
    "Following from the [previous exercise](google_bigtable_class_activity.ipynb), you will now connect to an existing Bigtable instance and enter information about your laptop system properties. \n",
    "\n",
    "You may use what we covered in week 1 of the course to retrieve this information from a command line interface. This will allow us to collect information about system properties of laptops used in this course.  \n",
    "\n",
    "You will be informed once the bigtable instance is available\n",
    "\n",
    "\n",
    "### Initial steps\n",
    "\n",
    "Before running the code below for the first time, you need to:\n",
    "\n",
    "* download the credential we already created for you from [here](st446-lent-715346564d9e.json)"
   ]
  },
  {
   "cell_type": "markdown",
   "execution_count": null,
   "metadata": {},
   "outputs": [],
   "source": [
    "## 2. Adding your laptop system information to a Bigtable table"
   ]
  },
  {
   "cell_type": "markdown",
   "execution_count": null,
   "metadata": {},
   "outputs": [],
   "source": [
    "### 2.A. Connecting to an existing Bigtable instance"
   ]
  },
  {
   "cell_type": "code",
   "execution_count": 10,
   "metadata": {},
   "outputs": [
    {
     "name": "stdout",
     "output_type": "stream",
     "text": "524309205186-compute@developer.gserviceaccount.com\nst446-lent\n"
    }
   ],
   "source": [
    "from oauth2client.client import GoogleCredentials\n",
    "from google.cloud import bigtable\n",
    "from google.oauth2 import service_account\n",
    "\n",
    "import numpy as np\n",
    "import pandas as pd\n",
    "\n",
    "# please use the credentials we provide:\n",
    "credentials = service_account.Credentials.from_service_account_file('st446-lent-715346564d9e.json')\n",
    "print(credentials.service_account_email)\n",
    "print(credentials.project_id)"
   ]
  },
  {
   "cell_type": "code",
   "execution_count": 11,
   "metadata": {},
   "outputs": [],
   "source": [
    "project_id = \"st446-lent\" \n",
    "client = bigtable.Client(project=project_id, credentials = credentials, admin=True) # remove the credentials = credentials if you use the default credential \n",
    "instance = client.instance(\"st446-bigtable-instance-milan\")\n",
    "table = instance.table(\"master-table\")\n",
    "\n",
    "cf_sysinfo = \"sysinfo\""
   ]
  },
  {
   "cell_type": "markdown",
   "execution_count": null,
   "metadata": {},
   "outputs": [],
   "source": [
    "### 2.B. Adding your laptop system information "
   ]
  },
  {
   "cell_type": "code",
   "execution_count": 12,
   "metadata": {},
   "outputs": [],
   "source": [
    "row_key = 'testname' \n",
    "\n",
    "d = {\n",
    "    'num_of_cpu'.encode('utf-8'): '4'.encode('utf-8'),\n",
    "    'num_physical_cpu'.encode('utf-8'): '2'.encode('utf-8'),\n",
    "    'memory_size'.encode('utf-8'): '17179869184'.encode('utf-8'),\n",
    "    'os'.encode('utf-8'): 'Mac OS Sierra'.encode('utf-8'),\n",
    "    'processor_type'.encode('utf-8'): 'x86_64h (Intel x86-64h Haswell)'.encode('utf-8'),\n",
    "    'cpu_frequency'.encode('utf-8'): '3300000000'.encode('utf-8'),\n",
    "    'disk_size'.encode('utf-8'): '931GB'.encode('utf-8'),\n",
    "    'kernel_version'.encode('utf-8'): 'Darwin Kernel Version 16.7.0: Mon Nov 13 21:56:25 PST 2017; root:xnu-3789.72.11~1/RELEASE_X86_64'.encode('utf-8'),\n",
    "    'free_disk_space'.encode('utf-8'): '679GB'.encode('utf-8')\n",
    "    }\n",
    "\n",
    "row = table.row(row_key)\n",
    "\n",
    "for col_id, val in d.items():\n",
    "    row.set_cell(cf_sysinfo, col_id, val)\n",
    "\n",
    "row.commit()"
   ]
  },
  {
   "cell_type": "markdown",
   "execution_count": null,
   "metadata": {},
   "outputs": [],
   "source": [
    "### 2.C. Reading rows of the table"
   ]
  },
  {
   "cell_type": "code",
   "execution_count": 13,
   "metadata": {},
   "outputs": [
    {
     "data": {
      "text/html": "<div>\n<style scoped>\n    .dataframe tbody tr th:only-of-type {\n        vertical-align: middle;\n    }\n\n    .dataframe tbody tr th {\n        vertical-align: top;\n    }\n\n    .dataframe thead th {\n        text-align: right;\n    }\n</style>\n<table border=\"1\" class=\"dataframe\">\n  <thead>\n    <tr style=\"text-align: right;\">\n      <th></th>\n      <th>cpu_frequency</th>\n      <th>disk_size</th>\n      <th>free_disk_space</th>\n      <th>kernel_version</th>\n      <th>memory_size</th>\n      <th>num_of_cpu</th>\n      <th>num_physical_cpu</th>\n      <th>os</th>\n      <th>processor_type</th>\n    </tr>\n  </thead>\n  <tbody>\n    <tr>\n      <td>testname</td>\n      <td>3300000000</td>\n      <td>931GB</td>\n      <td>679GB</td>\n      <td>Darwin Kernel Version 16.7.0: Mon Nov 13 21:56...</td>\n      <td>17179869184</td>\n      <td>4</td>\n      <td>2</td>\n      <td>Mac OS Sierra</td>\n      <td>x86_64h (Intel x86-64h Haswell)</td>\n    </tr>\n    <tr>\n      <td>yourname</td>\n      <td>3300000000</td>\n      <td>931GB</td>\n      <td>679GB</td>\n      <td>Darwin Kernel Version 16.7.0: Mon Nov 13 21:56...</td>\n      <td>17179869184</td>\n      <td>4</td>\n      <td>2</td>\n      <td>Mac os</td>\n      <td>x86_64h (Intel x86-64h Haswell)</td>\n    </tr>\n  </tbody>\n</table>\n</div>",
      "text/plain": "         cpu_frequency disk_size free_disk_space  \\\ntestname    3300000000     931GB           679GB   \nyourname    3300000000     931GB           679GB   \n\n                                             kernel_version  memory_size  \\\ntestname  Darwin Kernel Version 16.7.0: Mon Nov 13 21:56...  17179869184   \nyourname  Darwin Kernel Version 16.7.0: Mon Nov 13 21:56...  17179869184   \n\n         num_of_cpu num_physical_cpu             os  \\\ntestname          4                2  Mac OS Sierra   \nyourname          4                2         Mac os   \n\n                           processor_type  \ntestname  x86_64h (Intel x86-64h Haswell)  \nyourname  x86_64h (Intel x86-64h Haswell)  "
     },
     "execution_count": 13,
     "metadata": {},
     "output_type": "execute_result"
    }
   ],
   "source": [
    "partial_rows = table.read_rows()\n",
    "#partial_rows = table.read_rows(b'milan', b'milan21')\n",
    "partial_rows.consume_all()\n",
    "\n",
    "# result will be used later to create a dataframe and show table values by using Python dataframe API\n",
    "result = {}\n",
    "\n",
    "col_name = None\n",
    "\n",
    "for row_key, row in partial_rows.rows.items():\n",
    "\n",
    "    key = row_key.decode('utf-8')\n",
    "    cells = row.cells[cf_sysinfo] # get all cells in the same col family\n",
    "\n",
    "    if col_name is None:\n",
    "        col_name = [k.decode('utf-8') for k in cells.keys()]\n",
    "\n",
    "    # store one row \n",
    "    one_row_result = []\n",
    "\n",
    "    for col_key, col_val in cells.items():\n",
    "        value = col_val[0].value\n",
    "        one_row_result.append(value.decode('utf-8'))\n",
    "    result[key] = one_row_result\n",
    "    \n",
    "df = pd.DataFrame.from_dict(result, orient='index')\n",
    "df.columns = col_name\n",
    "df"
   ]
  },
  {
   "cell_type": "code",
   "execution_count": null,
   "metadata": {},
   "outputs": [],
   "source": []
  }
 ],
 "metadata": {
  "kernelspec": {
   "display_name": "Python 3",
   "language": "python",
   "name": "python3"
  },
  "language_info": {
   "codemirror_mode": {
    "name": "ipython",
    "version": 3
   },
   "file_extension": ".py",
   "mimetype": "text/x-python",
   "name": "python",
   "nbconvert_exporter": "python",
   "pygments_lexer": "ipython3",
   "version": "3.7.4-final"
  }
 },
 "nbformat": 4,
 "nbformat_minor": 2
}
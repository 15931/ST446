{
 "cells": [
  {
   "cell_type": "markdown",
   "execution_count": null,
   "metadata": {},
   "outputs": [],
   "source": [
    "# ST446 Distributed Computing for Big Data\n",
    "\n",
    "## Week 2 class: Google Bigtable\n",
    "\n",
    "### LT 2020"
   ]
  },
  {
   "cell_type": "markdown",
   "execution_count": null,
   "metadata": {},
   "outputs": [],
   "source": [
    "In this exercise, you will work with tables on Google Cloud Bigtable. \n",
    "The Bigtable technology sits behind many of Google's services such as Gmail and Youtube (see [presentation](https://www.youtube.com/watch?v=KaRbKdMInuc)).\n",
    "\n",
    "They are run on the Google Cloud Platform via a Python API from this Jupyter notebook (on your computer). This will allow you to see how some of the system concepts that characterize Bigtable are implemented in practice, such as those discussed in the lecture. \n",
    "\n",
    "You will first go through basic steps that involve creating a table, a column family, columns and updating table cells, and deleting a table. \n",
    "\n",
    "You will then be asked to connect to an existing Bigtable instance and enter information about your laptop system properties in [the second activity](google_bigtable_class_activity_2.ipynb).\n",
    "\n",
    "### Initial steps\n",
    "\n",
    "Before running the code below for the first time, you need to do the following steps (locally, that is, on your computer). Once you have installed the following python libraries, you will be able to manipulate Bigtables on GCP from this Jupyter notebook on your computer.\n",
    "\n",
    "1. Set up your credentials by running `gcloud auth application-default login`. You can see more details from https://developers.google.com/identity/protocols/application-default-credentials\n",
    "\n",
    "2. Install Google Bigtable Python modules: use `pip install` command to install the following modules, if not done already:\n",
    "   * ```google-cloud-bigtable==0.28.1```\n",
    "   * ```google-cloud-core==0.28.0```\n",
    "   * ```oauth2client```\n",
    "   \n",
    "You might need to install cython and pyhamcrest as well.\n",
    "\n",
    " \n",
    "    \n",
    "**Notes**: \n",
    "* Creating a Bigtable instance: One way to set up a Bigtable instance is by following the instructions here https://cloud.google.com/bigtable/docs/creating-instance. Note that you *do not* need to create an instance yet, because we are going to do it via a Python API below.\n",
    "* **Computing resources:** As you conduct this exercise, you may create some new Bigtable instances. Please make sure to delete them after you no longer need them. They are expensive, charged per hour, and we don't have an unlimited budget of credits at Google Cloud Platform. In this notebook, this will be done using the API."
   ]
  },
  {
   "cell_type": "markdown",
   "execution_count": null,
   "metadata": {},
   "outputs": [],
   "source": [
    "## 1. Working with Bigtable via a Python API\n",
    "\n",
    "### 1.A. Creating a BigTable instance\n",
    "\n",
    "We first create an instance in the Python code below. See [instance-api](https://googlecloudplatform.github.io/google-cloud-python/latest/bigtable/instance-api.html) for more details.\n",
    "If you have trouble importing bigtable, ths could be due to python dependencies. Please ask the teaching staff about it (you might have to `pip install -U protobuf`, too)."
   ]
  },
  {
   "cell_type": "code",
   "execution_count": 5,
   "metadata": {},
   "outputs": [
    {
     "name": "stderr",
     "output_type": "stream",
     "text": "/opt/anaconda3/lib/python3.7/site-packages/google/auth/_default.py:69: UserWarning: Your application has authenticated using end user credentials from Google Cloud SDK. We recommend that most server applications use service accounts instead. If your application continues to use end user credentials from Cloud SDK, you might receive a \"quota exceeded\" or \"API not enabled\" error. For more information about service accounts, see https://cloud.google.com/docs/authentication/\n  warnings.warn(_CLOUD_SDK_CREDENTIALS_WARNING)\n"
    }
   ],
   "source": [
    "from oauth2client.client import GoogleCredentials\n",
    "from google.cloud import bigtable\n",
    "\n",
    "credentials = GoogleCredentials.get_application_default()\n",
    "# print(credentials.to_json())\n",
    "\n",
    "project_id = \"st446-lent\"\n",
    "\n",
    "client = bigtable.Client(project=project_id, admin=True)\n",
    "instances = client.list_instances()\n",
    "\n",
    "# print out all instances\n",
    "#for i in instances[0]:\n",
    "#    print (i.name)"
   ]
  },
  {
   "cell_type": "code",
   "execution_count": 6,
   "metadata": {},
   "outputs": [
    {
     "data": {
      "text/plain": "<google.api_core.operation.Operation at 0x1045c9790>"
     },
     "execution_count": 6,
     "metadata": {},
     "output_type": "execute_result"
    }
   ],
   "source": [
    "# create an instance (if it is not created yet)\n",
    "instance_id = \"st446-bigtable-instance-milan\" # feel free to change this to your own name\n",
    "display_name = \"st446-bigtable-milan\"\n",
    "\n",
    "location_id = \"europe-west2-a\"\n",
    "\n",
    "instance = client.instance(instance_id, location_id, display_name=display_name)\n",
    "instance.create() "
   ]
  },
  {
   "cell_type": "markdown",
   "execution_count": null,
   "metadata": {},
   "outputs": [],
   "source": [
    "You may check on the Google Cloud Console that the Bigtable instance has been created:\n",
    "\n",
    "<img src=\"./bigtable-instance.png\" style=\"width: 1000px;\" alt=\"Bigtable instance\">"
   ]
  },
  {
   "cell_type": "markdown",
   "execution_count": null,
   "metadata": {},
   "outputs": [],
   "source": [
    "### 1.B. Create a table"
   ]
  },
  {
   "cell_type": "code",
   "execution_count": 7,
   "metadata": {},
   "outputs": [],
   "source": [
    "table_id = \"master-table\"\n",
    "\n",
    "table = instance.table(table_id)\n",
    "table.create()"
   ]
  },
  {
   "cell_type": "markdown",
   "execution_count": null,
   "metadata": {},
   "outputs": [],
   "source": [
    "### Create a column family"
   ]
  },
  {
   "cell_type": "code",
   "execution_count": 8,
   "metadata": {},
   "outputs": [],
   "source": [
    "cf_sysinfo = \"sysinfo\"\n",
    "\n",
    "cf1 = table.column_family(cf_sysinfo)\n",
    "cf1.create()"
   ]
  },
  {
   "cell_type": "markdown",
   "execution_count": null,
   "metadata": {},
   "outputs": [],
   "source": [
    "### 1.C. List tables in a Bigtable instance\n",
    "\n",
    "The following code shows you how to list existing tables as well as how to list column families of a table. See [table-api](https://googlecloudplatform.github.io/google-cloud-python/latest/bigtable/table-api.html) for more information."
   ]
  },
  {
   "cell_type": "code",
   "execution_count": 9,
   "metadata": {},
   "outputs": [
    {
     "name": "stdout",
     "output_type": "stream",
     "text": "[<google.cloud.bigtable.table.Table object at 0x104627f50>]\nprojects/st446-lent/instances/st446-bigtable-instance-milan/tables/master-table\n"
    }
   ],
   "source": [
    "print(instance.list_tables())\n",
    "print(instance.list_tables()[0].name)"
   ]
  },
  {
   "cell_type": "markdown",
   "execution_count": null,
   "metadata": {},
   "outputs": [],
   "source": [
    "### 1.D. List column families of a table"
   ]
  },
  {
   "cell_type": "code",
   "execution_count": 10,
   "metadata": {},
   "outputs": [
    {
     "name": "stdout",
     "output_type": "stream",
     "text": "{'sysinfo': <google.cloud.bigtable.column_family.ColumnFamily object at 0x10479dbd0>}\ndict_keys(['sysinfo'])\n"
    }
   ],
   "source": [
    "print(table.list_column_families())\n",
    "print(table.list_column_families().keys())"
   ]
  },
  {
   "cell_type": "markdown",
   "execution_count": null,
   "metadata": {},
   "outputs": [],
   "source": [
    "### 1.E. Writing rows\n",
    "\n",
    "We now show how to write a row in a table. See [data-api]( https://googlecloudplatform.github.io/google-cloud-python/latest/bigtable/data-api.html) for more information. What kind of information are using here? Can you use the terminal to obtain the same information about your own computer?"
   ]
  },
  {
   "cell_type": "code",
   "execution_count": 11,
   "metadata": {},
   "outputs": [],
   "source": [
    "row_key = 'yourname' \n",
    "\n",
    "# column-value pairs to be added to a row with row_key `yourname`\n",
    "d = {\n",
    "    'num_of_cpu'.encode('utf-8'): '4'.encode('utf-8'),\n",
    "    'num_physical_cpu'.encode('utf-8'): '2'.encode('utf-8'),\n",
    "    'memory_size'.encode('utf-8'): '17179869184'.encode('utf-8'),\n",
    "    'os'.encode('utf-8'): 'Mac OS Sierra'.encode('utf-8'),\n",
    "    'processor_type'.encode('utf-8'): 'x86_64h (Intel x86-64h Haswell)'.encode('utf-8'),\n",
    "    'cpu_frequency'.encode('utf-8'): '3300000000'.encode('utf-8'),\n",
    "    'disk_size'.encode('utf-8'): '931GB'.encode('utf-8'),\n",
    "    'kernel_version'.encode('utf-8'): 'Darwin Kernel Version 16.7.0: Mon Nov 13 21:56:25 PST 2017; root:xnu-3789.72.11~1/RELEASE_X86_64'.encode('utf-8'),\n",
    "    'free_disk_space'.encode('utf-8'): '679GB'.encode('utf-8')\n",
    "    }\n",
    "\n",
    "# note that we use 'encode(''utf-8)' to encode strings to byte arrays\n",
    "# note also that we could have also had integers as values\n",
    "\n",
    "# create a row\n",
    "row = table.row(row_key)\n",
    "\n",
    "# add the row information\n",
    "for col_id, val in d.items():\n",
    "    row.set_cell(cf_sysinfo, col_id, val)\n",
    "\n",
    "row.commit()\n",
    "\n",
    "# different versions of cell values\n",
    "\n",
    "row.set_cell(cf_sysinfo, 'os'.encode('utf-8'), 'Mac'.encode('utf-8'))\n",
    "row.set_cell(cf_sysinfo, 'os'.encode('utf-8'), 'Mac os'.encode('utf-8'))\n",
    "\n",
    "row.commit()\n",
    "\n",
    "# note that setting row cell to 'Mac' is not committed to the table, because of the subsequent update to 'Mac os'\n",
    "# see later for a proof of this claim when we read and display the table cell values"
   ]
  },
  {
   "cell_type": "markdown",
   "execution_count": null,
   "metadata": {},
   "outputs": [],
   "source": [
    "### 1.F. Reading rows\n",
    "\n",
    "First, we read cell values for a given row key."
   ]
  },
  {
   "cell_type": "code",
   "execution_count": 12,
   "metadata": {},
   "outputs": [
    {
     "name": "stdout",
     "output_type": "stream",
     "text": "[<google.cloud.bigtable.row_data.Cell object at 0x1047a0790>, <google.cloud.bigtable.row_data.Cell object at 0x1047ad3d0>]\n\n\t yourname: (os: Mac os) 2020-01-30 19:39:45.445000+00:00\n\t yourname: (os: Mac OS Sierra) 2020-01-30 19:39:45.190000+00:00\n"
    }
   ],
   "source": [
    "table1 = instance.table(table_id)\n",
    "\n",
    "key='yourname'\n",
    "cf='sysinfo'\n",
    "col='os'.encode('utf-8')\n",
    "\n",
    "row = table1.read_row(key.encode('utf-8'))\n",
    "\n",
    "print(row.cells[cf][col])\n",
    "print()\n",
    "\n",
    "for cell in row.cells[cf][col]:\n",
    "    value = cell.value\n",
    "    ts = cell.timestamp\n",
    "    print('\\t {}: ({}: {}) {}'.format(key, col.decode('utf-8'), value.decode('utf-8'), ts))"
   ]
  },
  {
   "cell_type": "markdown",
   "execution_count": null,
   "metadata": {},
   "outputs": [],
   "source": [
    "We next read all rows."
   ]
  },
  {
   "cell_type": "code",
   "execution_count": 13,
   "metadata": {},
   "outputs": [
    {
     "name": "stdout",
     "output_type": "stream",
     "text": "{b'cpu_frequency': [<google.cloud.bigtable.row_data.Cell object at 0x1047ad1d0>], b'disk_size': [<google.cloud.bigtable.row_data.Cell object at 0x1047ad190>], b'free_disk_space': [<google.cloud.bigtable.row_data.Cell object at 0x1047ad110>], b'kernel_version': [<google.cloud.bigtable.row_data.Cell object at 0x1047b9d10>], b'memory_size': [<google.cloud.bigtable.row_data.Cell object at 0x1047b9fd0>], b'num_of_cpu': [<google.cloud.bigtable.row_data.Cell object at 0x1047a0bd0>], b'num_physical_cpu': [<google.cloud.bigtable.row_data.Cell object at 0x104614f10>], b'os': [<google.cloud.bigtable.row_data.Cell object at 0x104614450>, <google.cloud.bigtable.row_data.Cell object at 0x104614250>], b'processor_type': [<google.cloud.bigtable.row_data.Cell object at 0x104603b90>]}\n\ncpu_frequency: 3300000000 \t(2020-01-30 19:39:45.190000+00:00)\ndisk_size: 931GB \t(2020-01-30 19:39:45.190000+00:00)\nfree_disk_space: 679GB \t(2020-01-30 19:39:45.190000+00:00)\nkernel_version: Darwin Kernel Version 16.7.0: Mon Nov 13 21:56:25 PST 2017; root:xnu-3789.72.11~1/RELEASE_X86_64 \t(2020-01-30 19:39:45.190000+00:00)\nmemory_size: 17179869184 \t(2020-01-30 19:39:45.190000+00:00)\nnum_of_cpu: 4 \t(2020-01-30 19:39:45.190000+00:00)\nnum_physical_cpu: 2 \t(2020-01-30 19:39:45.190000+00:00)\nos: Mac os \t(2020-01-30 19:39:45.445000+00:00)\nprocessor_type: x86_64h (Intel x86-64h Haswell) \t(2020-01-30 19:39:45.190000+00:00)\n"
    }
   ],
   "source": [
    "partial_rows = table1.read_rows()\n",
    "partial_rows.consume_all()\n",
    "\n",
    "# result will be used later to create a dataframe and show table values by using Python dataframe API\n",
    "result = {}\n",
    "\n",
    "col_name = None\n",
    "\n",
    "for row_key, row in partial_rows.rows.items():\n",
    "\n",
    "    key = row_key.decode('utf-8')\n",
    "    cells = row.cells[cf_sysinfo] # get all cells in the same col family\n",
    "\n",
    "    # get the col names\n",
    "    if col_name is None:\n",
    "        col_name = [k.decode('utf-8') for k in cells.keys()]\n",
    "\n",
    "    # store one row \n",
    "    one_row_result = []\n",
    "\n",
    "    print(cells)\n",
    "    print()\n",
    "    \n",
    "    for col_key, col_val in cells.items():\n",
    "#        value = int.from_bytes(col_val[0].value, byteorder='big') # if original type of value is an integer\n",
    "        value = col_val[0].value\n",
    "        one_row_result.append(value.decode('utf-8'))\n",
    "        ts = col_val[0].timestamp\n",
    "        print('{}: {} \\t({})'.format(col_key.decode('utf-8'), value.decode('utf-8'), ts))\n",
    "    result[key] = one_row_result\n",
    "    "
   ]
  },
  {
   "cell_type": "markdown",
   "execution_count": null,
   "metadata": {},
   "outputs": [],
   "source": [
    "Display the table cell values:"
   ]
  },
  {
   "cell_type": "code",
   "execution_count": 14,
   "metadata": {},
   "outputs": [
    {
     "data": {
      "text/html": "<div>\n<style scoped>\n    .dataframe tbody tr th:only-of-type {\n        vertical-align: middle;\n    }\n\n    .dataframe tbody tr th {\n        vertical-align: top;\n    }\n\n    .dataframe thead th {\n        text-align: right;\n    }\n</style>\n<table border=\"1\" class=\"dataframe\">\n  <thead>\n    <tr style=\"text-align: right;\">\n      <th></th>\n      <th>cpu_frequency</th>\n      <th>disk_size</th>\n      <th>free_disk_space</th>\n      <th>kernel_version</th>\n      <th>memory_size</th>\n      <th>num_of_cpu</th>\n      <th>num_physical_cpu</th>\n      <th>os</th>\n      <th>processor_type</th>\n    </tr>\n  </thead>\n  <tbody>\n    <tr>\n      <td>yourname</td>\n      <td>3300000000</td>\n      <td>931GB</td>\n      <td>679GB</td>\n      <td>Darwin Kernel Version 16.7.0: Mon Nov 13 21:56...</td>\n      <td>17179869184</td>\n      <td>4</td>\n      <td>2</td>\n      <td>Mac os</td>\n      <td>x86_64h (Intel x86-64h Haswell)</td>\n    </tr>\n  </tbody>\n</table>\n</div>",
      "text/plain": "         cpu_frequency disk_size free_disk_space  \\\nyourname    3300000000     931GB           679GB   \n\n                                             kernel_version  memory_size  \\\nyourname  Darwin Kernel Version 16.7.0: Mon Nov 13 21:56...  17179869184   \n\n         num_of_cpu num_physical_cpu      os                   processor_type  \nyourname          4                2  Mac os  x86_64h (Intel x86-64h Haswell)  "
     },
     "execution_count": 14,
     "metadata": {},
     "output_type": "execute_result"
    }
   ],
   "source": [
    "import pandas as pd\n",
    "import numpy as np\n",
    "\n",
    "df = pd.DataFrame.from_dict(result, orient='index')\n",
    "df.columns = col_name\n",
    "df"
   ]
  },
  {
   "cell_type": "markdown",
   "execution_count": null,
   "metadata": {},
   "outputs": [],
   "source": [
    "### 1.G Delete table and the Bigtable instance that you created"
   ]
  },
  {
   "cell_type": "code",
   "execution_count": 15,
   "metadata": {},
   "outputs": [],
   "source": [
    "table.delete()\n",
    "instance.delete()"
   ]
  },
  {
   "cell_type": "markdown",
   "execution_count": null,
   "metadata": {},
   "outputs": [],
   "source": [
    "## References\n",
    "\n",
    "* [Google Cloud Bigtable docs](https://cloud.google.com/bigtable/docs/)\n",
    "* Google Cloud Bigtable docs: [Designing Your Schema](https://cloud.google.com/bigtable/docs/schema-design), \n",
    "* Google Cloud Bigtable docs: [Managing Tables](https://cloud.google.com/bigtable/docs/managing-tables), how to manage Bigtable using `cbt` command line tool\n",
    "* [Google Cloud Bigtable: Python](http://gcloud-python-bigtable.readthedocs.io/en/data-api-complete/index.html)\n",
    "* [Google Cloud Bigtable examples](https://github.com/GoogleCloudPlatform/cloud-bigtable-examples/)"
   ]
  }
 ],
 "metadata": {
  "kernelspec": {
   "display_name": "Python 3",
   "language": "python",
   "name": "python3"
  },
  "language_info": {
   "codemirror_mode": {
    "name": "ipython",
    "version": 3
   },
   "file_extension": ".py",
   "mimetype": "text/x-python",
   "name": "python",
   "nbconvert_exporter": "python",
   "pygments_lexer": "ipython3",
   "version": "3.7.4-final"
  }
 },
 "nbformat": 4,
 "nbformat_minor": 2
}
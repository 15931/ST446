{
 "cells": [
  {
   "cell_type": "markdown",
   "metadata": {},
   "source": [
    "# ST446 Distributed Computing for Big Data\n",
    "## Seminar class 8: scalable machine learning II\n",
    "---\n",
    "\n",
    "## Topic modeling: LSA and LDA\n",
    "\n",
    "In this notebook, we demonstrate how to do topic modelling for a document corpus in PySpark using two methods: Latent Semantic Analysis (LSA) and Latent Dirichlet Allocation (LDA). \n",
    "\n",
    "We show how to:\n",
    "* tokenize and lemmatize textual data using the natural language tool kit (NLTK)\n",
    "* convert words and documents into vector representations, specially, the use of sparse vectors\n",
    "* the use of LSA (SVD) and LDA to infer the vector representations (referred to as *latent factors*)\n",
    "\n",
    "We recommend running this notebook on a dataproc cluster."
   ]
  },
  {
   "cell_type": "markdown",
   "metadata": {},
   "source": [
    "## Load data"
   ]
  },
  {
   "cell_type": "code",
   "execution_count": 1,
   "metadata": {},
   "outputs": [],
   "source": [
    "# you should not need these commands on a correctly initialised cluster:\n",
    "# # run this command in a terminal, if sklearn is not installed on your machine/compute engine:\n",
    "# pip install -U scikit-learn\n",
    "\n",
    "# # run this command in a terminal, if nltk is not installed on your machine/compute engine:\n",
    "# pip install -U nltk\n",
    "\n",
    "# # to get the stopwords dataset, use python\n",
    "# >>> import nltk\n",
    "# >>> nltk.download('stopwords')"
   ]
  },
  {
   "cell_type": "code",
   "execution_count": 2,
   "metadata": {},
   "outputs": [
    {
     "name": "stderr",
     "output_type": "stream",
     "text": [
      "[nltk_data] Downloading collection 'all'\n",
      "[nltk_data]    | \n",
      "[nltk_data]    | Downloading package abc to\n",
      "[nltk_data]    |     /usr/local/share/nltk_data...\n",
      "[nltk_data]    |   Package abc is already up-to-date!\n",
      "[nltk_data]    | Downloading package alpino to\n",
      "[nltk_data]    |     /usr/local/share/nltk_data...\n",
      "[nltk_data]    |   Package alpino is already up-to-date!\n",
      "[nltk_data]    | Downloading package biocreative_ppi to\n",
      "[nltk_data]    |     /usr/local/share/nltk_data...\n",
      "[nltk_data]    |   Package biocreative_ppi is already up-to-date!\n",
      "[nltk_data]    | Downloading package brown to\n",
      "[nltk_data]    |     /usr/local/share/nltk_data...\n",
      "[nltk_data]    |   Package brown is already up-to-date!\n",
      "[nltk_data]    | Downloading package brown_tei to\n",
      "[nltk_data]    |     /usr/local/share/nltk_data...\n",
      "[nltk_data]    |   Package brown_tei is already up-to-date!\n",
      "[nltk_data]    | Downloading package cess_cat to\n",
      "[nltk_data]    |     /usr/local/share/nltk_data...\n",
      "[nltk_data]    |   Package cess_cat is already up-to-date!\n",
      "[nltk_data]    | Downloading package cess_esp to\n",
      "[nltk_data]    |     /usr/local/share/nltk_data...\n",
      "[nltk_data]    |   Package cess_esp is already up-to-date!\n",
      "[nltk_data]    | Downloading package chat80 to\n",
      "[nltk_data]    |     /usr/local/share/nltk_data...\n",
      "[nltk_data]    |   Package chat80 is already up-to-date!\n",
      "[nltk_data]    | Downloading package city_database to\n",
      "[nltk_data]    |     /usr/local/share/nltk_data...\n",
      "[nltk_data]    |   Package city_database is already up-to-date!\n",
      "[nltk_data]    | Downloading package cmudict to\n",
      "[nltk_data]    |     /usr/local/share/nltk_data...\n",
      "[nltk_data]    |   Package cmudict is already up-to-date!\n",
      "[nltk_data]    | Downloading package comparative_sentences to\n",
      "[nltk_data]    |     /usr/local/share/nltk_data...\n",
      "[nltk_data]    |   Package comparative_sentences is already up-to-\n",
      "[nltk_data]    |       date!\n",
      "[nltk_data]    | Downloading package comtrans to\n",
      "[nltk_data]    |     /usr/local/share/nltk_data...\n",
      "[nltk_data]    |   Package comtrans is already up-to-date!\n",
      "[nltk_data]    | Downloading package conll2000 to\n",
      "[nltk_data]    |     /usr/local/share/nltk_data...\n",
      "[nltk_data]    |   Package conll2000 is already up-to-date!\n",
      "[nltk_data]    | Downloading package conll2002 to\n",
      "[nltk_data]    |     /usr/local/share/nltk_data...\n",
      "[nltk_data]    |   Package conll2002 is already up-to-date!\n",
      "[nltk_data]    | Downloading package conll2007 to\n",
      "[nltk_data]    |     /usr/local/share/nltk_data...\n",
      "[nltk_data]    |   Package conll2007 is already up-to-date!\n",
      "[nltk_data]    | Downloading package crubadan to\n",
      "[nltk_data]    |     /usr/local/share/nltk_data...\n",
      "[nltk_data]    |   Package crubadan is already up-to-date!\n",
      "[nltk_data]    | Downloading package dependency_treebank to\n",
      "[nltk_data]    |     /usr/local/share/nltk_data...\n",
      "[nltk_data]    |   Package dependency_treebank is already up-to-date!\n",
      "[nltk_data]    | Downloading package dolch to\n",
      "[nltk_data]    |     /usr/local/share/nltk_data...\n",
      "[nltk_data]    |   Package dolch is already up-to-date!\n",
      "[nltk_data]    | Downloading package europarl_raw to\n",
      "[nltk_data]    |     /usr/local/share/nltk_data...\n",
      "[nltk_data]    |   Package europarl_raw is already up-to-date!\n",
      "[nltk_data]    | Downloading package floresta to\n",
      "[nltk_data]    |     /usr/local/share/nltk_data...\n",
      "[nltk_data]    |   Package floresta is already up-to-date!\n",
      "[nltk_data]    | Downloading package framenet_v15 to\n",
      "[nltk_data]    |     /usr/local/share/nltk_data...\n",
      "[nltk_data]    |   Package framenet_v15 is already up-to-date!\n",
      "[nltk_data]    | Downloading package framenet_v17 to\n",
      "[nltk_data]    |     /usr/local/share/nltk_data...\n",
      "[nltk_data]    |   Package framenet_v17 is already up-to-date!\n",
      "[nltk_data]    | Downloading package gazetteers to\n",
      "[nltk_data]    |     /usr/local/share/nltk_data...\n",
      "[nltk_data]    |   Package gazetteers is already up-to-date!\n",
      "[nltk_data]    | Downloading package genesis to\n",
      "[nltk_data]    |     /usr/local/share/nltk_data...\n",
      "[nltk_data]    |   Package genesis is already up-to-date!\n",
      "[nltk_data]    | Downloading package gutenberg to\n",
      "[nltk_data]    |     /usr/local/share/nltk_data...\n",
      "[nltk_data]    |   Package gutenberg is already up-to-date!\n",
      "[nltk_data]    | Downloading package ieer to\n",
      "[nltk_data]    |     /usr/local/share/nltk_data...\n",
      "[nltk_data]    |   Package ieer is already up-to-date!\n",
      "[nltk_data]    | Downloading package inaugural to\n",
      "[nltk_data]    |     /usr/local/share/nltk_data...\n",
      "[nltk_data]    |   Package inaugural is already up-to-date!\n",
      "[nltk_data]    | Downloading package indian to\n",
      "[nltk_data]    |     /usr/local/share/nltk_data...\n",
      "[nltk_data]    |   Package indian is already up-to-date!\n",
      "[nltk_data]    | Downloading package jeita to\n",
      "[nltk_data]    |     /usr/local/share/nltk_data...\n",
      "[nltk_data]    |   Package jeita is already up-to-date!\n",
      "[nltk_data]    | Downloading package kimmo to\n",
      "[nltk_data]    |     /usr/local/share/nltk_data...\n",
      "[nltk_data]    |   Package kimmo is already up-to-date!\n",
      "[nltk_data]    | Downloading package knbc to\n",
      "[nltk_data]    |     /usr/local/share/nltk_data...\n",
      "[nltk_data]    |   Package knbc is already up-to-date!\n",
      "[nltk_data]    | Downloading package lin_thesaurus to\n",
      "[nltk_data]    |     /usr/local/share/nltk_data...\n",
      "[nltk_data]    |   Package lin_thesaurus is already up-to-date!\n",
      "[nltk_data]    | Downloading package mac_morpho to\n",
      "[nltk_data]    |     /usr/local/share/nltk_data...\n",
      "[nltk_data]    |   Package mac_morpho is already up-to-date!\n",
      "[nltk_data]    | Downloading package machado to\n",
      "[nltk_data]    |     /usr/local/share/nltk_data...\n",
      "[nltk_data]    |   Package machado is already up-to-date!\n",
      "[nltk_data]    | Downloading package masc_tagged to\n",
      "[nltk_data]    |     /usr/local/share/nltk_data...\n",
      "[nltk_data]    |   Package masc_tagged is already up-to-date!\n",
      "[nltk_data]    | Downloading package moses_sample to\n",
      "[nltk_data]    |     /usr/local/share/nltk_data...\n",
      "[nltk_data]    |   Package moses_sample is already up-to-date!\n",
      "[nltk_data]    | Downloading package movie_reviews to\n",
      "[nltk_data]    |     /usr/local/share/nltk_data...\n",
      "[nltk_data]    |   Package movie_reviews is already up-to-date!\n",
      "[nltk_data]    | Downloading package names to\n",
      "[nltk_data]    |     /usr/local/share/nltk_data...\n",
      "[nltk_data]    |   Package names is already up-to-date!\n",
      "[nltk_data]    | Downloading package nombank.1.0 to\n",
      "[nltk_data]    |     /usr/local/share/nltk_data...\n",
      "[nltk_data]    |   Package nombank.1.0 is already up-to-date!\n",
      "[nltk_data]    | Downloading package nps_chat to\n",
      "[nltk_data]    |     /usr/local/share/nltk_data...\n",
      "[nltk_data]    |   Package nps_chat is already up-to-date!\n",
      "[nltk_data]    | Downloading package omw to\n",
      "[nltk_data]    |     /usr/local/share/nltk_data...\n",
      "[nltk_data]    |   Package omw is already up-to-date!\n",
      "[nltk_data]    | Downloading package opinion_lexicon to\n",
      "[nltk_data]    |     /usr/local/share/nltk_data...\n",
      "[nltk_data]    |   Package opinion_lexicon is already up-to-date!\n",
      "[nltk_data]    | Downloading package paradigms to\n",
      "[nltk_data]    |     /usr/local/share/nltk_data...\n",
      "[nltk_data]    |   Package paradigms is already up-to-date!\n",
      "[nltk_data]    | Downloading package pil to\n",
      "[nltk_data]    |     /usr/local/share/nltk_data...\n",
      "[nltk_data]    |   Package pil is already up-to-date!\n",
      "[nltk_data]    | Downloading package pl196x to\n",
      "[nltk_data]    |     /usr/local/share/nltk_data...\n",
      "[nltk_data]    |   Package pl196x is already up-to-date!\n",
      "[nltk_data]    | Downloading package ppattach to\n",
      "[nltk_data]    |     /usr/local/share/nltk_data...\n",
      "[nltk_data]    |   Package ppattach is already up-to-date!\n",
      "[nltk_data]    | Downloading package problem_reports to\n",
      "[nltk_data]    |     /usr/local/share/nltk_data...\n",
      "[nltk_data]    |   Package problem_reports is already up-to-date!\n",
      "[nltk_data]    | Downloading package propbank to\n",
      "[nltk_data]    |     /usr/local/share/nltk_data...\n",
      "[nltk_data]    |   Package propbank is already up-to-date!\n",
      "[nltk_data]    | Downloading package ptb to\n",
      "[nltk_data]    |     /usr/local/share/nltk_data...\n",
      "[nltk_data]    |   Package ptb is already up-to-date!\n",
      "[nltk_data]    | Downloading package product_reviews_1 to\n",
      "[nltk_data]    |     /usr/local/share/nltk_data...\n",
      "[nltk_data]    |   Package product_reviews_1 is already up-to-date!\n",
      "[nltk_data]    | Downloading package product_reviews_2 to\n",
      "[nltk_data]    |     /usr/local/share/nltk_data...\n",
      "[nltk_data]    |   Package product_reviews_2 is already up-to-date!\n",
      "[nltk_data]    | Downloading package pros_cons to\n",
      "[nltk_data]    |     /usr/local/share/nltk_data...\n",
      "[nltk_data]    |   Package pros_cons is already up-to-date!\n",
      "[nltk_data]    | Downloading package qc to\n",
      "[nltk_data]    |     /usr/local/share/nltk_data...\n",
      "[nltk_data]    |   Package qc is already up-to-date!\n",
      "[nltk_data]    | Downloading package reuters to\n",
      "[nltk_data]    |     /usr/local/share/nltk_data...\n",
      "[nltk_data]    |   Package reuters is already up-to-date!\n",
      "[nltk_data]    | Downloading package rte to\n",
      "[nltk_data]    |     /usr/local/share/nltk_data...\n",
      "[nltk_data]    |   Package rte is already up-to-date!\n",
      "[nltk_data]    | Downloading package semcor to\n",
      "[nltk_data]    |     /usr/local/share/nltk_data...\n",
      "[nltk_data]    |   Package semcor is already up-to-date!\n",
      "[nltk_data]    | Downloading package senseval to\n",
      "[nltk_data]    |     /usr/local/share/nltk_data...\n",
      "[nltk_data]    |   Package senseval is already up-to-date!\n",
      "[nltk_data]    | Downloading package sentiwordnet to\n",
      "[nltk_data]    |     /usr/local/share/nltk_data...\n",
      "[nltk_data]    |   Package sentiwordnet is already up-to-date!\n",
      "[nltk_data]    | Downloading package sentence_polarity to\n",
      "[nltk_data]    |     /usr/local/share/nltk_data...\n"
     ]
    },
    {
     "name": "stderr",
     "output_type": "stream",
     "text": [
      "[nltk_data]    |   Package sentence_polarity is already up-to-date!\n",
      "[nltk_data]    | Downloading package shakespeare to\n",
      "[nltk_data]    |     /usr/local/share/nltk_data...\n",
      "[nltk_data]    |   Package shakespeare is already up-to-date!\n",
      "[nltk_data]    | Downloading package sinica_treebank to\n",
      "[nltk_data]    |     /usr/local/share/nltk_data...\n",
      "[nltk_data]    |   Package sinica_treebank is already up-to-date!\n",
      "[nltk_data]    | Downloading package smultron to\n",
      "[nltk_data]    |     /usr/local/share/nltk_data...\n",
      "[nltk_data]    |   Package smultron is already up-to-date!\n",
      "[nltk_data]    | Downloading package state_union to\n",
      "[nltk_data]    |     /usr/local/share/nltk_data...\n",
      "[nltk_data]    |   Package state_union is already up-to-date!\n",
      "[nltk_data]    | Downloading package stopwords to\n",
      "[nltk_data]    |     /usr/local/share/nltk_data...\n",
      "[nltk_data]    |   Package stopwords is already up-to-date!\n",
      "[nltk_data]    | Downloading package subjectivity to\n",
      "[nltk_data]    |     /usr/local/share/nltk_data...\n",
      "[nltk_data]    |   Package subjectivity is already up-to-date!\n",
      "[nltk_data]    | Downloading package swadesh to\n",
      "[nltk_data]    |     /usr/local/share/nltk_data...\n",
      "[nltk_data]    |   Package swadesh is already up-to-date!\n",
      "[nltk_data]    | Downloading package switchboard to\n",
      "[nltk_data]    |     /usr/local/share/nltk_data...\n",
      "[nltk_data]    |   Package switchboard is already up-to-date!\n",
      "[nltk_data]    | Downloading package timit to\n",
      "[nltk_data]    |     /usr/local/share/nltk_data...\n",
      "[nltk_data]    |   Package timit is already up-to-date!\n",
      "[nltk_data]    | Downloading package toolbox to\n",
      "[nltk_data]    |     /usr/local/share/nltk_data...\n",
      "[nltk_data]    |   Package toolbox is already up-to-date!\n",
      "[nltk_data]    | Downloading package treebank to\n",
      "[nltk_data]    |     /usr/local/share/nltk_data...\n",
      "[nltk_data]    |   Package treebank is already up-to-date!\n",
      "[nltk_data]    | Downloading package twitter_samples to\n",
      "[nltk_data]    |     /usr/local/share/nltk_data...\n",
      "[nltk_data]    |   Package twitter_samples is already up-to-date!\n",
      "[nltk_data]    | Downloading package udhr to\n",
      "[nltk_data]    |     /usr/local/share/nltk_data...\n",
      "[nltk_data]    |   Package udhr is already up-to-date!\n",
      "[nltk_data]    | Downloading package udhr2 to\n",
      "[nltk_data]    |     /usr/local/share/nltk_data...\n",
      "[nltk_data]    |   Package udhr2 is already up-to-date!\n",
      "[nltk_data]    | Downloading package unicode_samples to\n",
      "[nltk_data]    |     /usr/local/share/nltk_data...\n",
      "[nltk_data]    |   Package unicode_samples is already up-to-date!\n",
      "[nltk_data]    | Downloading package universal_treebanks_v20 to\n",
      "[nltk_data]    |     /usr/local/share/nltk_data...\n",
      "[nltk_data]    |   Package universal_treebanks_v20 is already up-to-\n",
      "[nltk_data]    |       date!\n",
      "[nltk_data]    | Downloading package verbnet to\n",
      "[nltk_data]    |     /usr/local/share/nltk_data...\n",
      "[nltk_data]    |   Package verbnet is already up-to-date!\n",
      "[nltk_data]    | Downloading package verbnet3 to\n",
      "[nltk_data]    |     /usr/local/share/nltk_data...\n",
      "[nltk_data]    |   Package verbnet3 is already up-to-date!\n",
      "[nltk_data]    | Downloading package webtext to\n",
      "[nltk_data]    |     /usr/local/share/nltk_data...\n",
      "[nltk_data]    |   Package webtext is already up-to-date!\n",
      "[nltk_data]    | Downloading package wordnet to\n",
      "[nltk_data]    |     /usr/local/share/nltk_data...\n",
      "[nltk_data]    |   Package wordnet is already up-to-date!\n",
      "[nltk_data]    | Downloading package wordnet_ic to\n",
      "[nltk_data]    |     /usr/local/share/nltk_data...\n",
      "[nltk_data]    |   Package wordnet_ic is already up-to-date!\n",
      "[nltk_data]    | Downloading package words to\n",
      "[nltk_data]    |     /usr/local/share/nltk_data...\n",
      "[nltk_data]    |   Package words is already up-to-date!\n",
      "[nltk_data]    | Downloading package ycoe to\n",
      "[nltk_data]    |     /usr/local/share/nltk_data...\n",
      "[nltk_data]    |   Package ycoe is already up-to-date!\n",
      "[nltk_data]    | Downloading package rslp to\n",
      "[nltk_data]    |     /usr/local/share/nltk_data...\n",
      "[nltk_data]    |   Package rslp is already up-to-date!\n",
      "[nltk_data]    | Downloading package maxent_treebank_pos_tagger to\n",
      "[nltk_data]    |     /usr/local/share/nltk_data...\n",
      "[nltk_data]    |   Package maxent_treebank_pos_tagger is already up-\n",
      "[nltk_data]    |       to-date!\n",
      "[nltk_data]    | Downloading package universal_tagset to\n",
      "[nltk_data]    |     /usr/local/share/nltk_data...\n",
      "[nltk_data]    |   Package universal_tagset is already up-to-date!\n",
      "[nltk_data]    | Downloading package maxent_ne_chunker to\n",
      "[nltk_data]    |     /usr/local/share/nltk_data...\n",
      "[nltk_data]    |   Package maxent_ne_chunker is already up-to-date!\n",
      "[nltk_data]    | Downloading package punkt to\n",
      "[nltk_data]    |     /usr/local/share/nltk_data...\n",
      "[nltk_data]    |   Package punkt is already up-to-date!\n",
      "[nltk_data]    | Downloading package book_grammars to\n",
      "[nltk_data]    |     /usr/local/share/nltk_data...\n",
      "[nltk_data]    |   Package book_grammars is already up-to-date!\n",
      "[nltk_data]    | Downloading package sample_grammars to\n",
      "[nltk_data]    |     /usr/local/share/nltk_data...\n",
      "[nltk_data]    |   Package sample_grammars is already up-to-date!\n",
      "[nltk_data]    | Downloading package spanish_grammars to\n",
      "[nltk_data]    |     /usr/local/share/nltk_data...\n",
      "[nltk_data]    |   Package spanish_grammars is already up-to-date!\n",
      "[nltk_data]    | Downloading package basque_grammars to\n",
      "[nltk_data]    |     /usr/local/share/nltk_data...\n",
      "[nltk_data]    |   Package basque_grammars is already up-to-date!\n",
      "[nltk_data]    | Downloading package large_grammars to\n",
      "[nltk_data]    |     /usr/local/share/nltk_data...\n",
      "[nltk_data]    |   Package large_grammars is already up-to-date!\n",
      "[nltk_data]    | Downloading package tagsets to\n",
      "[nltk_data]    |     /usr/local/share/nltk_data...\n",
      "[nltk_data]    |   Package tagsets is already up-to-date!\n",
      "[nltk_data]    | Downloading package snowball_data to\n",
      "[nltk_data]    |     /usr/local/share/nltk_data...\n",
      "[nltk_data]    |   Package snowball_data is already up-to-date!\n",
      "[nltk_data]    | Downloading package bllip_wsj_no_aux to\n",
      "[nltk_data]    |     /usr/local/share/nltk_data...\n",
      "[nltk_data]    |   Package bllip_wsj_no_aux is already up-to-date!\n",
      "[nltk_data]    | Downloading package word2vec_sample to\n",
      "[nltk_data]    |     /usr/local/share/nltk_data...\n",
      "[nltk_data]    |   Package word2vec_sample is already up-to-date!\n",
      "[nltk_data]    | Downloading package panlex_swadesh to\n",
      "[nltk_data]    |     /usr/local/share/nltk_data...\n",
      "[nltk_data]    |   Package panlex_swadesh is already up-to-date!\n",
      "[nltk_data]    | Downloading package mte_teip5 to\n",
      "[nltk_data]    |     /usr/local/share/nltk_data...\n",
      "[nltk_data]    |   Package mte_teip5 is already up-to-date!\n",
      "[nltk_data]    | Downloading package averaged_perceptron_tagger to\n",
      "[nltk_data]    |     /usr/local/share/nltk_data...\n",
      "[nltk_data]    |   Package averaged_perceptron_tagger is already up-\n",
      "[nltk_data]    |       to-date!\n",
      "[nltk_data]    | Downloading package averaged_perceptron_tagger_ru to\n",
      "[nltk_data]    |     /usr/local/share/nltk_data...\n",
      "[nltk_data]    |   Package averaged_perceptron_tagger_ru is already\n",
      "[nltk_data]    |       up-to-date!\n",
      "[nltk_data]    | Downloading package perluniprops to\n",
      "[nltk_data]    |     /usr/local/share/nltk_data...\n",
      "[nltk_data]    |   Package perluniprops is already up-to-date!\n",
      "[nltk_data]    | Downloading package nonbreaking_prefixes to\n",
      "[nltk_data]    |     /usr/local/share/nltk_data...\n",
      "[nltk_data]    |   Package nonbreaking_prefixes is already up-to-date!\n",
      "[nltk_data]    | Downloading package vader_lexicon to\n",
      "[nltk_data]    |     /usr/local/share/nltk_data...\n",
      "[nltk_data]    |   Package vader_lexicon is already up-to-date!\n",
      "[nltk_data]    | Downloading package porter_test to\n",
      "[nltk_data]    |     /usr/local/share/nltk_data...\n",
      "[nltk_data]    |   Package porter_test is already up-to-date!\n",
      "[nltk_data]    | Downloading package wmt15_eval to\n",
      "[nltk_data]    |     /usr/local/share/nltk_data...\n",
      "[nltk_data]    |   Package wmt15_eval is already up-to-date!\n",
      "[nltk_data]    | Downloading package mwa_ppdb to\n",
      "[nltk_data]    |     /usr/local/share/nltk_data...\n",
      "[nltk_data]    |   Package mwa_ppdb is already up-to-date!\n",
      "[nltk_data]    | \n",
      "[nltk_data]  Done downloading collection all\n"
     ]
    },
    {
     "data": {
      "text/plain": [
       "4"
      ]
     },
     "execution_count": 2,
     "metadata": {},
     "output_type": "execute_result"
    }
   ],
   "source": [
    "import nltk # test\n",
    "nltk.download('all') # uncomment this for the first to check that all data has already been nstalled\n",
    "sc.defaultParallelism\n",
    "# note that this should ouput \"already up-to-date!\" for every package!"
   ]
  },
  {
   "cell_type": "markdown",
   "metadata": {},
   "source": [
    "We are downloading the standard data set 20 newsgroup, see https://scikit-learn.org/stable/datasets/index.html#newsgroups-dataset"
   ]
  },
  {
   "cell_type": "code",
   "execution_count": 3,
   "metadata": {
    "scrolled": true
   },
   "outputs": [
    {
     "data": {
      "text/plain": [
       "['I was wondering if anyone out there could enlighten me on this car I saw\\nthe other day. It was a 2-door sports car, looked to be from the late 60s/\\nearly 70s. It was called a Bricklin. The doors were really small. In addition,\\nthe front bumper was separate from the rest of the body. This is \\nall I know. If anyone can tellme a model name, engine specs, years\\nof production, where this car is made, history, or whatever info you\\nhave on this funky looking car, please e-mail.',\n",
       " \"A fair number of brave souls who upgraded their SI clock oscillator have\\nshared their experiences for this poll. Please send a brief message detailing\\nyour experiences with the procedure. Top speed attained, CPU rated speed,\\nadd on cards and adapters, heat sinks, hour of usage per day, floppy disk\\nfunctionality with 800 and 1.4 m floppies are especially requested.\\n\\nI will be summarizing in the next two days, so please add to the network\\nknowledge base if you have done the clock upgrade and haven't answered this\\npoll. Thanks.\"]"
      ]
     },
     "execution_count": 3,
     "metadata": {},
     "output_type": "execute_result"
    }
   ],
   "source": [
    "from sklearn.datasets import fetch_20newsgroups\n",
    "\n",
    "dataset = fetch_20newsgroups(shuffle=True, random_state=42, remove=('headers', 'footers', 'quotes'))\n",
    "\n",
    "documents = dataset.data\n",
    "\n",
    "news = sc.parallelize(documents)\n",
    "news.take(2)"
   ]
  },
  {
   "cell_type": "code",
   "execution_count": 4,
   "metadata": {},
   "outputs": [
    {
     "name": "stdout",
     "output_type": "stream",
     "text": [
      "Number of partitions:  4\n",
      "Number of messages/documents D =  11314\n"
     ]
    }
   ],
   "source": [
    "print('Number of partitions: ', news.getNumPartitions())\n",
    "D = news.count()\n",
    "print('Number of messages/documents D = ', D)"
   ]
  },
  {
   "cell_type": "markdown",
   "metadata": {},
   "source": [
    "## 1. Parse the data\n",
    "\n",
    "Here we make use of the natural language processing module `nltk`. \n",
    "\n",
    "Both the module and the corresponding data should have been downloaded by our custom cluster initialisation actions. See https://www.nltk.org/install.html and https://www.nltk.org/data.html for more details.\n",
    "\n",
    "We will have to process the messages to make them amenable to analysis. Important steps include:\n",
    "* Tokenisation chops text into useful units (words). \n",
    "* Lemmatisation groups together inflected words, yields their dictionary form."
   ]
  },
  {
   "cell_type": "code",
   "execution_count": 5,
   "metadata": {},
   "outputs": [
    {
     "data": {
      "text/plain": [
       "[(1,\n",
       "  ['wondering',\n",
       "   'anyone',\n",
       "   'could',\n",
       "   'enlighten',\n",
       "   'car',\n",
       "   'saw',\n",
       "   'day',\n",
       "   'sport',\n",
       "   'car',\n",
       "   'looked',\n",
       "   'late',\n",
       "   'early',\n",
       "   'called',\n",
       "   'bricklin',\n",
       "   'door',\n",
       "   'really',\n",
       "   'small',\n",
       "   'addition',\n",
       "   'front',\n",
       "   'bumper',\n",
       "   'separate',\n",
       "   'rest',\n",
       "   'body',\n",
       "   'know',\n",
       "   'anyone',\n",
       "   'tellme',\n",
       "   'model',\n",
       "   'name',\n",
       "   'engine',\n",
       "   'spec',\n",
       "   'year',\n",
       "   'production',\n",
       "   'car',\n",
       "   'made',\n",
       "   'history',\n",
       "   'whatever',\n",
       "   'info',\n",
       "   'funky',\n",
       "   'looking',\n",
       "   'car',\n",
       "   'please',\n",
       "   'email'])]"
      ]
     },
     "execution_count": 5,
     "metadata": {},
     "output_type": "execute_result"
    }
   ],
   "source": [
    "from nltk.tokenize import sent_tokenize, word_tokenize\n",
    "from nltk.corpus import stopwords\n",
    "from nltk.stem.wordnet import WordNetLemmatizer\n",
    "import string\n",
    "stop_words = set(stopwords.words('english'))\n",
    "table = str.maketrans('', '', string.punctuation)\n",
    "lmtzr = WordNetLemmatizer() # see https://www.nltk.org/_modules/nltk/stem/wordnet.html for details\n",
    "\n",
    "def get_tokens(line):\n",
    "    ###\n",
    "    import nltk\n",
    "#     nltk.download('all')\n",
    "    ###\n",
    "    tokens = word_tokenize(line)\n",
    "    # convert to lower case\n",
    "    tokens = [w.lower() for w in tokens]\n",
    "    # remove punctuations from each word\n",
    "    stripped = [w.translate(table) for w in tokens]\n",
    "    # remove remaining tokens that are not alphabetic\n",
    "    words = [word for word in stripped if word.isalpha()]\n",
    "    # filter out stop words\n",
    "    words = [w for w in words if not w in stop_words]\n",
    "    # lemmatizing the words, see https://en.wikipedia.org/wiki/Lemmatisation\n",
    "    words = [lmtzr.lemmatize(w) for w in words]\n",
    "    return (words)\n",
    "\n",
    "news_rdd = news.map(lambda line: (1, get_tokens(line)))\n",
    "news_rdd.take(1)"
   ]
  },
  {
   "cell_type": "markdown",
   "metadata": {},
   "source": [
    "**Question**: why we add a key of `1` to all the rows?"
   ]
  },
  {
   "cell_type": "markdown",
   "metadata": {},
   "source": [
    "Some of the stop words are content specific (https://en.wikipedia.org/wiki/Stop_words). Here we assume that words that appear very frequently are stop words. We use 3000 as a threshold."
   ]
  },
  {
   "cell_type": "code",
   "execution_count": 6,
   "metadata": {},
   "outputs": [
    {
     "data": {
      "text/plain": [
       "['wondering',\n",
       " 'anyone',\n",
       " 'could',\n",
       " 'enlighten',\n",
       " 'car',\n",
       " 'saw',\n",
       " 'day',\n",
       " 'sport',\n",
       " 'car',\n",
       " 'looked']"
      ]
     },
     "execution_count": 6,
     "metadata": {},
     "output_type": "execute_result"
    }
   ],
   "source": [
    "doc_stop_words = news_rdd.flatMap(lambda r: r[1]).map(lambda r: (r,1)).reduceByKey(lambda a,b: a+b)\n",
    "\n",
    "# doc_stop_words.collect()\n",
    "\n",
    "doc_stop_words = doc_stop_words.filter(lambda a: a[1]>3000).map(lambda r: r[0]).collect()\n",
    "\n",
    "# throw away stop words and words that are just single letters.\n",
    "news_rdd = news_rdd.map(lambda r: (r[0],[w for w in r[1] if not w in doc_stop_words and not len(w)==1]))    \n",
    "\n",
    "news_rdd.take(1)[0][1][:10]"
   ]
  },
  {
   "cell_type": "markdown",
   "metadata": {},
   "source": [
    "## 2. Convert tokens into sparse vectors"
   ]
  },
  {
   "cell_type": "code",
   "execution_count": 7,
   "metadata": {},
   "outputs": [
    {
     "data": {
      "text/plain": [
       "[Row(dummy=1, words=['wondering', 'anyone', 'could', 'enlighten', 'car', 'saw', 'day', 'sport', 'car', 'looked', 'late', 'early', 'called', 'bricklin', 'door', 'really', 'small', 'addition', 'front', 'bumper', 'separate', 'rest', 'body', 'anyone', 'tellme', 'model', 'name', 'engine', 'spec', 'year', 'production', 'car', 'made', 'history', 'whatever', 'info', 'funky', 'looking', 'car', 'please', 'email'])]"
      ]
     },
     "execution_count": 7,
     "metadata": {},
     "output_type": "execute_result"
    }
   ],
   "source": [
    "from pyspark.ml.feature import CountVectorizer\n",
    "from pyspark.sql.functions import monotonically_increasing_id\n",
    "\n",
    "news_df = spark.createDataFrame(news_rdd, [\"dummy\",\"words\"])\n",
    "news_df.cache()\n",
    "news_df.take(1)"
   ]
  },
  {
   "cell_type": "markdown",
   "metadata": {},
   "source": [
    "Now, we generate vectors that are essentially historgrams of word counts associated with each message, see https://spark.apache.org/docs/latest/ml-features.html#countvectorizer"
   ]
  },
  {
   "cell_type": "code",
   "execution_count": 8,
   "metadata": {},
   "outputs": [
    {
     "name": "stdout",
     "output_type": "stream",
     "text": [
      "+-----+--------------------+--------------------+\n",
      "|dummy|               words|            features|\n",
      "+-----+--------------------+--------------------+\n",
      "|    1|[wondering, anyon...|(30870,[0,1,32,37...|\n",
      "|    1|[fair, number, br...|(30870,[18,29,37,...|\n",
      "|    1|[well, folk, mac,...|(30870,[0,3,4,7,9...|\n",
      "|    1|[weitek, addressp...|(30870,[29,38,118...|\n",
      "|    1|[article, worldst...|(30870,[2,3,11,13...|\n",
      "|    1|[course, term, mu...|(30870,[16,31,40,...|\n",
      "|    1|[responded, reque...|(30870,[0,6,61,62...|\n",
      "|    1|[show, much, scsi...|(30870,[8,9,10,11...|\n",
      "|    1|[win, downloaded,...|(30870,[56,60,146...|\n",
      "|    1|[board, year, wor...|(30870,[1,4,5,6,1...|\n",
      "+-----+--------------------+--------------------+\n",
      "only showing top 10 rows\n",
      "\n"
     ]
    }
   ],
   "source": [
    "cv = CountVectorizer(inputCol=\"words\", outputCol=\"features\", minDF=2)\n",
    "\n",
    "cv_model = cv.fit(news_df)\n",
    "\n",
    "news_df_w_features = cv_model.transform(news_df)\n",
    "news_df_w_features.cache()\n",
    "news_df_w_features.show(10)"
   ]
  },
  {
   "cell_type": "markdown",
   "metadata": {},
   "source": [
    "## Convert pyspark.ml vectors to pyspark.mllib vectors\n",
    "\n",
    "This will make it possible to appy spark's sparse SVD algorithm."
   ]
  },
  {
   "cell_type": "code",
   "execution_count": 9,
   "metadata": {},
   "outputs": [
    {
     "data": {
      "text/plain": [
       "[SparseVector(30870, {0: 1.0, 1: 1.0, 32: 2.0, 37: 1.0, 43: 1.0, 52: 1.0, 63: 1.0, 72: 1.0, 85: 1.0, 91: 4.0, 149: 1.0, 186: 1.0, 229: 1.0, 242: 1.0, 294: 1.0, 322: 1.0, 331: 1.0, 411: 1.0, 488: 1.0, 534: 1.0, 554: 1.0, 588: 1.0, 604: 1.0, 755: 1.0, 764: 1.0, 788: 1.0, 936: 1.0, 1047: 1.0, 1218: 1.0, 1366: 1.0, 1499: 1.0, 2061: 1.0, 5623: 1.0, 8868: 1.0, 15717: 1.0, 26974: 1.0})]"
      ]
     },
     "execution_count": 9,
     "metadata": {},
     "output_type": "execute_result"
    }
   ],
   "source": [
    "from pyspark.mllib.linalg import Vectors\n",
    "#from pyspark.ml import linalg as ml_linalg\n",
    "def as_mllib_vector(v):\n",
    "    return Vectors.sparse(v.size, v.indices, v.values)\n",
    "\n",
    "features = news_df_w_features.select(\"features\")\n",
    "feature_vec = features.rdd.map(lambda r: as_mllib_vector(r[0]))\n",
    "\n",
    "feature_vec.cache()\n",
    "feature_vec.take(1)"
   ]
  },
  {
   "cell_type": "markdown",
   "metadata": {},
   "source": [
    "### Take a look at the vocabulary\n",
    "The cv model stores the vocabulary separately from the histograms of words for each document."
   ]
  },
  {
   "cell_type": "code",
   "execution_count": 10,
   "metadata": {},
   "outputs": [
    {
     "name": "stdout",
     "output_type": "stream",
     "text": [
      "Vocabulary from CountVectorizerModel is:\n",
      "['could', 'year', 'system', 'new', 'make', 'say', 'file', 'good', 'may', 'well', 'problem', 'right', 'even', 'thing', 'way', 'see', 'first', 'work', 'two', 'much', 'many', 'god', 'want', 'need', 'program', 'go', 'used', 'window', 'said', 'number', 'question', 'point', 'anyone', 'something', 'take', 'come', 'since', 'please', 'information', 'drive', 'using', 'key', 'back', 'really', 'state', 'mean', 'going', 'look', 'still', 'part', 'find', 'case', 'day', 'game', 'believe', 'must', 'help', 'government', 'available', 'law', 'ca', 'last', 'thanks', 'email', 'might', 'another', 'run', 'data', 'group', 'got', 'without', 'line', 'made', 'let', 'better', 'sure', 'etc', 'read', 'give', 'never', 'set', 'space', 'fact', 'lot', 'power', 'name', 'however', 'armenian', 'card', 'support', 'list', 'car', 'version', 'around', 'tell', 'team', 'second', 'probably', 'someone', 'world']\n",
      "\n",
      "---\n",
      "\n",
      "Number of terms W =  30870\n"
     ]
    }
   ],
   "source": [
    "print (\"Vocabulary from CountVectorizerModel is:\")\n",
    "print(cv_model.vocabulary[:100])\n",
    "print(\"\\n---\\n\")\n",
    "\n",
    "W = len(cv_model.vocabulary)\n",
    "print(\"Number of terms W = \", W)"
   ]
  },
  {
   "cell_type": "markdown",
   "metadata": {},
   "source": [
    "## 3a. Latent Semantic Analysis \n",
    "\n",
    "Latent Semantic Analysis is based on computing a SVD of the term-document matrix and using the left singular vectors and the right singular vectors as latent factor loadings to represent terms and documents, respectively. "
   ]
  },
  {
   "cell_type": "code",
   "execution_count": 11,
   "metadata": {},
   "outputs": [],
   "source": [
    "from pyspark.mllib.linalg.distributed import RowMatrix\n",
    "\n",
    "feature_mat = RowMatrix(feature_vec)\n",
    "\n",
    "# Here we use the dimension of latent factors to be k\n",
    "k = 5\n",
    "feature_svd = feature_mat.computeSVD(5, computeU=True)\n",
    "\n",
    "U = feature_svd.U       # The U factor is a RowMatrix.\n",
    "s = feature_svd.s       # The singular values are stored in a local dense vector.\n",
    "V = feature_svd.V       # The V factor is a local dense matrix."
   ]
  },
  {
   "cell_type": "code",
   "execution_count": 12,
   "metadata": {},
   "outputs": [
    {
     "name": "stdout",
     "output_type": "stream",
     "text": [
      "number of rows of U 11314\n",
      "number of rows of V 30870\n"
     ]
    }
   ],
   "source": [
    "print(\"number of rows of U\", U.numRows()) # this is the number of documents (D)\n",
    "print(\"number of rows of V\", V.numRows ) # this is the number of terms (W)"
   ]
  },
  {
   "cell_type": "code",
   "execution_count": 13,
   "metadata": {},
   "outputs": [
    {
     "name": "stdout",
     "output_type": "stream",
     "text": [
      "U factors are:\n",
      "[-0.0011222896971468748,9.074915750521613e-05,0.0013061225767299644,0.0008088746376908758,0.00120377415622899]\n",
      "[-0.0011694011471896353,-0.00011481625286131677,0.0008851691511401929,-0.00047528219268101784,0.0009687212064435996]\n",
      "[-0.003720979830136292,0.00012815750515389164,0.0035488849964112118,-4.0156549815082805e-05,0.002165356115857933]\n",
      "[-0.0003100300940596765,2.1727460750699164e-05,2.9641225981863423e-06,-0.0001335013676674993,0.0001921921400132234]\n",
      "[-0.001341777912086946,6.352096419659816e-05,0.0007966252428018705,-0.0007076921880897432,0.000520350277454275]\n",
      "[-0.0011650082845305577,6.77286333447194e-05,0.0008237554193222443,0.0004060959173700004,0.0005085188927193095]\n",
      "[-0.001198586529879083,9.730402929758209e-05,-0.0004904789481020446,0.0007350309163589522,-0.0003312533940456772]\n",
      "[-0.0034580908621426256,0.00021967444034126006,0.0020147069884526077,-0.0038350487528484188,0.001346006078110338]\n",
      "[-0.0002792206753661284,2.3649857448158896e-05,0.00019712111806297495,-0.00010208249028115834,7.496798462084183e-05]\n",
      "[-0.0036338726879305474,0.0003396578952760961,-0.001083338189104156,0.0007066281678201444,-0.0013221689107077623]\n",
      "Singular values are: \n",
      " [690.8250270924439,589.4850256305363,469.3733343193256,408.24995371590006,351.83421834613836]\n",
      "V factors are: \n",
      " DenseMatrix([[-6.20139340e-02,  3.73676800e-03,  1.07786175e-01,\n",
      "               4.89412052e-02,  3.98771753e-02],\n",
      "             [-7.45662741e-02,  5.57657957e-03,  4.25170361e-02,\n",
      "               7.92245997e-02,  6.40964107e-02],\n",
      "             [-1.33432664e-01,  9.95925652e-03,  3.41737982e-02,\n",
      "              -1.67471118e-01,  2.89297267e-02],\n",
      "             ...,\n",
      "             [-7.72320018e-06,  5.98350147e-07,  5.14280977e-06,\n",
      "              -1.28480925e-05,  6.84469310e-06],\n",
      "             [-3.19275606e-05,  2.24450626e-06,  3.50058655e-05,\n",
      "              -2.25598837e-05,  2.37050965e-05],\n",
      "             [-4.90360974e-04,  4.31179841e-05, -6.46912324e-04,\n",
      "               7.01222557e-04,  9.90086263e-04]])\n"
     ]
    }
   ],
   "source": [
    "collected = U.rows.take(10)\n",
    "\n",
    "print(\"U factors are:\")\n",
    "for vector in collected:\n",
    "    print(vector)\n",
    "    \n",
    "print(\"Singular values are: \\n\", s)\n",
    "\n",
    "print(\"V factors are: \\n\", V)"
   ]
  },
  {
   "cell_type": "markdown",
   "metadata": {},
   "source": [
    "Let's try to use embed the messages into a 2D space using t-SNE (http://www.jmlr.org/papers/volume9/vandermaaten08a/vandermaaten08a.pdf)\n",
    "\n",
    "Intuitively, you can think of t-SNE as an iterative scheme that walks down the gradient of a function. This function is constructed such that it penalises when similar (in the sense of in a high dimensional space) points are far apart or dissimilar points close together (in a low- dimensional, here 2D, space).\n",
    "\n",
    "We can think of the rows of $U$ as projections of documents/messages into a $k$-dimensional space determined by the most important topics. This was a form of dimensionality reduction."
   ]
  },
  {
   "cell_type": "code",
   "execution_count": 14,
   "metadata": {},
   "outputs": [
    {
     "name": "stdout",
     "output_type": "stream",
     "text": [
      "[t-SNE] Computing 91 nearest neighbors...\n",
      "[t-SNE] Indexed 11314 samples in 0.009s...\n",
      "[t-SNE] Computed neighbors for 11314 samples in 0.640s...\n",
      "[t-SNE] Computed conditional probabilities for sample 1000 / 11314\n",
      "[t-SNE] Computed conditional probabilities for sample 2000 / 11314\n",
      "[t-SNE] Computed conditional probabilities for sample 3000 / 11314\n",
      "[t-SNE] Computed conditional probabilities for sample 4000 / 11314\n",
      "[t-SNE] Computed conditional probabilities for sample 5000 / 11314\n",
      "[t-SNE] Computed conditional probabilities for sample 6000 / 11314\n",
      "[t-SNE] Computed conditional probabilities for sample 7000 / 11314\n",
      "[t-SNE] Computed conditional probabilities for sample 8000 / 11314\n",
      "[t-SNE] Computed conditional probabilities for sample 9000 / 11314\n",
      "[t-SNE] Computed conditional probabilities for sample 10000 / 11314\n",
      "[t-SNE] Computed conditional probabilities for sample 11000 / 11314\n",
      "[t-SNE] Computed conditional probabilities for sample 11314 / 11314\n",
      "[t-SNE] Mean sigma: 0.000000\n",
      "[t-SNE] KL divergence after 250 iterations with early exaggeration: 77.951805\n",
      "[t-SNE] KL divergence after 1000 iterations: 1.507679\n"
     ]
    }
   ],
   "source": [
    "from sklearn.manifold import TSNE\n",
    "import numpy as np\n",
    "\n",
    "collected = U.rows.collect()\n",
    "Uarray = np.array([[x[i] for i in range(k)] for x in collected]) # unpack strange spark vectors\n",
    "t_sne_model = TSNE(n_components=2, verbose=1, random_state=0, angle=.99, init='random')\n",
    "Uembedded = t_sne_model.fit_transform(Uarray)"
   ]
  },
  {
   "cell_type": "code",
   "execution_count": 15,
   "metadata": {},
   "outputs": [
    {
     "data": {
      "image/png": "[encoded data removed]",
      "text/plain": [
       "<Figure size 432x288 with 1 Axes>"
      ]
     },
     "metadata": {
      "needs_background": "light"
     },
     "output_type": "display_data"
    },
    {
     "data": {
      "text/plain": [
       "(11314, 2)"
      ]
     },
     "execution_count": 15,
     "metadata": {},
     "output_type": "execute_result"
    }
   ],
   "source": [
    "from matplotlib import pyplot as plt\n",
    "%matplotlib inline\n",
    "plt.scatter(Uembedded[:,0],Uembedded[:,1],alpha=.2)\n",
    "plt.show()\n",
    "np.shape(Uembedded)"
   ]
  },
  {
   "cell_type": "markdown",
   "metadata": {},
   "source": [
    "Apparently, this has helped clustering our messages a into sub-structures with related topics."
   ]
  },
  {
   "cell_type": "markdown",
   "metadata": {},
   "source": [
    "This is due to the contribution of topics to different messages, as seen when plotting the columns of $U$ against each other. Often, few messages account for a large fraction of variability."
   ]
  },
  {
   "cell_type": "code",
   "execution_count": 16,
   "metadata": {},
   "outputs": [
    {
     "data": {
      "image/png": "[encoded data removed]",
      "text/plain": [
       "<Figure size 432x288 with 1 Axes>"
      ]
     },
     "metadata": {
      "needs_background": "light"
     },
     "output_type": "display_data"
    },
    {
     "data": {
      "image/png": "[encoded data removed]",
      "text/plain": [
       "<Figure size 432x288 with 1 Axes>"
      ]
     },
     "metadata": {
      "needs_background": "light"
     },
     "output_type": "display_data"
    }
   ],
   "source": [
    "from matplotlib import pyplot as plt\n",
    "%matplotlib inline\n",
    "plt.scatter(Uarray[:,0],Uarray[:,1],alpha=.1)\n",
    "plt.scatter(Uarray[:,0],Uarray[:,2],alpha=.1)\n",
    "plt.scatter(Uarray[:,0],Uarray[:,3],alpha=.1)\n",
    "plt.show()\n",
    "plt.scatter(Uarray[:,1],Uarray[:,2],alpha=.1)\n",
    "plt.scatter(Uarray[:,1],Uarray[:,3],alpha=.1)\n",
    "plt.show()"
   ]
  },
  {
   "cell_type": "markdown",
   "metadata": {},
   "source": [
    "## 3b. Latent Dirichlet Allocation\n",
    "\n",
    "We now analyse the same dataset using Latent Dirichlet Allocation (http://www.jmlr.org/papers/volume3/blei03a/blei03a.pdf, https://spark.apache.org/docs/2.2.0/mllib-clustering.html#latent-dirichlet-allocation-lda) to find feature vectors characterizing topics of documents, and feature vectors characterizing the words of topics.\n",
    "\n",
    "Note that we assume the number of topics $k$ **a priori** (hyperparameter). Here we fix $k=20$"
   ]
  },
  {
   "cell_type": "code",
   "execution_count": 17,
   "metadata": {},
   "outputs": [],
   "source": [
    "from pyspark.ml.clustering import LDA\n",
    "\n",
    "lda = LDA(k=20, maxIter=5)\n",
    "\n",
    "lda_model = lda.fit(news_df_w_features)"
   ]
  },
  {
   "cell_type": "markdown",
   "metadata": {},
   "source": [
    "The perplexity below is a measurement of how well a probability model predicts a sample. It may be used to compare probability models. A low perplexity indicates the probability distribution is good at predicting the sample.\n",
    "You can think of it as being something like $2^{-\\frac{1}{N}\\sum_i \\log_2q(x_i)}$, where $q$ is the model for the probability and the sum goes over $N$ test samples.  It is mainly used when comparing different models."
   ]
  },
  {
   "cell_type": "code",
   "execution_count": 18,
   "metadata": {},
   "outputs": [
    {
     "name": "stdout",
     "output_type": "stream",
     "text": [
      "The lower bound on the log likelihood of the entire corpus: -9682969.181927456\n",
      "The upper bound on the perplexity: 9.905941370671831\n"
     ]
    }
   ],
   "source": [
    "ll = lda_model.logLikelihood(news_df_w_features)\n",
    "\n",
    "lp = lda_model.logPerplexity(news_df_w_features)\n",
    "\n",
    "print(\"The lower bound on the log likelihood of the entire corpus: \" + str(ll))\n",
    "\n",
    "print(\"The upper bound on the perplexity: \" + str(lp))"
   ]
  },
  {
   "cell_type": "code",
   "execution_count": 19,
   "metadata": {},
   "outputs": [
    {
     "name": "stdout",
     "output_type": "stream",
     "text": [
      "The topics described by their top-weighted terms:\n",
      "+-----+------------------------------+------------------------------------------------------------------------------------------------------------------+\n",
      "|topic|termIndices                   |termWeights                                                                                                       |\n",
      "+-----+------------------------------+------------------------------------------------------------------------------------------------------------------+\n",
      "|0    |[1, 347, 623, 7, 110]         |[5.581572208302464E-4, 2.9462369414069695E-4, 2.874128968986291E-4, 2.6871777255544645E-4, 2.61645309130362E-4]   |\n",
      "|1    |[2886, 574, 438, 241, 39]     |[2.670070751286365E-4, 2.422782079025227E-4, 1.849619767896665E-4, 1.6375477743704923E-4, 1.6139095176942827E-4]  |\n",
      "|2    |[249, 24, 6, 869, 5673]       |[7.040687490599862E-4, 3.5595324321367034E-4, 3.076650601965969E-4, 2.7509053888566767E-4, 2.5447896232186617E-4] |\n",
      "|3    |[710, 0, 66, 7666, 27]        |[4.1031898491522426E-4, 3.46192125139349E-4, 3.3242619038670616E-4, 2.9272850785346297E-4, 2.8589814717709124E-4] |\n",
      "|4    |[277, 266, 3, 18, 41]         |[4.060171237464953E-4, 4.0051592620811844E-4, 3.207295373385596E-4, 3.167162912645846E-4, 3.110251092038928E-4]   |\n",
      "|5    |[28, 9, 91, 19, 62]           |[3.6056407795371224E-4, 3.4199566237413595E-4, 3.397688685761753E-4, 3.1863777919440597E-4, 2.713489929382252E-4] |\n",
      "|6    |[0, 1, 4, 3, 5]               |[0.0025982456664688227, 0.002423843194018308, 0.002398674633357805, 0.002359576385143815, 0.0022032229063731605]  |\n",
      "|7    |[225, 2574, 1557, 569, 204]   |[6.476283350082105E-4, 6.092793179954581E-4, 5.006205173403307E-4, 4.3656004983036386E-4, 3.0644533366188206E-4]  |\n",
      "|8    |[3, 71, 0, 1300, 2318]        |[2.822237146163137E-4, 2.811544494660856E-4, 1.875119839022365E-4, 1.8635631423436372E-4, 1.8539356074183033E-4]  |\n",
      "|9    |[2, 80, 329, 14, 21]          |[4.4185590444829594E-4, 4.355611085055016E-4, 3.995227129790553E-4, 3.9811095001827484E-4, 3.763711913593157E-4]  |\n",
      "|10   |[88, 1516, 2345, 3, 5]        |[3.3218845660002284E-4, 2.656738124061939E-4, 2.0517045569644967E-4, 2.026177421680712E-4, 1.7429524340675762E-4] |\n",
      "|11   |[249, 5425, 6, 7, 1257]       |[4.605030559962503E-4, 2.53145225701937E-4, 2.382240625130383E-4, 2.2980158013421786E-4, 2.1902532907026003E-4]   |\n",
      "|12   |[67, 380, 7, 9, 124]          |[2.665493138545012E-4, 2.616290150665296E-4, 2.4072648986236486E-4, 2.3483827026732777E-4, 2.2845221276239375E-4] |\n",
      "|13   |[88, 7, 30, 91, 1020]         |[0.001087717339245894, 3.0603853264924444E-4, 2.616169312590687E-4, 2.5675516315665583E-4, 2.50848287009954E-4]   |\n",
      "|14   |[549, 277, 118, 41, 566]      |[0.0037013485961483327, 0.003398948064653062, 0.0018412810751469607, 0.0017800889702141, 0.001585096702978227]    |\n",
      "|15   |[249, 865, 6, 6053, 9]        |[7.23284785036765E-4, 3.0231956837683215E-4, 3.0213862689068235E-4, 2.522775780904075E-4, 2.513406355427226E-4]   |\n",
      "|16   |[1334, 2706, 2064, 2310, 2838]|[7.436670221683086E-4, 5.947090805069129E-4, 5.674876648408454E-4, 4.897212996916747E-4, 4.7328800279229926E-4]   |\n",
      "|17   |[695, 760, 2374, 53, 518]     |[4.376484204693072E-4, 3.797839526711752E-4, 3.404124679117697E-4, 2.97488165454599E-4, 2.751854601238387E-4]     |\n",
      "|18   |[129, 26, 992, 118, 11283]    |[3.3188993483440816E-4, 2.8659203900705416E-4, 2.3746383540609108E-4, 2.2285036243603553E-4, 2.051816300073057E-4]|\n",
      "|19   |[249, 300, 6, 229, 319]       |[0.003619976394990128, 6.232296053947215E-4, 6.22671259259184E-4, 6.03567662797016E-4, 5.784197355923324E-4]      |\n",
      "+-----+------------------------------+------------------------------------------------------------------------------------------------------------------+\n",
      "\n",
      "['year' 'sort' 'mouse' 'good' 'different']\n",
      "['vat' 'tax' 'black' 'mac' 'drive']\n",
      "['entry' 'program' 'file' 'star' 'trek']\n",
      "['printer' 'could' 'run' 'telepathy' 'window']\n",
      "['encryption' 'technology' 'new' 'two' 'key']\n",
      "['said' 'well' 'car' 'much' 'thanks']\n",
      "['could' 'year' 'make' 'new' 'say']\n",
      "['jew' 'weaver' 'ottoman' 'jewish' 'university']\n",
      "['new' 'line' 'could' 'xterm' 'captain']\n",
      "['system' 'set' 'function' 'way' 'god']\n",
      "['card' 'isa' 'vlb' 'new' 'say']\n",
      "['entry' 'pitt' 'file' 'good' 'bos']\n",
      "['data' 'monitor' 'good' 'well' 'gun']\n",
      "['card' 'good' 'question' 'car' 'vga']\n",
      "['pt' 'encryption' 'chip' 'key' 'privacy']\n",
      "['entry' 'turk' 'file' 'ermeni' 'well']\n",
      "['mv' 'zv' 'ww' 'te' 'wu']\n",
      "['king' 'flame' 'vram' 'game' 'la']\n",
      "['jesus' 'used' 'oil' 'chip' 'fatty']\n",
      "['entry' 'rule' 'file' 'info' 'section']\n"
     ]
    }
   ],
   "source": [
    "# Describe topics\n",
    "topics = lda_model.describeTopics(5)\n",
    "\n",
    "print(\"The topics described by their top-weighted terms:\")\n",
    "\n",
    "topics.show(truncate=False)\n",
    "\n",
    "# Shows the results\n",
    "import numpy as np\n",
    "topic_i = topics.select(\"termIndices\").rdd.map(lambda r: r[0]).collect()\n",
    "for i in topic_i:\n",
    "    print(np.array(cv_model.vocabulary)[i])"
   ]
  },
  {
   "cell_type": "markdown",
   "metadata": {},
   "source": [
    "**Homework: Can you use the output of LDA to embed the messages in 2D space (see scatterplot above)?**"
   ]
  },
  {
   "cell_type": "code",
   "execution_count": null,
   "metadata": {},
   "outputs": [],
   "source": []
  }
 ],
 "metadata": {
  "kernelspec": {
   "display_name": "PySpark",
   "language": "python",
   "name": "pyspark"
  },
  "language_info": {
   "codemirror_mode": {
    "name": "ipython",
    "version": 3
   },
   "file_extension": ".py",
   "mimetype": "text/x-python",
   "name": "python",
   "nbconvert_exporter": "python",
   "pygments_lexer": "ipython3",
   "version": "3.7.3"
  }
 },
 "nbformat": 4,
 "nbformat_minor": 2
}
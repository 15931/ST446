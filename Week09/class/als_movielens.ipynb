{
 "cells": [
  {
   "cell_type": "markdown",
   "metadata": {},
   "source": [
    "# ST446 Distributed Computing for Big Data\n",
    "## Seminar class 8: Scalable machine learning II\n"
   ]
  },
  {
   "cell_type": "markdown",
   "metadata": {},
   "source": [
    "# Matrix completion via ALS: movie recommendations example\n",
    "\n",
    "In this notebook, we demonstrate how to train a recommendation system model based on matrix completion in PySpark by minimizing a loss function through the Alternating Least Square (ALS) algorithm. \n",
    "\n",
    "Before running this notebook, please have a look at the moovielens dataset, download the movie ratings datasets _ml-latest-small.zip_ and _ml-lates.zip_ from https://grouplens.org/datasets/movielens/latest/ and upload it into HDFS.\n",
    "\n",
    "I downloaded the large (~ 250 MB) and the small file and copied them into hdfs using commands like these (on the remote machine):\n",
    "```\n",
    "$ wget http://files.grouplens.org/datasets/movielens/ml-latest.zip\n",
    "$ unzip ml-latest.zip \n",
    "$ hadoop fs -put ~/ml-latest/ /\n",
    "$ hadoop fs -ls /\n",
    "Found 5 items\n",
    "drwxr-xr-x   - fluid  hadoop          0 2019-03-11 11:07 /fluid\n",
    "drwx------   - mapred hadoop          0 2019-03-11 10:58 /hadoop\n",
    "drwxr-xr-x   - fluid  hadoop          0 2019-03-11 11:07 /ml-latest\n",
    "drwxrwxrwt   - hdfs   hadoop          0 2019-03-11 10:58 /tmp\n",
    "drwxrwxrwt   - hdfs   hadoop          0 2019-03-11 11:04 /user\n",
    "```\n",
    "and likewise for `ml-latest-small.zip`.\n",
    "\n",
    "Note that the alternative of uploading these files to a bucket could take a while.\n",
    "\n",
    "### Have a look at the data:\n",
    "```\n",
    "$ head ratings.csv \n",
    "userId,movieId,rating,timestamp\n",
    "1,307,3.5,1256677221\n",
    "1,481,3.5,1256677456\n",
    "1,1091,1.5,1256677471\n",
    "1,1257,4.5,1256677460\n",
    "1,1449,4.5,1256677264\n",
    "1,1590,2.5,1256677236\n",
    "1,1591,1.5,1256677475\n",
    "1,2134,4.5,1256677464\n",
    "1,2478,4.0,1256677239\n",
    "\n",
    "$ head movies.csv \n",
    "movieId,title,genres\n",
    "1,Toy Story (1995),Adventure|Animation|Children|Comedy|Fantasy\n",
    "2,Jumanji (1995),Adventure|Children|Fantasy\n",
    "3,Grumpier Old Men (1995),Comedy|Romance\n",
    "4,Waiting to Exhale (1995),Comedy|Drama|Romance\n",
    "5,Father of the Bride Part II (1995),Comedy\n",
    "6,Heat (1995),Action|Crime|Thriller\n",
    "7,Sabrina (1995),Comedy|Romance\n",
    "8,Tom and Huck (1995),Adventure|Children\n",
    "9,Sudden Death (1995),Action\n",
    "```\n",
    "\n",
    "We're going to use the test data set first.\n",
    "\n",
    "\n",
    "Recall that we are going to approximate a matrix of ratings $A \\in \\mathbb{R}^{m\\times n}$ as a low-rank matrix $X Y^\\top$,  where $X \\in \\mathbb{R}^{m\\times r}$ and $Y \\in \\mathbb{R}^{n\\times r}$. Here, $m$ is the number of users, $n$ is the number of movies and $r \\ll m,n$ is the number of latent factors, that is, the rank of the approximation of $A$.\n",
    "\n",
    "![ALS](./fig/ALS-1.png)"
   ]
  },
  {
   "cell_type": "markdown",
   "metadata": {},
   "source": [
    "## Load data"
   ]
  },
  {
   "cell_type": "code",
   "execution_count": 1,
   "metadata": {},
   "outputs": [
    {
     "name": "stdout",
     "output_type": "stream",
     "text": [
      "Row(userId=1, movieId=1, rating=4.0, timestamp=964982703)\n",
      "Row(userId=1, movieId=3, rating=4.0, timestamp=964981247)\n",
      "Row(userId=1, movieId=6, rating=4.0, timestamp=964982224)\n",
      "Row(userId=1, movieId=47, rating=5.0, timestamp=964983815)\n"
     ]
    }
   ],
   "source": [
    "from pyspark.sql.types import *\n",
    "from pyspark.ml.evaluation import RegressionEvaluator\n",
    "from pyspark.ml.recommendation import ALS\n",
    "\n",
    "# please update the folder to point to your folder in hdfs\n",
    "folder = \"hdfs:///ml-latest-small/\"\n",
    "# folder = \"hdfs:///ml-latest/\" # for full data set\n",
    "\n",
    "rating_schema = StructType([\n",
    "    StructField(\"userId\", LongType(), True),    \n",
    "    StructField(\"movieId\", LongType(), True),\n",
    "    StructField(\"rating\", FloatType(), True),\n",
    "    StructField(\"timestamp\", LongType(), True)\n",
    "])\n",
    "\n",
    "ratings = spark.read.csv(folder+\"ratings.csv\", header=True, schema=rating_schema)\n",
    "\n",
    "[print(x) for x in ratings.head(4)];"
   ]
  },
  {
   "cell_type": "code",
   "execution_count": 2,
   "metadata": {},
   "outputs": [
    {
     "name": "stdout",
     "output_type": "stream",
     "text": [
      "Number of partitions:  1\n",
      "Number of workers: 2\n"
     ]
    }
   ],
   "source": [
    "# split the data to training and test parts\n",
    "(training, test) = ratings.randomSplit([0.8, 0.2], seed=10)\n",
    "training.cache()\n",
    "test.cache()\n",
    "print('Number of partitions: ', training.rdd.getNumPartitions())\n",
    "print('Number of workers:', sc._conf.get('spark.executor.instances'))"
   ]
  },
  {
   "cell_type": "markdown",
   "metadata": {},
   "source": [
    "## Build the recommendation system model using ALS\n",
    "\n",
    "![ALS](./fig/ALS-2.png)\n",
    "![ALS](./fig/ALS-3.png)\n",
    "\n",
    "In the following cell, the coldStartStrategy is set to `drop` to ensure that we don't get NaN evaluation metrics, if there is an unseen user or an unseen movie. \n",
    "\n",
    "See here about the cold start strategy: https://people.apache.org/~pwendell/spark-nightly/spark-master-docs/latest/ml-collaborative-filtering.html#cold-start-strategy"
   ]
  },
  {
   "cell_type": "code",
   "execution_count": 3,
   "metadata": {},
   "outputs": [],
   "source": [
    "numberLatentFactors = 5 # specify how many latent factors to use (default is 10)\n",
    "als = ALS(rank=numberLatentFactors, maxIter=5, regParam=0.01, \n",
    "          userCol=\"userId\", itemCol=\"movieId\", ratingCol=\"rating\", \n",
    "          coldStartStrategy=\"drop\")\n",
    "\n",
    "model = als.fit(training)\n",
    "# note that running the training on the full data set takes a while!"
   ]
  },
  {
   "cell_type": "markdown",
   "metadata": {},
   "source": [
    "## Evaluate the model"
   ]
  },
  {
   "cell_type": "code",
   "execution_count": 4,
   "metadata": {},
   "outputs": [
    {
     "name": "stdout",
     "output_type": "stream",
     "text": [
      "Root-mean-square error = 0.9905893400742061\n"
     ]
    }
   ],
   "source": [
    "# Evaluate the model by computing the RMSE on the test data\n",
    "\n",
    "predictions = model.transform(test)\n",
    "\n",
    "evaluator = RegressionEvaluator(metricName=\"rmse\", \n",
    "                                labelCol=\"rating\", predictionCol=\"prediction\")\n",
    "\n",
    "rmse = evaluator.evaluate(predictions)\n",
    "\n",
    "print(\"Root-mean-square error = \" + str(rmse))"
   ]
  },
  {
   "cell_type": "markdown",
   "metadata": {},
   "source": [
    "## How many factors and iterations to choose?\n",
    "Let's have a look a the impact of the number of latent factors and maximum number of training iterations (don't try do run this on the large dataset!)"
   ]
  },
  {
   "cell_type": "code",
   "execution_count": 10,
   "metadata": {},
   "outputs": [
    {
     "name": "stdout",
     "output_type": "stream",
     "text": [
      "latent factors:  1\n",
      "max iterations:  5\n",
      "Root-mean-square error = 1.6943852026513255\n",
      "latent factors:  1\n",
      "max iterations:  6\n",
      "Root-mean-square error = 1.3793417356459676\n",
      "latent factors:  1\n",
      "max iterations:  7\n",
      "Root-mean-square error = 1.292418119057368\n",
      "latent factors:  1\n",
      "max iterations:  8\n",
      "Root-mean-square error = 1.2950649826534708\n",
      "latent factors:  1\n",
      "max iterations:  9\n",
      "Root-mean-square error = 1.3092807292131123\n",
      "latent factors:  1\n",
      "max iterations:  10\n",
      "Root-mean-square error = 1.3205810232498059\n",
      "latent factors:  2\n",
      "max iterations:  5\n",
      "Root-mean-square error = 0.964600878645224\n",
      "latent factors:  2\n",
      "max iterations:  6\n",
      "Root-mean-square error = 0.9416666458299285\n",
      "latent factors:  2\n",
      "max iterations:  7\n",
      "Root-mean-square error = 0.9389320403417312\n",
      "latent factors:  2\n",
      "max iterations:  8\n",
      "Root-mean-square error = 0.9374082743682246\n",
      "latent factors:  2\n",
      "max iterations:  9\n",
      "Root-mean-square error = 0.9373181686589772\n",
      "latent factors:  2\n",
      "max iterations:  10\n",
      "Root-mean-square error = 0.9403595826758322\n",
      "latent factors:  3\n",
      "max iterations:  5\n",
      "Root-mean-square error = 0.9590851935442933\n",
      "latent factors:  3\n",
      "max iterations:  6\n",
      "Root-mean-square error = 0.9546452806872661\n",
      "latent factors:  3\n",
      "max iterations:  7\n",
      "Root-mean-square error = 0.9521061351171369\n",
      "latent factors:  3\n",
      "max iterations:  8\n",
      "Root-mean-square error = 0.9511340322777869\n",
      "latent factors:  3\n",
      "max iterations:  9\n",
      "Root-mean-square error = 0.9505904660230267\n",
      "latent factors:  3\n",
      "max iterations:  10\n",
      "Root-mean-square error = 0.9507060730908151\n",
      "latent factors:  4\n",
      "max iterations:  5\n",
      "Root-mean-square error = 0.9919822687130642\n",
      "latent factors:  4\n",
      "max iterations:  6\n",
      "Root-mean-square error = 0.9935856393718261\n",
      "latent factors:  4\n",
      "max iterations:  7\n",
      "Root-mean-square error = 0.9945593599018501\n",
      "latent factors:  4\n",
      "max iterations:  8\n",
      "Root-mean-square error = 0.9944824996850945\n",
      "latent factors:  4\n",
      "max iterations:  9\n",
      "Root-mean-square error = 0.994205981478396\n",
      "latent factors:  4\n",
      "max iterations:  10\n",
      "Root-mean-square error = 0.9945072449059276\n",
      "latent factors:  5\n",
      "max iterations:  5\n",
      "Root-mean-square error = 0.9905893400742061\n",
      "latent factors:  5\n",
      "max iterations:  6\n",
      "Root-mean-square error = 0.9974338417043732\n",
      "latent factors:  5\n",
      "max iterations:  7\n",
      "Root-mean-square error = 1.0046349460368973\n",
      "latent factors:  5\n",
      "max iterations:  8\n",
      "Root-mean-square error = 1.0098932013586952\n",
      "latent factors:  5\n",
      "max iterations:  9\n",
      "Root-mean-square error = 1.0143253069710443\n",
      "latent factors:  5\n",
      "max iterations:  10\n",
      "Root-mean-square error = 1.019563901486161\n",
      "latent factors:  6\n",
      "max iterations:  5\n",
      "Root-mean-square error = 1.0326221541495049\n",
      "latent factors:  6\n",
      "max iterations:  6\n",
      "Root-mean-square error = 1.0396711663223968\n",
      "latent factors:  6\n",
      "max iterations:  7\n",
      "Root-mean-square error = 1.046476333649849\n",
      "latent factors:  6\n",
      "max iterations:  8\n",
      "Root-mean-square error = 1.052053220988667\n",
      "latent factors:  6\n",
      "max iterations:  9\n",
      "Root-mean-square error = 1.0575034750091983\n",
      "latent factors:  6\n",
      "max iterations:  10\n",
      "Root-mean-square error = 1.0631475195063722\n",
      "latent factors:  7\n",
      "max iterations:  5\n",
      "Root-mean-square error = 1.0553398873811524\n",
      "latent factors:  7\n",
      "max iterations:  6\n",
      "Root-mean-square error = 1.060722091211089\n",
      "latent factors:  7\n",
      "max iterations:  7\n",
      "Root-mean-square error = 1.0666948919784507\n",
      "latent factors:  7\n",
      "max iterations:  8\n",
      "Root-mean-square error = 1.0727948970718757\n",
      "latent factors:  7\n",
      "max iterations:  9\n",
      "Root-mean-square error = 1.0787834688983213\n",
      "latent factors:  7\n",
      "max iterations:  10\n",
      "Root-mean-square error = 1.0840604578059834\n",
      "latent factors:  8\n",
      "max iterations:  5\n",
      "Root-mean-square error = 1.0443346687139117\n",
      "latent factors:  8\n",
      "max iterations:  6\n",
      "Root-mean-square error = 1.0490062123999326\n",
      "latent factors:  8\n",
      "max iterations:  7\n",
      "Root-mean-square error = 1.0553584298112444\n",
      "latent factors:  8\n",
      "max iterations:  8\n",
      "Root-mean-square error = 1.062828750172975\n",
      "latent factors:  8\n",
      "max iterations:  9\n",
      "Root-mean-square error = 1.0699361649628973\n",
      "latent factors:  8\n",
      "max iterations:  10\n",
      "Root-mean-square error = 1.0759003517136714\n",
      "latent factors:  9\n",
      "max iterations:  5\n",
      "Root-mean-square error = 1.0687867580092976\n",
      "latent factors:  9\n",
      "max iterations:  6\n",
      "Root-mean-square error = 1.0787334710812306\n",
      "latent factors:  9\n",
      "max iterations:  7\n",
      "Root-mean-square error = 1.0878257906810374\n",
      "latent factors:  9\n",
      "max iterations:  8\n",
      "Root-mean-square error = 1.0953495979768517\n",
      "latent factors:  9\n",
      "max iterations:  9\n",
      "Root-mean-square error = 1.1017639800712817\n",
      "latent factors:  9\n",
      "max iterations:  10\n",
      "Root-mean-square error = 1.1076298927691615\n",
      "latent factors:  10\n",
      "max iterations:  5\n",
      "Root-mean-square error = 1.0701395744115199\n",
      "latent factors:  10\n",
      "max iterations:  6\n",
      "Root-mean-square error = 1.0797659639283066\n",
      "latent factors:  10\n",
      "max iterations:  7\n",
      "Root-mean-square error = 1.089164345210449\n",
      "latent factors:  10\n",
      "max iterations:  8\n",
      "Root-mean-square error = 1.0967867091049779\n",
      "latent factors:  10\n",
      "max iterations:  9\n",
      "Root-mean-square error = 1.1031108060209704\n",
      "latent factors:  10\n",
      "max iterations:  10\n",
      "Root-mean-square error = 1.108693093096085\n"
     ]
    }
   ],
   "source": [
    "rmserrors = {}\n",
    "for numberLatentFactors in range(1,11):\n",
    "    for maxIterations in range(5,11):\n",
    "        als = ALS(rank=numberLatentFactors, maxIter=maxIterations, regParam=0.01, \n",
    "          userCol=\"userId\", itemCol=\"movieId\", ratingCol=\"rating\", \n",
    "          coldStartStrategy=\"drop\")\n",
    "\n",
    "        model = als.fit(training)\n",
    "    \n",
    "        predictions = model.transform(test)\n",
    "\n",
    "        evaluator = RegressionEvaluator(metricName=\"rmse\", \n",
    "                                labelCol=\"rating\", predictionCol=\"prediction\")\n",
    "\n",
    "        rmse = evaluator.evaluate(predictions)\n",
    "        \n",
    "        print(\"latent factors: \", numberLatentFactors)\n",
    "        print(\"max iterations: \", maxIterations)\n",
    "        rmserrors[(numberLatentFactors,maxIterations)] = rmse\n",
    "\n",
    "        print(\"Root-mean-square error = \" + str(rmse))"
   ]
  },
  {
   "cell_type": "code",
   "execution_count": 39,
   "metadata": {},
   "outputs": [
    {
     "data": {
      "image/png": "[encoded data removed]",
      "text/plain": [
       "<Figure size 432x288 with 1 Axes>"
      ]
     },
     "metadata": {
      "needs_background": "light"
     },
     "output_type": "display_data"
    }
   ],
   "source": [
    "#### plotting ####\n",
    "from matplotlib import pyplot as plt\n",
    "%matplotlib inline\n",
    "\n",
    "# unique entries:\n",
    "maxiter = list(set([x[1] for x in rmserrors.keys()]))\n",
    "numberLatentFactors = list(set([x[0] for x in rmserrors.keys()]))\n",
    "\n",
    "for numberLatentFactors in range(1,11):\n",
    "    currenrmse = [rmserrors[numberLatentFactors,m] for m in maxiter]\n",
    "    if numberLatentFactors in [1,2,3]:\n",
    "        plt.plot(maxiter,currenrmse,'o-',label=numberLatentFactors)\n",
    "    else:\n",
    "        plt.plot(maxiter,currenrmse,label=numberLatentFactors)\n",
    "    plt.xlabel('max number of iterations')\n",
    "    plt.ylabel('mean square error')\n",
    "plt.yscale('log')\n",
    "plt.legend(loc='upper right', bbox_to_anchor=(1.45, 0.8))\n",
    "plt.show()"
   ]
  },
  {
   "cell_type": "markdown",
   "metadata": {},
   "source": [
    "It looks like 2 latent factors are doing a good job here. Large numbers of factors or iteration counts do not seem to help all that much, but increase overfitting (for our small data set).\n",
    "\n",
    "**Homework: Will this change, if you include stronger regularisation? Loop over a few values for the regularisation parameter and few values of the number of latent factors to get a similar graph to the one below).**"
   ]
  },
  {
   "cell_type": "code",
   "execution_count": 8,
   "metadata": {},
   "outputs": [
    {
     "data": {
      "image/png": "[encoded data removed]",
      "text/plain": [
       "<Figure size 432x288 with 1 Axes>"
      ]
     },
     "metadata": {
      "needs_background": "light"
     },
     "output_type": "display_data"
    }
   ],
   "source": [
    "# your code. my plot looked something like this:"
   ]
  },
  {
   "cell_type": "code",
   "execution_count": 40,
   "metadata": {},
   "outputs": [],
   "source": [
    "als = ALS(rank=2, maxIter=8, regParam=0.01, \n",
    "          userCol=\"userId\", itemCol=\"movieId\", ratingCol=\"rating\", \n",
    "          coldStartStrategy=\"drop\")\n",
    "\n",
    "model = als.fit(training)"
   ]
  },
  {
   "cell_type": "markdown",
   "metadata": {},
   "source": [
    "## Recommendations\n",
    "Let's look at some of the predictions we have generated."
   ]
  },
  {
   "cell_type": "code",
   "execution_count": 43,
   "metadata": {},
   "outputs": [],
   "source": [
    "# Generate top 10 movie recommendations for each user\n",
    "userRecs = model.recommendForAllUsers(10)\n",
    "\n",
    "# Generate top 10 user recommendations for each movie\n",
    "movieRecs = model.recommendForAllItems(10)"
   ]
  },
  {
   "cell_type": "code",
   "execution_count": 44,
   "metadata": {},
   "outputs": [
    {
     "name": "stdout",
     "output_type": "stream",
     "text": [
      "+------+--------------------+\n",
      "|userId|     recommendations|\n",
      "+------+--------------------+\n",
      "|   148|[[4518, 12.14519]...|\n",
      "|   471|[[70946, 8.451179...|\n",
      "|   463|[[4518, 9.926472]...|\n",
      "|   496|[[4518, 9.125513]...|\n",
      "|   540|[[4518, 11.83913]...|\n",
      "|   392|[[5181, 13.392995...|\n",
      "|   243|[[70946, 12.05647...|\n",
      "|    31|[[4518, 15.930488...|\n",
      "|   516|[[4518, 14.020818...|\n",
      "|   580|[[4518, 12.466761...|\n",
      "|   251|[[4518, 10.624662...|\n",
      "|   451|[[70946, 11.76740...|\n",
      "|    85|[[4518, 11.635759...|\n",
      "|   137|[[484, 8.252415],...|\n",
      "|    65|[[4518, 12.219793...|\n",
      "|   458|[[4518, 18.430695...|\n",
      "|   588|[[5919, 7.6203976...|\n",
      "|   481|[[4518, 11.847674...|\n",
      "|    53|[[4518, 14.653845...|\n",
      "|   255|[[4518, 20.144394...|\n",
      "+------+--------------------+\n",
      "only showing top 20 rows\n",
      "\n",
      "+-------+--------------------+\n",
      "|movieId|     recommendations|\n",
      "+-------+--------------------+\n",
      "|   1580|[[53, 4.9620175],...|\n",
      "|   4900|[[55, 11.967562],...|\n",
      "|   5300|[[291, 5.490572],...|\n",
      "|   6620|[[55, 7.296524], ...|\n",
      "|   7340|[[485, 7.8186564]...|\n",
      "|  32460|[[485, 12.6046], ...|\n",
      "|  54190|[[485, 6.5308695]...|\n",
      "|   1342|[[55, 4.5147815],...|\n",
      "|   2122|[[55, 7.006954], ...|\n",
      "|   2142|[[53, 4.2240477],...|\n",
      "|   7982|[[55, 14.152824],...|\n",
      "|  44022|[[485, 5.3130093]...|\n",
      "| 141422|[[55, 3.8368187],...|\n",
      "| 144522|[[53, 3.5130484],...|\n",
      "|    496|[[55, 8.222382], ...|\n",
      "|   2366|[[55, 8.064649], ...|\n",
      "|   2866|[[55, 6.1187563],...|\n",
      "|   5156|[[291, 3.875435],...|\n",
      "|   6336|[[291, 4.504387],...|\n",
      "|   6466|[[485, 10.513004]...|\n",
      "+-------+--------------------+\n",
      "only showing top 20 rows\n",
      "\n"
     ]
    }
   ],
   "source": [
    "userRecs.show()\n",
    "\n",
    "movieRecs.show()"
   ]
  },
  {
   "cell_type": "markdown",
   "metadata": {},
   "source": [
    "## Analysis of the recommendation results for a specific user"
   ]
  },
  {
   "cell_type": "markdown",
   "metadata": {},
   "source": [
    "### Get the titles and genres of movies"
   ]
  },
  {
   "cell_type": "code",
   "execution_count": 45,
   "metadata": {},
   "outputs": [
    {
     "name": "stdout",
     "output_type": "stream",
     "text": [
      "Row(movieId=1, title='Toy Story (1995)', genre='Adventure|Animation|Children|Comedy|Fantasy')\n",
      "Row(movieId=2, title='Jumanji (1995)', genre='Adventure|Children|Fantasy')\n",
      "Row(movieId=3, title='Grumpier Old Men (1995)', genre='Comedy|Romance')\n",
      "Row(movieId=4, title='Waiting to Exhale (1995)', genre='Comedy|Drama|Romance')\n"
     ]
    }
   ],
   "source": [
    "movie_schema = StructType([\n",
    "    StructField(\"movieId\", LongType(), True),    \n",
    "    StructField(\"title\", StringType(), True),\n",
    "    StructField(\"genre\", StringType(), True)\n",
    "])\n",
    "\n",
    "movies = spark.read.csv(folder+\"movies.csv\", header=True, schema=movie_schema)\n",
    "\n",
    "[print(x) for x in movies.head(4)];"
   ]
  },
  {
   "cell_type": "markdown",
   "metadata": {},
   "source": [
    "### Check the movies rated by a user"
   ]
  },
  {
   "cell_type": "code",
   "execution_count": 47,
   "metadata": {},
   "outputs": [],
   "source": [
    "#user_id = [i[0] for i in userRecs.select(\"userId\").collect()]\n",
    "\n",
    "user_id = userRecs.select(\"userId\").take(1)[0][0]\n",
    "\n",
    "user_rating = ratings.filter(ratings.userId.isin(user_id))\n",
    "\n",
    "high_user_movie_id = [i[0] for i in user_rating.select(\"movieId\").filter(ratings.rating == 5).collect()]\n",
    "\n",
    "low_user_movie_id = [i[0] for i in user_rating.select(\"movieId\").filter(ratings.rating <= 2).collect()]"
   ]
  },
  {
   "cell_type": "code",
   "execution_count": 48,
   "metadata": {},
   "outputs": [
    {
     "name": "stdout",
     "output_type": "stream",
     "text": [
      "[30816, 40629, 98491]\n",
      "[79132]\n"
     ]
    }
   ],
   "source": [
    "print(high_user_movie_id)\n",
    "print(low_user_movie_id)"
   ]
  },
  {
   "cell_type": "markdown",
   "metadata": {},
   "source": [
    "### Check the highest rated movies by this user"
   ]
  },
  {
   "cell_type": "code",
   "execution_count": 50,
   "metadata": {
    "scrolled": true
   },
   "outputs": [
    {
     "data": {
      "text/plain": [
       "[Row(title='Phantom of the Opera, The (2004)'),\n",
       " Row(title='Pride & Prejudice (2005)'),\n",
       " Row(title='Paperman (2012)')]"
      ]
     },
     "execution_count": 50,
     "metadata": {},
     "output_type": "execute_result"
    }
   ],
   "source": [
    "movies.select(\"title\").filter(movies.movieId.isin(high_user_movie_id)).collect()"
   ]
  },
  {
   "cell_type": "code",
   "execution_count": 51,
   "metadata": {},
   "outputs": [],
   "source": [
    "recommended_movie = userRecs.filter(userRecs.userId.isin(user_id))\n",
    "\n",
    "recommended_movie_id = [i[0] for i in recommended_movie.select(\"recommendations\").collect()[0][0]]"
   ]
  },
  {
   "cell_type": "markdown",
   "metadata": {},
   "source": [
    "### Check the lowest rated movies"
   ]
  },
  {
   "cell_type": "code",
   "execution_count": 52,
   "metadata": {
    "scrolled": true
   },
   "outputs": [
    {
     "data": {
      "text/plain": [
       "[Row(title='Inception (2010)')]"
      ]
     },
     "execution_count": 52,
     "metadata": {},
     "output_type": "execute_result"
    }
   ],
   "source": [
    "movies.select(\"title\").filter(movies.movieId.isin(low_user_movie_id)).collect()"
   ]
  },
  {
   "cell_type": "markdown",
   "metadata": {},
   "source": [
    "### Check the recommended movies"
   ]
  },
  {
   "cell_type": "code",
   "execution_count": 53,
   "metadata": {},
   "outputs": [],
   "source": [
    "recommended_movie = userRecs.filter(userRecs.userId.isin(user_id))\n",
    "\n",
    "recommended_movie_id = [i[0] for i in recommended_movie.select(\"recommendations\").collect()[0][0]]"
   ]
  },
  {
   "cell_type": "code",
   "execution_count": 54,
   "metadata": {},
   "outputs": [
    {
     "data": {
      "text/plain": [
       "[Row(title='My Man Godfrey (1936)'),\n",
       " Row(title='Mrs. Dalloway (1997)'),\n",
       " Row(title='The Lair of the White Worm (1988)'),\n",
       " Row(title='Looker (1981)'),\n",
       " Row(title='Android (1982)'),\n",
       " Row(title='Master of the Flying Guillotine (Du bi quan wang da po xue di zi) (1975)'),\n",
       " Row(title='Death Race 2000 (1975)'),\n",
       " Row(title='All of Me (1984)'),\n",
       " Row(title='Clonus Horror, The (1979)'),\n",
       " Row(title='Grown Ups 2 (2013)')]"
      ]
     },
     "execution_count": 54,
     "metadata": {},
     "output_type": "execute_result"
    }
   ],
   "source": [
    "movies.select(\"title\").filter(movies.movieId.isin(recommended_movie_id)).collect()"
   ]
  },
  {
   "cell_type": "code",
   "execution_count": 55,
   "metadata": {
    "scrolled": true
   },
   "outputs": [
    {
     "data": {
      "text/plain": [
       "[12.145190238952637,\n",
       " 11.635612487792969,\n",
       " 9.242158889770508,\n",
       " 8.631134033203125,\n",
       " 7.631368637084961,\n",
       " 7.274921894073486,\n",
       " 7.264993667602539,\n",
       " 7.264993667602539,\n",
       " 7.264993667602539,\n",
       " 7.225142478942871]"
      ]
     },
     "execution_count": 55,
     "metadata": {},
     "output_type": "execute_result"
    }
   ],
   "source": [
    "[i[1] for i in recommended_movie.select(\"recommendations\").collect()[0][0]]"
   ]
  },
  {
   "cell_type": "markdown",
   "metadata": {},
   "source": [
    "# How about training on the large data set?\n",
    "Let's run the training on the large data set to see how resource intensive training with ALS can get."
   ]
  },
  {
   "cell_type": "code",
   "execution_count": 59,
   "metadata": {},
   "outputs": [
    {
     "name": "stdout",
     "output_type": "stream",
     "text": [
      "Row(userId=1, movieId=307, rating=3.5, timestamp=1256677221)\n",
      "Row(userId=1, movieId=481, rating=3.5, timestamp=1256677456)\n",
      "Row(userId=1, movieId=1091, rating=1.5, timestamp=1256677471)\n",
      "Row(userId=1, movieId=1257, rating=4.5, timestamp=1256677460)\n"
     ]
    }
   ],
   "source": [
    "folder = \"hdfs:///ml-latest/\" \n",
    "\n",
    "rating_schema = StructType([\n",
    "    StructField(\"userId\", LongType(), True),    \n",
    "    StructField(\"movieId\", LongType(), True),\n",
    "    StructField(\"rating\", FloatType(), True),\n",
    "    StructField(\"timestamp\", LongType(), True)\n",
    "])\n",
    "\n",
    "ratings = spark.read.csv(folder+\"ratings.csv\", header=True, schema=rating_schema)\n",
    "\n",
    "[print(x) for x in ratings.head(4)];"
   ]
  },
  {
   "cell_type": "code",
   "execution_count": 60,
   "metadata": {},
   "outputs": [
    {
     "name": "stdout",
     "output_type": "stream",
     "text": [
      "Number of partitions:  6\n",
      "Number of workers: 2\n"
     ]
    }
   ],
   "source": [
    "# split the data to training and test parts\n",
    "(training, test) = ratings.randomSplit([0.7, 0.3], seed=10)\n",
    "training.cache()\n",
    "test.cache()\n",
    "print('Number of partitions: ', training.rdd.getNumPartitions())\n",
    "print('Number of workers:', sc._conf.get('spark.executor.instances'))"
   ]
  },
  {
   "cell_type": "markdown",
   "metadata": {},
   "source": [
    "Note that we are now automatically using more partitions!\n",
    "\n",
    "The training below should take some time to run. If you monitor the CPU usage on the workers (you can check this by connecing to a worker through `ssh` and running `top`), you should see several processes that require multiple threads:\n",
    "\n",
    "```\n",
    "  PID USER      PR  NI    VIRT    RES    SHR S  %CPU %MEM     TIME+ COMMAND                                          \n",
    " 8104 yarn      21   1 8040464 3.430g  50588 S 198.7 23.3  15:22.39 java                                             \n",
    " 9200 yarn      21   1 8034636 3.477g  50600 S 198.7 23.7  15:24.15 java      \n",
    " ...\n",
    "```\n"
   ]
  },
  {
   "cell_type": "code",
   "execution_count": 64,
   "metadata": {},
   "outputs": [
    {
     "name": "stdout",
     "output_type": "stream",
     "text": [
      "latent factors:  2\n",
      "Root-mean-square error:  0.8569316356029683\n",
      "\n",
      "\n",
      "latent factors:  5\n",
      "Root-mean-square error:  0.8400232653607848\n",
      "\n",
      "\n"
     ]
    }
   ],
   "source": [
    "for numberLatentFactors in [2,5]:\n",
    "    als = ALS(rank=numberLatentFactors, maxIter=6, regParam=0.01, \n",
    "      userCol=\"userId\", itemCol=\"movieId\", ratingCol=\"rating\", \n",
    "      coldStartStrategy=\"drop\")\n",
    "\n",
    "    model = als.fit(training)\n",
    "\n",
    "    predictions = model.transform(test)\n",
    "\n",
    "    evaluator = RegressionEvaluator(metricName=\"rmse\", \n",
    "                            labelCol=\"rating\", predictionCol=\"prediction\")\n",
    "\n",
    "    rmse = evaluator.evaluate(predictions)\n",
    "\n",
    "    print(\"latent factors: \", numberLatentFactors)\n",
    "    rmserrors[(numberLatentFactors)] = rmse\n",
    "    print(\"Root-mean-square error: \", rmse)\n",
    "    print(\"\\n\")"
   ]
  },
  {
   "cell_type": "markdown",
   "metadata": {},
   "source": [
    "This might take a couple of minutes.\n",
    "\n",
    "For the larger data set, it seems that using more factors was a good idea."
   ]
  },
  {
   "cell_type": "markdown",
   "metadata": {},
   "source": [
    "For the definition of the RMSE, have a look here:\n",
    "https://people.apache.org/~pwendell/spark-nightly/spark-master-docs/latest/mllib-evaluation-metrics.html#regression-model-evaluation"
   ]
  },
  {
   "cell_type": "code",
   "execution_count": null,
   "metadata": {},
   "outputs": [],
   "source": []
  }
 ],
 "metadata": {
  "kernelspec": {
   "display_name": "Python 3",
   "language": "python",
   "name": "python3"
  },
  "language_info": {
   "codemirror_mode": {
    "name": "ipython",
    "version": 3
   },
   "file_extension": ".py",
   "mimetype": "text/x-python",
   "name": "python",
   "nbconvert_exporter": "python",
   "pygments_lexer": "ipython3",
   "version": "3.6.6"
  }
 },
 "nbformat": 4,
 "nbformat_minor": 2
}
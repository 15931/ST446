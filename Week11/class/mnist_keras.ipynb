{
  "nbformat": 4,
  "nbformat_minor": 0,
  "metadata": {
    "accelerator": "GPU",
    "anaconda-cloud": {},
    "colab": {
      "name": "mnist-keras",
      "provenance": [],
      "collapsed_sections": [],
      "toc_visible": true,
      "include_colab_link": true
    },
    "kernelspec": {
      "name": "python3",
      "display_name": "Python 3"
    },
    "language_info": {
      "codemirror_mode": {
        "name": "ipython",
        "version": 3
      },
      "file_extension": ".py",
      "mimetype": "text/x-python",
      "name": "python",
      "nbconvert_exporter": "python",
      "pygments_lexer": "ipython3",
      "version": "3.7.4-final"
    }
  },
  "cells": [
    {
      "cell_type": "markdown",
      "metadata": {
        "id": "view-in-github",
        "colab_type": "text"
      },
      "source": [
        "<a href=\"https://colab.research.google.com/github/lse-st446/lectures2021/blob/master/Week11/class/mnist_keras.ipynb\" target=\"_parent\"><img src=\"https://colab.research.google.com/assets/colab-badge.svg\" alt=\"Open In Colab\"/></a>"
      ]
    },
    {
      "cell_type": "markdown",
      "metadata": {
        "colab_type": "text",
        "id": "USSV_OlCFKOD"
      },
      "source": [
        "### ST446 Distributed Computing for Big Data, LT 2020\n",
        "\n",
        "# Seminar 10: Distributed dataflow graph computations\n",
        "\n",
        "## Exercise 1: Get started with TensorFlow 2.x using Keras\n",
        "\n",
        "The goal of this exercise is to get you started with training neural networks using TensorFlow 2.x. The task is to define and train a simple neural network using the Sequential API (Keras), for the image recognition task of recognizing handwritten digits using MNIST dataset.\n",
        "\n",
        "This exercise is designed for new users with limited prior experience with using TensorFlow.\n",
        "\n",
        "This exercise is adapted from the tutorial [keras-example](https://www.tensorflow.org/datasets/keras_example) which is part of tensorflow.org.\n",
        "\n",
        "Please run this notebook in [Google Colab](https://colab.research.google.com/)."
      ]
    },
    {
      "cell_type": "markdown",
      "metadata": {
        "colab_type": "text",
        "id": "aDfnuJz3TuSm"
      },
      "source": [
        "## TensorFlow 2.x\n",
        "\n",
        "<img src=\"https://miro.medium.com/max/1200/1*d9fr2hmMzk-3MjOw2cOt0w.png\" alt=\"drawing\" width=\"400\"/>\n",
        "\n",
        "[TensorFlow](https://www.tensorflow.org/) is an open source library that enables you to develop, train and deploy machine learning models. TensorFlow is one of the most popular machine learning open source libraries.\n",
        "\n",
        "In this notebook, we will use [TensorFlow 2.x](https://www.tensorflow.org/guide/effective_tf2) which is more user-friendly compared to its first version, with new APIs and new distributed computing paradigms.\n",
        "\n",
        "TensorFlow 2.x provides different API modules that helps you to create neural network models with different level of controllability, which include\n",
        "\n",
        "* `Sequential` API + built-in layers: new users, simple models\n",
        "* `Functional` API + built-in layers: engineers with standard use cases\n",
        "* `Functional` API + custom layers + custom metrics + custom losses: engineers require increasing control\n",
        "* `Subclassing` + custom training loops: writing everything yourself from scratch \n",
        "\n",
        "In this notebook, we will use `Sequential` API to create, train and deploy our neural network."
      ]
    },
    {
      "cell_type": "markdown",
      "metadata": {
        "colab_type": "text",
        "id": "KeSwPSeaYQgL"
      },
      "source": [
        "Keras is a high-level API that can be run in different software frameworks, including TensorFlow, CNTK, and Theano. It was developed with a focus on enabling fast experimentations. \n",
        "\n",
        "To access `Keras` in TensorFlow 2.x, we use `tensorflow.Keras`. The core data structure of Keras is a **model**, which provides a simple way to define neural network layers. The simplest model is the `Sequential` model, a stack of neural network layers. For more complex architectures, you should use the Functional API or subclassing, which allow to build arbitrary data flow graphs."
      ]
    },
    {
      "cell_type": "markdown",
      "metadata": {
        "colab_type": "text",
        "id": "AvrZ0BFDSTcT"
      },
      "source": [
        "## MNIST: dataset of images of handwritten digits\n",
        "\n",
        "![MnistExamples](https://upload.wikimedia.org/wikipedia/commons/2/27/MnistExamples.png)\n",
        "\n",
        "The [MNIST](http://yann.lecun.com/exdb/mnist/) dataset consists of 70,000 images of handwritten digits, with 60,000 as training examples and 10,000 as test examples.\n",
        "\n",
        "This dataset is often used as a simple baseline for evaluating machine learning models for image recognition tasks.\n",
        "\n",
        "TensorFlow 2.x provides a module `tensorflow_datasets` to download frequently used datasets like MNIST.\n",
        "\n",
        "Each example in this dataset is an image of 28x28 pixels and the label indicating the digit shown in the image. \n",
        "\n",
        "We will use a simple neural network for handwritten digit recognition using MNIST dataset."
      ]
    },
    {
      "cell_type": "code",
      "metadata": {
        "colab_type": "code",
        "id": "TTBSvHcSLBzc",
        "colab": {}
      },
      "source": [
        "import tensorflow.compat.v2 as tf\n",
        "import tensorflow_datasets as tfds\n",
        "import datetime\n",
        "\n",
        "\n",
        "tfds.disable_progress_bar()\n",
        "tf.enable_v2_behavior()\n",
        "\n",
        "try:\n",
        "  # %tensorflow_version only exists in Colab.\n",
        "  %tensorflow_version 2.x\n",
        "except Exception:\n",
        "  pass\n",
        "\n",
        "# Load the TensorBoard notebook extension\n",
        "%load_ext tensorboard"
      ],
      "execution_count": 0,
      "outputs": []
    },
    {
      "cell_type": "markdown",
      "metadata": {
        "colab_type": "text",
        "id": "VjI6VgOBf0v0"
      },
      "source": [
        "## Step 1: Create an input data pipeline\n",
        "\n",
        "Build an efficient input data pipeline using instructions provided here:\n",
        "* [TFDS performance guide](https://www.tensorflow.org/datasets/performances)\n",
        "* [tf.data performance guide](https://www.tensorflow.org/guide/data_performance#optimize_performance)\n"
      ]
    },
    {
      "cell_type": "markdown",
      "metadata": {
        "colab_type": "text",
        "id": "c3aH3vP_XLI8"
      },
      "source": [
        "### Load MNIST dataset\n",
        "\n",
        "Load the MNIST dataset using the following arguments:\n",
        "\n",
        "* `shuffle_files`: MNIST dataset is stored in a single file. For larger datasets with multiple files, it is a good practice to shuffle them when training.\n",
        "* `as_supervised`: returns tuple `(img, label)` instead of dict `{'image': img, 'label': label}`"
      ]
    },
    {
      "cell_type": "code",
      "metadata": {
        "colab_type": "code",
        "id": "ZUMhCXhFXdHQ",
        "colab": {}
      },
      "source": [
        "(ds_train, ds_test), ds_info = tfds.load(\n",
        "    'mnist',\n",
        "    split=['train', 'test'],\n",
        "    shuffle_files=True,\n",
        "    as_supervised=True,\n",
        "    with_info=True,\n",
        ")"
      ],
      "execution_count": 0,
      "outputs": []
    },
    {
      "cell_type": "markdown",
      "metadata": {
        "colab_type": "text",
        "id": "rgwCFAcWXQTx"
      },
      "source": [
        "### Build a training pipeline\n",
        "\n",
        "Apply the following transformations:\n",
        "\n",
        "* `ds.map`: transform the data type of images; `tfds` provides images in `tf.uint8` data type, while the model expects `tf.float32`\n",
        "* `ds.cache`: as the dataset fits in memory, cache before shuffling for better performance\n",
        "* `ds.shuffle`: shuffle the dataset.\n",
        "__Note:__ for large datasets that do not fit in memory, a standard value is 1000 if your system allows it.\n",
        "* `ds.batch`: batch after shuffling to get unique batches at each epoch\n",
        "* `ds.prefetch`: good practice to end the pipeline by prefetching for performance reeasons (see [here](https://www.tensorflow.org/guide/data_performance#prefetching))"
      ]
    },
    {
      "cell_type": "code",
      "metadata": {
        "colab_type": "code",
        "id": "haykx2K9XgiI",
        "colab": {}
      },
      "source": [
        "def normalize_img(image, label):\n",
        "  \"\"\"Normalizes images: `uint8` -> `float32`.\"\"\"\n",
        "  return tf.cast(image, tf.float32) / 255., label\n",
        "\n",
        "ds_train = ds_train.map(\n",
        "    normalize_img, num_parallel_calls=tf.data.experimental.AUTOTUNE)\n",
        "ds_train = ds_train.cache()\n",
        "ds_train = ds_train.shuffle(ds_info.splits['train'].num_examples)\n",
        "ds_train = ds_train.batch(128)\n",
        "ds_train = ds_train.prefetch(tf.data.experimental.AUTOTUNE)"
      ],
      "execution_count": 0,
      "outputs": []
    },
    {
      "cell_type": "markdown",
      "metadata": {
        "colab_type": "text",
        "id": "RbsMy4X1XVFv"
      },
      "source": [
        "### Build an evaluation pipeline\n",
        "\n",
        "Evaluation pipeline is similar to the training pipeline, with a few differences:\n",
        "\n",
        " * No `ds.shuffle()` call\n",
        " * Caching is done after batching (as batches of the validation set is the same across different epochs)"
      ]
    },
    {
      "cell_type": "code",
      "metadata": {
        "colab_type": "code",
        "id": "A0KjuDf7XiqY",
        "colab": {}
      },
      "source": [
        "ds_test = ds_test.map(\n",
        "    normalize_img, num_parallel_calls=tf.data.experimental.AUTOTUNE)\n",
        "ds_test = ds_test.batch(128)\n",
        "ds_test = ds_test.cache()\n",
        "ds_test = ds_test.prefetch(tf.data.experimental.AUTOTUNE)"
      ],
      "execution_count": 0,
      "outputs": []
    },
    {
      "cell_type": "markdown",
      "metadata": {
        "colab_type": "text",
        "id": "nTFoji3INMEM"
      },
      "source": [
        "## Step 2: Create and train the model"
      ]
    },
    {
      "cell_type": "markdown",
      "metadata": {
        "id": "Fvnus69cyYGh",
        "colab_type": "text"
      },
      "source": [
        "### 2.a. Create a neural network\n",
        "\n",
        "We use the built-in `Sequential` API to create our neural network and `plot_model()` function to plot the architecture of the neural network."
      ]
    },
    {
      "cell_type": "code",
      "metadata": {
        "colab_type": "code",
        "id": "XcrvxlCkCPQ2",
        "colab": {}
      },
      "source": [
        "model = tf.keras.models.Sequential([\n",
        "  tf.keras.layers.Flatten(input_shape=(28, 28, 1)),\n",
        "  tf.keras.layers.Dense(128,activation='relu'),\n",
        "  tf.keras.layers.Dense(10, activation='softmax')\n",
        "])\n",
        "\n",
        "tf.keras.utils.plot_model(model, 'mnist-keras.png', show_shapes=True)"
      ],
      "execution_count": 0,
      "outputs": []
    },
    {
      "cell_type": "code",
      "execution_count": 1,
      "metadata": {},
      "outputs": [
        {
          "output_type": "execute_result",
          "data": {
            "image/png": "[encoded data removed]",
            "text/plain": "<IPython.core.display.Image object>"
          },
          "metadata": {},
          "execution_count": 1
        }
      ],
      "source": [
        "import IPython\n",
        "IPython.display.Image(\"figs/lnn.png\")"
      ]
    },
    {
      "cell_type": "markdown",
      "metadata": {
        "colab_type": "text",
        "id": "GCLz780vCWl-"
      },
      "source": [
        "### 2.b. Specifying a loss function, optimizer, and evaluation metrics\n",
        "\n",
        "To train a model with the `fit` function, you need to specify a loss function, an optimizer, and optionally, some metrics to monitor.\n",
        "\n",
        "You can pass information about your choices to the model as arguments to the `compile()` method.\n",
        "\n",
        "To probe more on the `compile()` method see are [here](https://www.tensorflow.org/guide/keras/train_and_evaluate#specifying_a_loss_metrics_and_an_optimizer)."
      ]
    },
    {
      "cell_type": "code",
      "metadata": {
        "colab_type": "code",
        "id": "7LRMns9NCh7q",
        "colab": {}
      },
      "source": [
        "model.compile(\n",
        "    loss='sparse_categorical_crossentropy',\n",
        "    optimizer=tf.keras.optimizers.Adam(0.001),\n",
        "    metrics=['accuracy'],\n",
        ")"
      ],
      "execution_count": 0,
      "outputs": []
    },
    {
      "cell_type": "markdown",
      "metadata": {
        "colab_type": "text",
        "id": "xYbp0v1pFJHj"
      },
      "source": [
        "### 2.c. Training and visualizing your model\n",
        "\n",
        "You need to pass the training dataset, number of training epochs, and the validation dataset to train and evaluate your model.\n",
        "\n",
        "When training by using the `fit()` function, adding the `tf.keras.callbacks.TensorBoard` callback logs are created and stored. Additionally, enable the histogram computation every epoch with `histogram_freq=1` (this is off by default).\n",
        "\n",
        "`histogram_freq`: frequency (in epochs) at which to compute activation and weight histograms for the layers of the model. If set to 0, histograms won't be computed. Validation data (or split) must be specified for histogram visualizations."
      ]
    },
    {
      "cell_type": "code",
      "metadata": {
        "colab_type": "code",
        "id": "XWqxdmS1NLKA",
        "colab": {}
      },
      "source": [
        "timenow = datetime.datetime.now().strftime(\"%Y%m%d-%H%M%S\")\n",
        "\n",
        "log_dir = \"logs/fit/\" + timenow\n",
        "tensorboard_callback = tf.keras.callbacks.TensorBoard(log_dir=log_dir, histogram_freq=1)\n",
        "\n",
        "model.fit(\n",
        "    ds_train,\n",
        "    epochs=6,\n",
        "    validation_data=ds_test,\n",
        "    callbacks=[tensorboard_callback]\n",
        ")"
      ],
      "execution_count": 0,
      "outputs": []
    },
    {
      "cell_type": "markdown",
      "metadata": {
        "colab_type": "text",
        "id": "hRII3qn3JUjV"
      },
      "source": [
        "You may open TensorBoard using the following magic command (we pass the path to the tensorflow logging files which are in `logs/fit` as we specified in the last code cell above):"
      ]
    },
    {
      "cell_type": "code",
      "metadata": {
        "colab_type": "code",
        "id": "bPJFGAF9JAvw",
        "colab": {}
      },
      "source": [
        "%tensorboard --logdir logs/fit"
      ],
      "execution_count": 0,
      "outputs": []
    },
    {
      "cell_type": "markdown",
      "metadata": {
        "id": "-NyOiMEryk1D",
        "colab_type": "text"
      },
      "source": [
        "![tensorboard](https://github.com/tensorflow/tensorboard/blob/master/docs/images/quickstart_model_fit.png?raw=1)"
      ]
    },
    {
      "cell_type": "markdown",
      "metadata": {
        "colab_type": "text",
        "id": "zuU2ZdKNKNNQ"
      },
      "source": [
        "## Step 3: Save your model\n",
        "\n",
        "`tf.keras.models.save_model` saves the model as a TensorFlow SavedModel or HDF5 file."
      ]
    },
    {
      "cell_type": "code",
      "metadata": {
        "colab_type": "code",
        "id": "6h2t52-IKhmX",
        "colab": {}
      },
      "source": [
        "saved_model_file = \"models/\" + timenow\n",
        "tf.keras.models.save_model(model, saved_model_file)"
      ],
      "execution_count": 0,
      "outputs": []
    },
    {
      "cell_type": "markdown",
      "metadata": {
        "colab_type": "text",
        "id": "Xeunfs85B8zM"
      },
      "source": [
        "## Exercises\n",
        "\n",
        "Here are some exercises that you may try on your own:\n",
        "\n",
        "1. Change the hidden layer to a convolutional layer and train your model again. Compare the accuracies of the two models on the validation set.\n",
        "\n",
        "2. Use the `SGD` optimizer instead of `Adam` and compare the training losses and the validation losses.\n",
        "\n",
        "3. In Step 2.c above, we log the training process by creating a TensorBoard callback. We can also create other callbacks to customize the model during training, evaluation, and inference, e.g. including reading/changing the Keras model. Use the callback to stop training the model whenever the training loss is less than 0.1"
      ]
    },
    {
      "cell_type": "markdown",
      "metadata": {
        "colab_type": "text",
        "id": "bnWGZItBBV-A"
      },
      "source": [
        "## References\n",
        "\n",
        "\n",
        "Introduction to TensorFlow 2.x\n",
        "* [Effective TensorFlow 2](https://www.tensorflow.org/guide/effective_tf2)\n",
        "* [Introduction to TensorFlow 2.0: Easier for beginners, and more powerful for experts](https://www.youtube.com/watch?v=5ECD8J3dvDQ), TF World 2019 conference\n",
        "\n",
        "TensorFlow Keras\n",
        "* https://www.tensorflow.org/guide/keras/overview"
      ]
    },
    {
      "cell_type": "code",
      "metadata": {
        "colab_type": "code",
        "id": "emQXbBmwLlGO",
        "colab": {}
      },
      "source": [
        ""
      ],
      "execution_count": 0,
      "outputs": []
    }
  ]
}
